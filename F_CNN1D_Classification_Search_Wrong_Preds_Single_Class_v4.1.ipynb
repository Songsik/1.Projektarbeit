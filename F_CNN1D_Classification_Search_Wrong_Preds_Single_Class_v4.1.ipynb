{
 "cells": [
  {
   "cell_type": "markdown",
   "id": "0718da0e",
   "metadata": {},
   "source": [
    "# Overview of this jupyter notebook\n",
    "\n",
    "1. Load feature & label and split into train & test data\n",
    "2. First Classification with a random model\n",
    "3. Evaluate the trained model with confusion matrix\n",
    "4. Search and visualize wrongly predicted curves in each class"
   ]
  },
  {
   "cell_type": "code",
   "execution_count": 1,
   "id": "12f23059",
   "metadata": {},
   "outputs": [],
   "source": [
    "import pandas as pd\n",
    "import numpy as np\n",
    "import plotly.graph_objects as go\n",
    "import plotly.express as px\n",
    "import matplotlib.pyplot as plt\n",
    "import seaborn as sns\n",
    "%matplotlib inline\n",
    "from sklearn.preprocessing import MinMaxScaler\n",
    "from sklearn.metrics import confusion_matrix, ConfusionMatrixDisplay, classification_report\n",
    "from sklearn.metrics import accuracy_score, recall_score, precision_score, f1_score\n",
    "from sklearn.model_selection import train_test_split, cross_val_score, GridSearchCV, KFold, cross_validate\n",
    "from sklearn.model_selection import cross_val_predict\n",
    "import pickle\n",
    "import json\n",
    "from tqdm.notebook import tqdm_notebook as tq\n",
    "from warnings import filterwarnings\n",
    "filterwarnings('ignore')"
   ]
  },
  {
   "cell_type": "code",
   "execution_count": 2,
   "id": "3fd95cb8",
   "metadata": {},
   "outputs": [],
   "source": [
    "import tensorflow as tf\n",
    "from tensorflow import keras\n",
    "from tensorflow.keras.wrappers.scikit_learn import KerasClassifier\n",
    "from tensorflow.keras.utils import to_categorical, plot_model\n",
    "from tensorflow.keras.models import Sequential, clone_model, load_model\n",
    "from tensorflow.keras.layers import Dense, Conv1D, Flatten, MaxPooling1D, Dropout, Input, BatchNormalization\n",
    "from tensorflow.keras.callbacks import EarlyStopping\n",
    "from tensorflow.keras.optimizers import Adam, SGD, RMSprop, Adamax\n",
    "import keras_tuner as kt"
   ]
  },
  {
   "cell_type": "code",
   "execution_count": 3,
   "id": "b54e015d",
   "metadata": {},
   "outputs": [
    {
     "name": "stdout",
     "output_type": "stream",
     "text": [
      "<module 'library.etl_data' from 'C:\\\\Users\\\\songs\\\\OneDrive\\\\Desktop\\\\0. PA_FAPS\\\\Code\\\\library\\\\etl_data.py'>\n",
      "<module 'library.faps_color' from 'C:\\\\Users\\\\songs\\\\OneDrive\\\\Desktop\\\\0. PA_FAPS\\\\Code\\\\library\\\\faps_color.py'>\n",
      "<module 'library.classification_util' from 'C:\\\\Users\\\\songs\\\\OneDrive\\\\Desktop\\\\0. PA_FAPS\\\\Code\\\\library\\\\classification_util.py'>\n"
     ]
    }
   ],
   "source": [
    "import os\n",
    "import importlib\n",
    "from library import etl_data as etl             # this module contains functions that load, visualize and save the data\n",
    "from library import faps_color as fapsc         # this module contains the color combination of FAPS Institute\n",
    "from library import classification_util as cu   # this module contains helper functions for the classification task\n",
    "print(importlib.reload(etl))\n",
    "print(importlib.reload(fapsc))\n",
    "print(importlib.reload(cu))"
   ]
  },
  {
   "cell_type": "code",
   "execution_count": 4,
   "id": "2f0dd89f",
   "metadata": {},
   "outputs": [
    {
     "name": "stdout",
     "output_type": "stream",
     "text": [
      "TensorFlow version:  2.8.0\n",
      "Num GPUs Available:  1\n",
      "Name:  /device:GPU:0\n"
     ]
    }
   ],
   "source": [
    "# GPU check\n",
    "\n",
    "if len(tf.config.list_physical_devices('GPU')) > 0:\n",
    "    print(\"TensorFlow version: \", tf.__version__)\n",
    "    print(\"Num GPUs Available: \", len(tf.config.list_physical_devices('GPU')))\n",
    "    print(\"Name: \", tf.test.gpu_device_name())\n",
    "else:\n",
    "    print(\"TensorFlow version: \", tf.__version__)\n",
    "    print(\"GPU is not available\")"
   ]
  },
  {
   "cell_type": "markdown",
   "id": "6d58e619",
   "metadata": {},
   "source": [
    "## 1. Load feature & label and split into train & test data"
   ]
  },
  {
   "cell_type": "code",
   "execution_count": 5,
   "id": "273c0eab",
   "metadata": {},
   "outputs": [],
   "source": [
    "classes = ['0_in_ordnung',\n",
    "           '1_kleine_durchgangsbohrung',\n",
    "           '2_versetzte_fuegepartner',\n",
    "           '3_unebene_fuegeflaeche',\n",
    "           '4_span_im_gewinde',\n",
    "           '5_verschmutzte_schraube',\n",
    "           '6_fremdkoerper_am_gewindeende',\n",
    "           '7_beschaedigte_schraube']"
   ]
  },
  {
   "cell_type": "code",
   "execution_count": 6,
   "id": "f80d853c",
   "metadata": {},
   "outputs": [],
   "source": [
    "df0 = pd.read_pickle(\"dataframes/df0_v4.1.pkl\")\n",
    "df1 = pd.read_pickle(\"dataframes/df1_v4.1.pkl\")\n",
    "df2 = pd.read_pickle(\"dataframes/df2_v4.1.pkl\")\n",
    "df3 = pd.read_pickle(\"dataframes/df3_v4.1.pkl\")\n",
    "df4 = pd.read_pickle(\"dataframes/df4_v4.1.pkl\")\n",
    "df5 = pd.read_pickle(\"dataframes/df5_v4.1.pkl\")\n",
    "df6 = pd.read_pickle(\"dataframes/df6_v4.1.pkl\")\n",
    "df7 = pd.read_pickle(\"dataframes/df7_v4.1.pkl\")"
   ]
  },
  {
   "cell_type": "code",
   "execution_count": 7,
   "id": "0ed428c2",
   "metadata": {},
   "outputs": [
    {
     "data": {
      "text/plain": [
       "(775, 200)"
      ]
     },
     "execution_count": 7,
     "metadata": {},
     "output_type": "execute_result"
    }
   ],
   "source": [
    "df0 = df0[df0.columns[:200]]\n",
    "df0.shape"
   ]
  },
  {
   "cell_type": "code",
   "execution_count": 8,
   "id": "e679aa92",
   "metadata": {},
   "outputs": [],
   "source": [
    "# important for searching misclassified curves in each df\n",
    "\n",
    "df_list = [df0, df1, df2, df3, df4, df5, df6, df7]"
   ]
  },
  {
   "cell_type": "code",
   "execution_count": 20,
   "id": "f6c0b129",
   "metadata": {},
   "outputs": [
    {
     "data": {
      "text/plain": [
       "(1600, 920)"
      ]
     },
     "execution_count": 20,
     "metadata": {},
     "output_type": "execute_result"
    }
   ],
   "source": [
    "feature = np.load('feature_label/feature_single_v4.1.npy')\n",
    "feature.shape"
   ]
  },
  {
   "cell_type": "code",
   "execution_count": 21,
   "id": "2146c85e",
   "metadata": {},
   "outputs": [
    {
     "data": {
      "text/plain": [
       "(1600, 8)"
      ]
     },
     "execution_count": 21,
     "metadata": {},
     "output_type": "execute_result"
    }
   ],
   "source": [
    "label = np.load(\"feature_label/label_single_v4.1.npy\")\n",
    "label = to_categorical(label)\n",
    "label.shape"
   ]
  },
  {
   "cell_type": "code",
   "execution_count": 22,
   "id": "e9237675",
   "metadata": {},
   "outputs": [
    {
     "name": "stdout",
     "output_type": "stream",
     "text": [
      "2.56704 (1600, 920)\n"
     ]
    }
   ],
   "source": [
    "# normalize the fature by dividing max value of feature\n",
    "\n",
    "max_feat = np.max(feature)\n",
    "feature_scaled = feature / max_feat\n",
    "\n",
    "print(max_feat, feature_scaled.shape)"
   ]
  },
  {
   "cell_type": "code",
   "execution_count": 23,
   "id": "61ede779",
   "metadata": {},
   "outputs": [
    {
     "name": "stdout",
     "output_type": "stream",
     "text": [
      "(1200, 920)\n",
      "(1200, 8)\n",
      "(400, 920)\n",
      "(400, 8)\n",
      "[[0. 0. 0. ... 0. 0. 0.]\n",
      " [0. 0. 0. ... 0. 1. 0.]\n",
      " [0. 0. 1. ... 0. 0. 0.]\n",
      " ...\n",
      " [0. 0. 0. ... 0. 0. 0.]\n",
      " [0. 0. 0. ... 0. 0. 0.]\n",
      " [0. 0. 0. ... 0. 0. 1.]]\n"
     ]
    }
   ],
   "source": [
    "from sklearn.model_selection import train_test_split\n",
    "\n",
    "x_train, x_test, y_train, y_test = train_test_split(feature_scaled, label, random_state=13, test_size=0.25, shuffle=True)\n",
    "\n",
    "print(x_train.shape)\n",
    "print(y_train.shape)\n",
    "print(x_test.shape)\n",
    "print(y_test.shape)\n",
    "print(y_test)"
   ]
  },
  {
   "cell_type": "code",
   "execution_count": 24,
   "id": "a9c0a20f",
   "metadata": {
    "scrolled": true
   },
   "outputs": [
    {
     "data": {
      "text/plain": [
       "array([4, 6, 2, 4, 4, 7, 0, 7, 0, 1, 0, 5, 3, 2, 5, 7, 7, 4, 4, 7, 7, 3,\n",
       "       3, 0, 2, 0, 0, 5, 4, 6, 7, 4, 2, 6, 6, 2, 1, 0, 0, 6, 4, 7, 6, 3,\n",
       "       6, 6, 3, 6, 2, 5, 3, 7, 6, 6, 6, 4, 2, 5, 5, 7, 1, 0, 5, 3, 4, 2,\n",
       "       0, 3, 7, 2, 6, 0, 6, 2, 3, 6, 1, 7, 6, 3, 5, 4, 6, 4, 4, 5, 7, 4,\n",
       "       3, 1, 6, 1, 5, 2, 5, 3, 1, 3, 7, 4, 3, 6, 7, 6, 6, 7, 4, 6, 4, 2,\n",
       "       7, 6, 1, 4, 3, 2, 1, 4, 4, 4, 6, 3, 0, 2, 7, 6, 3, 3, 1, 7, 1, 1,\n",
       "       0, 1, 1, 0, 4, 0, 4, 5, 2, 7, 5, 7, 1, 6, 2, 0, 2, 3, 4, 5, 1, 1,\n",
       "       7, 3, 3, 5, 5, 2, 1, 0, 2, 0, 6, 5, 3, 1, 3, 0, 2, 3, 2, 6, 1, 3,\n",
       "       5, 1, 7, 5, 6, 4, 4, 5, 0, 2, 6, 4, 1, 3, 0, 1, 2, 4, 7, 4, 4, 7,\n",
       "       2, 4, 4, 4, 5, 4, 7, 2, 4, 2, 5, 6, 3, 2, 3, 5, 5, 0, 1, 2, 1, 2,\n",
       "       7, 0, 6, 3, 2, 3, 1, 1, 7, 4, 1, 6, 4, 7, 1, 6, 4, 0, 1, 3, 6, 6,\n",
       "       6, 0, 5, 6, 2, 0, 0, 0, 5, 4, 2, 4, 4, 5, 3, 5, 6, 1, 3, 5, 4, 3,\n",
       "       6, 6, 7, 6, 1, 2, 4, 0, 7, 1, 6, 2, 7, 6, 3, 6, 0, 3, 0, 7, 5, 4,\n",
       "       2, 4, 5, 0, 2, 6, 1, 3, 4, 1, 7, 4, 2, 0, 0, 6, 4, 0, 3, 1, 0, 0,\n",
       "       6, 3, 6, 4, 5, 0, 3, 7, 2, 3, 2, 6, 0, 4, 6, 0, 3, 2, 2, 2, 6, 6,\n",
       "       0, 3, 3, 4, 1, 3, 0, 5, 4, 0, 2, 4, 5, 4, 5, 6, 4, 2, 1, 6, 0, 4,\n",
       "       7, 3, 1, 1, 1, 4, 0, 1, 1, 5, 5, 2, 5, 3, 0, 0, 0, 5, 7, 5, 6, 6,\n",
       "       4, 1, 3, 7, 1, 3, 5, 7, 5, 5, 4, 0, 3, 4, 7, 3, 3, 5, 1, 5, 4, 0,\n",
       "       5, 4, 3, 7], dtype=int64)"
      ]
     },
     "execution_count": 24,
     "metadata": {},
     "output_type": "execute_result"
    }
   ],
   "source": [
    "y_test_converted = np.argmax(y_test, axis=1)\n",
    "y_test_converted"
   ]
  },
  {
   "cell_type": "code",
   "execution_count": 25,
   "id": "7d7d6767",
   "metadata": {},
   "outputs": [
    {
     "data": {
      "text/plain": [
       "{0: 50, 1: 46, 2: 45, 3: 53, 4: 62, 5: 46, 6: 57, 7: 41}"
      ]
     },
     "execution_count": 25,
     "metadata": {},
     "output_type": "execute_result"
    }
   ],
   "source": [
    "unique, counts = np.unique(y_test_converted, return_counts=True)\n",
    "dict(zip(unique, counts))"
   ]
  },
  {
   "cell_type": "code",
   "execution_count": 26,
   "id": "5337306c",
   "metadata": {},
   "outputs": [
    {
     "name": "stdout",
     "output_type": "stream",
     "text": [
      "920\n",
      "(1200, 920, 1)\n",
      "(400, 920, 1)\n"
     ]
    }
   ],
   "source": [
    "# reshape train data in 3 dimensinal shape\n",
    "len_curve = feature.shape[1]\n",
    "print(len_curve)\n",
    "\n",
    "x_train = x_train.reshape(-1, len_curve, 1)\n",
    "x_test = x_test.reshape(-1, len_curve, 1)\n",
    "print(x_train.shape)\n",
    "print(x_test.shape)"
   ]
  },
  {
   "cell_type": "markdown",
   "id": "e01c6737",
   "metadata": {},
   "source": [
    "## 2. Load optmized 1D-CNN-modell"
   ]
  },
  {
   "cell_type": "code",
   "execution_count": 27,
   "id": "89baa5d3",
   "metadata": {},
   "outputs": [
    {
     "name": "stdout",
     "output_type": "stream",
     "text": [
      "Model: \"sequential_4006\"\n",
      "_________________________________________________________________\n",
      " Layer (type)                Output Shape              Param #   \n",
      "=================================================================\n",
      " conv1d_12009 (Conv1D)       (None, 913, 48)           432       \n",
      "                                                                 \n",
      " max_pooling1d_12009 (MaxPoo  (None, 304, 48)          0         \n",
      " ling1D)                                                         \n",
      "                                                                 \n",
      " conv1d_12010 (Conv1D)       (None, 297, 48)           18480     \n",
      "                                                                 \n",
      " max_pooling1d_12010 (MaxPoo  (None, 99, 48)           0         \n",
      " ling1D)                                                         \n",
      "                                                                 \n",
      " batch_normalization_4003 (B  (None, 99, 48)           192       \n",
      " atchNormalization)                                              \n",
      "                                                                 \n",
      " conv1d_12011 (Conv1D)       (None, 92, 48)            18480     \n",
      "                                                                 \n",
      " max_pooling1d_12011 (MaxPoo  (None, 30, 48)           0         \n",
      " ling1D)                                                         \n",
      "                                                                 \n",
      " flatten_4003 (Flatten)      (None, 1440)              0         \n",
      "                                                                 \n",
      " dense_12009 (Dense)         (None, 200)               288200    \n",
      "                                                                 \n",
      " dense_12010 (Dense)         (None, 40)                8040      \n",
      "                                                                 \n",
      " dense_12011 (Dense)         (None, 8)                 328       \n",
      "                                                                 \n",
      "=================================================================\n",
      "Total params: 334,152\n",
      "Trainable params: 334,056\n",
      "Non-trainable params: 96\n",
      "_________________________________________________________________\n"
     ]
    }
   ],
   "source": [
    "loaded_model = tf.keras.models.load_model('results/1d_cnn_model_v4.1.h5')\n",
    "loaded_model.summary()"
   ]
  },
  {
   "cell_type": "markdown",
   "id": "594e83ff",
   "metadata": {},
   "source": [
    "## 3. Evaluate the trained model with confusion matrix"
   ]
  },
  {
   "cell_type": "code",
   "execution_count": 28,
   "id": "c5675479",
   "metadata": {},
   "outputs": [
    {
     "name": "stdout",
     "output_type": "stream",
     "text": [
      "13/13 [==============================] - 0s 12ms/step - loss: 0.0852 - accuracy: 0.9800\n"
     ]
    },
    {
     "data": {
      "text/plain": [
       "[0.08518471568822861, 0.9800000190734863]"
      ]
     },
     "execution_count": 28,
     "metadata": {},
     "output_type": "execute_result"
    }
   ],
   "source": [
    "loaded_model.evaluate(x_test, y_test)"
   ]
  },
  {
   "cell_type": "code",
   "execution_count": 61,
   "id": "988d275f",
   "metadata": {},
   "outputs": [
    {
     "data": {
      "text/plain": [
       "array([4, 6, 2, 4, 4, 7, 0, 7, 0, 1, 0, 5, 3, 2, 5, 7, 7, 4, 4, 7, 7, 3,\n",
       "       3, 0, 2, 0, 0, 5, 4, 6, 7, 4, 2, 6, 6, 2, 1, 0, 0, 6, 4, 7, 6, 3,\n",
       "       6, 6, 3, 6, 2, 5, 3, 7, 6, 6, 6, 4, 2, 4, 5, 7, 1, 0, 5, 3, 4, 2,\n",
       "       0, 3, 7, 2, 4, 0, 6, 2, 3, 6, 1, 7, 6, 3, 5, 4, 6, 4, 4, 5, 7, 4,\n",
       "       3, 1, 6, 1, 5, 2, 5, 3, 1, 3, 7, 4, 3, 6, 7, 6, 6, 7, 4, 6, 4, 2,\n",
       "       7, 6, 1, 2, 3, 2, 1, 4, 4, 4, 6, 3, 0, 2, 7, 6, 3, 3, 1, 7, 1, 1,\n",
       "       0, 1, 1, 0, 4, 0, 4, 5, 2, 7, 5, 7, 1, 6, 2, 0, 2, 3, 4, 5, 1, 1,\n",
       "       7, 3, 3, 5, 5, 2, 1, 0, 2, 0, 6, 5, 3, 1, 3, 0, 2, 3, 2, 6, 1, 3,\n",
       "       5, 4, 7, 5, 6, 4, 4, 5, 0, 2, 6, 4, 1, 3, 0, 1, 2, 4, 7, 4, 4, 7,\n",
       "       2, 4, 4, 4, 5, 4, 7, 2, 4, 2, 5, 6, 3, 2, 3, 5, 5, 0, 1, 2, 1, 2,\n",
       "       7, 0, 6, 3, 2, 3, 1, 1, 7, 7, 1, 6, 4, 7, 1, 6, 4, 0, 1, 3, 6, 6,\n",
       "       6, 0, 5, 6, 2, 0, 0, 0, 5, 4, 2, 7, 4, 5, 3, 5, 6, 1, 3, 5, 4, 3,\n",
       "       6, 6, 7, 6, 1, 2, 4, 0, 7, 1, 6, 2, 7, 6, 3, 6, 0, 3, 0, 7, 5, 4,\n",
       "       2, 7, 5, 0, 2, 6, 1, 3, 4, 1, 7, 4, 2, 0, 0, 6, 4, 0, 3, 1, 0, 0,\n",
       "       6, 3, 6, 4, 5, 0, 3, 7, 2, 3, 2, 6, 0, 4, 6, 0, 3, 2, 2, 2, 6, 6,\n",
       "       0, 3, 3, 4, 1, 3, 0, 5, 4, 0, 2, 4, 5, 4, 7, 6, 4, 2, 1, 6, 0, 4,\n",
       "       7, 3, 1, 1, 1, 4, 0, 1, 1, 5, 5, 2, 5, 3, 0, 0, 0, 5, 7, 5, 6, 6,\n",
       "       4, 1, 3, 7, 1, 3, 5, 7, 5, 5, 4, 0, 3, 4, 7, 3, 3, 5, 1, 5, 4, 0,\n",
       "       5, 4, 3, 7], dtype=int64)"
      ]
     },
     "execution_count": 61,
     "metadata": {},
     "output_type": "execute_result"
    }
   ],
   "source": [
    "y_pred = np.argmax(loaded_model.predict(x_test), axis=-1)\n",
    "y_pred"
   ]
  },
  {
   "cell_type": "code",
   "execution_count": 62,
   "id": "2ea1849c",
   "metadata": {
    "scrolled": false
   },
   "outputs": [
    {
     "data": {
      "image/png": "[encoded data removed]",
      "text/plain": [
       "<Figure size 630x630 with 1 Axes>"
      ]
     },
     "metadata": {
      "needs_background": "light"
     },
     "output_type": "display_data"
    },
    {
     "name": "stdout",
     "output_type": "stream",
     "text": [
      "              precision    recall  f1-score   support\n",
      "\n",
      "           0       1.00      1.00      1.00        50\n",
      "           1       1.00      0.98      0.99        46\n",
      "           2       0.98      1.00      0.99        45\n",
      "           3       1.00      1.00      1.00        53\n",
      "           4       0.95      0.94      0.94        62\n",
      "           5       1.00      0.96      0.98        46\n",
      "           6       1.00      0.98      0.99        57\n",
      "           7       0.91      1.00      0.95        41\n",
      "\n",
      "    accuracy                           0.98       400\n",
      "   macro avg       0.98      0.98      0.98       400\n",
      "weighted avg       0.98      0.98      0.98       400\n",
      "\n"
     ]
    }
   ],
   "source": [
    "cu.plot_calc_cm(y_test_converted, y_pred, classes, dpi=90)"
   ]
  },
  {
   "cell_type": "markdown",
   "id": "5e3f2f66",
   "metadata": {},
   "source": [
    "## 4. Search and visualize wrongly predicted curves in each class"
   ]
  },
  {
   "cell_type": "code",
   "execution_count": 146,
   "id": "21db2458",
   "metadata": {},
   "outputs": [],
   "source": [
    "wrong_pred_dict = {\"df0\": {\"df_col\": [], \"true\": [], \"misclassified_as\": []},\n",
    "                   \"df1\": {\"df_col\": [], \"true\": [], \"misclassified_as\": []},\n",
    "                   \"df2\": {\"df_col\": [], \"true\": [], \"misclassified_as\": []},\n",
    "                   \"df3\": {\"df_col\": [], \"true\": [], \"misclassified_as\": []},\n",
    "                   \"df4\": {\"df_col\": [], \"true\": [], \"misclassified_as\": []},\n",
    "                   \"df5\": {\"df_col\": [], \"true\": [], \"misclassified_as\": []},\n",
    "                   \"df6\": {\"df_col\": [], \"true\": [], \"misclassified_as\": []},\n",
    "                   \"df7\": {\"df_col\": [], \"true\": [], \"misclassified_as\": []}}"
   ]
  },
  {
   "cell_type": "code",
   "execution_count": 147,
   "id": "18f124d2",
   "metadata": {},
   "outputs": [
    {
     "data": {
      "text/html": [
       "<div>\n",
       "<style scoped>\n",
       "    .dataframe tbody tr th:only-of-type {\n",
       "        vertical-align: middle;\n",
       "    }\n",
       "\n",
       "    .dataframe tbody tr th {\n",
       "        vertical-align: top;\n",
       "    }\n",
       "\n",
       "    .dataframe thead th {\n",
       "        text-align: right;\n",
       "    }\n",
       "</style>\n",
       "<table border=\"1\" class=\"dataframe\">\n",
       "  <thead>\n",
       "    <tr style=\"text-align: right;\">\n",
       "      <th></th>\n",
       "      <th>0</th>\n",
       "      <th>1</th>\n",
       "      <th>2</th>\n",
       "      <th>3</th>\n",
       "      <th>4</th>\n",
       "      <th>5</th>\n",
       "      <th>6</th>\n",
       "      <th>7</th>\n",
       "      <th>8</th>\n",
       "      <th>9</th>\n",
       "      <th>...</th>\n",
       "      <th>390</th>\n",
       "      <th>391</th>\n",
       "      <th>392</th>\n",
       "      <th>393</th>\n",
       "      <th>394</th>\n",
       "      <th>395</th>\n",
       "      <th>396</th>\n",
       "      <th>397</th>\n",
       "      <th>398</th>\n",
       "      <th>399</th>\n",
       "    </tr>\n",
       "  </thead>\n",
       "  <tbody>\n",
       "    <tr>\n",
       "      <th>0</th>\n",
       "      <td>0.00000</td>\n",
       "      <td>0.01344</td>\n",
       "      <td>0.00000</td>\n",
       "      <td>0.00448</td>\n",
       "      <td>0.00000</td>\n",
       "      <td>0.01344</td>\n",
       "      <td>0.00448</td>\n",
       "      <td>0.00000</td>\n",
       "      <td>0.00896</td>\n",
       "      <td>0.01344</td>\n",
       "      <td>...</td>\n",
       "      <td>0.00000</td>\n",
       "      <td>0.02240</td>\n",
       "      <td>0.01344</td>\n",
       "      <td>0.00000</td>\n",
       "      <td>0.02240</td>\n",
       "      <td>0.02688</td>\n",
       "      <td>0.03136</td>\n",
       "      <td>0.00000</td>\n",
       "      <td>0.01344</td>\n",
       "      <td>0.02240</td>\n",
       "    </tr>\n",
       "    <tr>\n",
       "      <th>1</th>\n",
       "      <td>0.00000</td>\n",
       "      <td>0.00896</td>\n",
       "      <td>0.00000</td>\n",
       "      <td>0.00448</td>\n",
       "      <td>0.00000</td>\n",
       "      <td>0.01344</td>\n",
       "      <td>0.00448</td>\n",
       "      <td>0.00000</td>\n",
       "      <td>0.00896</td>\n",
       "      <td>0.01344</td>\n",
       "      <td>...</td>\n",
       "      <td>0.00000</td>\n",
       "      <td>0.02240</td>\n",
       "      <td>0.01344</td>\n",
       "      <td>0.00000</td>\n",
       "      <td>0.02240</td>\n",
       "      <td>0.02688</td>\n",
       "      <td>0.03136</td>\n",
       "      <td>0.00000</td>\n",
       "      <td>0.01344</td>\n",
       "      <td>0.02240</td>\n",
       "    </tr>\n",
       "    <tr>\n",
       "      <th>2</th>\n",
       "      <td>0.00448</td>\n",
       "      <td>0.00000</td>\n",
       "      <td>0.00000</td>\n",
       "      <td>0.00896</td>\n",
       "      <td>0.00896</td>\n",
       "      <td>0.01792</td>\n",
       "      <td>0.00448</td>\n",
       "      <td>0.00896</td>\n",
       "      <td>0.00896</td>\n",
       "      <td>0.00448</td>\n",
       "      <td>...</td>\n",
       "      <td>0.00448</td>\n",
       "      <td>0.00448</td>\n",
       "      <td>0.01344</td>\n",
       "      <td>0.00000</td>\n",
       "      <td>0.00896</td>\n",
       "      <td>0.00896</td>\n",
       "      <td>0.02688</td>\n",
       "      <td>0.00000</td>\n",
       "      <td>0.00448</td>\n",
       "      <td>0.01792</td>\n",
       "    </tr>\n",
       "    <tr>\n",
       "      <th>3</th>\n",
       "      <td>0.00896</td>\n",
       "      <td>0.00000</td>\n",
       "      <td>0.00448</td>\n",
       "      <td>0.01344</td>\n",
       "      <td>0.01344</td>\n",
       "      <td>0.00896</td>\n",
       "      <td>0.00896</td>\n",
       "      <td>0.00896</td>\n",
       "      <td>0.00896</td>\n",
       "      <td>0.00000</td>\n",
       "      <td>...</td>\n",
       "      <td>0.00896</td>\n",
       "      <td>0.00000</td>\n",
       "      <td>0.00448</td>\n",
       "      <td>0.00448</td>\n",
       "      <td>0.00000</td>\n",
       "      <td>0.00896</td>\n",
       "      <td>0.00896</td>\n",
       "      <td>0.00896</td>\n",
       "      <td>0.00000</td>\n",
       "      <td>0.01344</td>\n",
       "    </tr>\n",
       "    <tr>\n",
       "      <th>4</th>\n",
       "      <td>0.01344</td>\n",
       "      <td>0.00000</td>\n",
       "      <td>0.00896</td>\n",
       "      <td>0.01344</td>\n",
       "      <td>0.01792</td>\n",
       "      <td>0.02240</td>\n",
       "      <td>0.01344</td>\n",
       "      <td>0.01792</td>\n",
       "      <td>0.01344</td>\n",
       "      <td>0.00448</td>\n",
       "      <td>...</td>\n",
       "      <td>0.01344</td>\n",
       "      <td>0.00448</td>\n",
       "      <td>0.01792</td>\n",
       "      <td>0.00896</td>\n",
       "      <td>0.00896</td>\n",
       "      <td>0.00896</td>\n",
       "      <td>0.02688</td>\n",
       "      <td>0.01344</td>\n",
       "      <td>0.00448</td>\n",
       "      <td>0.01792</td>\n",
       "    </tr>\n",
       "    <tr>\n",
       "      <th>...</th>\n",
       "      <td>...</td>\n",
       "      <td>...</td>\n",
       "      <td>...</td>\n",
       "      <td>...</td>\n",
       "      <td>...</td>\n",
       "      <td>...</td>\n",
       "      <td>...</td>\n",
       "      <td>...</td>\n",
       "      <td>...</td>\n",
       "      <td>...</td>\n",
       "      <td>...</td>\n",
       "      <td>...</td>\n",
       "      <td>...</td>\n",
       "      <td>...</td>\n",
       "      <td>...</td>\n",
       "      <td>...</td>\n",
       "      <td>...</td>\n",
       "      <td>...</td>\n",
       "      <td>...</td>\n",
       "      <td>...</td>\n",
       "      <td>...</td>\n",
       "    </tr>\n",
       "    <tr>\n",
       "      <th>915</th>\n",
       "      <td>0.00000</td>\n",
       "      <td>0.00000</td>\n",
       "      <td>0.00000</td>\n",
       "      <td>0.00000</td>\n",
       "      <td>0.00000</td>\n",
       "      <td>0.00000</td>\n",
       "      <td>0.00000</td>\n",
       "      <td>0.00000</td>\n",
       "      <td>0.00000</td>\n",
       "      <td>0.00000</td>\n",
       "      <td>...</td>\n",
       "      <td>0.00000</td>\n",
       "      <td>0.00000</td>\n",
       "      <td>0.00000</td>\n",
       "      <td>0.00000</td>\n",
       "      <td>0.00000</td>\n",
       "      <td>0.00000</td>\n",
       "      <td>0.00000</td>\n",
       "      <td>0.00000</td>\n",
       "      <td>0.00000</td>\n",
       "      <td>0.00000</td>\n",
       "    </tr>\n",
       "    <tr>\n",
       "      <th>916</th>\n",
       "      <td>0.00000</td>\n",
       "      <td>0.00000</td>\n",
       "      <td>0.00000</td>\n",
       "      <td>0.00000</td>\n",
       "      <td>0.00000</td>\n",
       "      <td>0.00000</td>\n",
       "      <td>0.00000</td>\n",
       "      <td>0.00000</td>\n",
       "      <td>0.00000</td>\n",
       "      <td>0.00000</td>\n",
       "      <td>...</td>\n",
       "      <td>0.00000</td>\n",
       "      <td>0.00000</td>\n",
       "      <td>0.00000</td>\n",
       "      <td>0.00000</td>\n",
       "      <td>0.00000</td>\n",
       "      <td>0.00000</td>\n",
       "      <td>0.00000</td>\n",
       "      <td>0.00000</td>\n",
       "      <td>0.00000</td>\n",
       "      <td>0.00000</td>\n",
       "    </tr>\n",
       "    <tr>\n",
       "      <th>917</th>\n",
       "      <td>0.00000</td>\n",
       "      <td>0.00000</td>\n",
       "      <td>0.00000</td>\n",
       "      <td>0.00000</td>\n",
       "      <td>0.00000</td>\n",
       "      <td>0.00000</td>\n",
       "      <td>0.00000</td>\n",
       "      <td>0.00000</td>\n",
       "      <td>0.00000</td>\n",
       "      <td>0.00000</td>\n",
       "      <td>...</td>\n",
       "      <td>0.00000</td>\n",
       "      <td>0.00000</td>\n",
       "      <td>0.00000</td>\n",
       "      <td>0.00000</td>\n",
       "      <td>0.00000</td>\n",
       "      <td>0.00000</td>\n",
       "      <td>0.00000</td>\n",
       "      <td>0.00000</td>\n",
       "      <td>0.00000</td>\n",
       "      <td>0.00000</td>\n",
       "    </tr>\n",
       "    <tr>\n",
       "      <th>918</th>\n",
       "      <td>0.00000</td>\n",
       "      <td>0.00000</td>\n",
       "      <td>0.00000</td>\n",
       "      <td>0.00000</td>\n",
       "      <td>0.00000</td>\n",
       "      <td>0.00000</td>\n",
       "      <td>0.00000</td>\n",
       "      <td>0.00000</td>\n",
       "      <td>0.00000</td>\n",
       "      <td>0.00000</td>\n",
       "      <td>...</td>\n",
       "      <td>0.00000</td>\n",
       "      <td>0.00000</td>\n",
       "      <td>0.00000</td>\n",
       "      <td>0.00000</td>\n",
       "      <td>0.00000</td>\n",
       "      <td>0.00000</td>\n",
       "      <td>0.00000</td>\n",
       "      <td>0.00000</td>\n",
       "      <td>0.00000</td>\n",
       "      <td>0.00000</td>\n",
       "    </tr>\n",
       "    <tr>\n",
       "      <th>919</th>\n",
       "      <td>0.00000</td>\n",
       "      <td>0.00000</td>\n",
       "      <td>0.00000</td>\n",
       "      <td>0.00000</td>\n",
       "      <td>0.00000</td>\n",
       "      <td>0.00000</td>\n",
       "      <td>0.00000</td>\n",
       "      <td>0.00000</td>\n",
       "      <td>0.00000</td>\n",
       "      <td>0.00000</td>\n",
       "      <td>...</td>\n",
       "      <td>0.00000</td>\n",
       "      <td>0.00000</td>\n",
       "      <td>0.00000</td>\n",
       "      <td>0.00000</td>\n",
       "      <td>0.00000</td>\n",
       "      <td>0.00000</td>\n",
       "      <td>0.00000</td>\n",
       "      <td>0.00000</td>\n",
       "      <td>0.00000</td>\n",
       "      <td>0.00000</td>\n",
       "    </tr>\n",
       "  </tbody>\n",
       "</table>\n",
       "<p>920 rows × 400 columns</p>\n",
       "</div>"
      ],
      "text/plain": [
       "         0        1        2        3        4        5        6        7    \\\n",
       "0    0.00000  0.01344  0.00000  0.00448  0.00000  0.01344  0.00448  0.00000   \n",
       "1    0.00000  0.00896  0.00000  0.00448  0.00000  0.01344  0.00448  0.00000   \n",
       "2    0.00448  0.00000  0.00000  0.00896  0.00896  0.01792  0.00448  0.00896   \n",
       "3    0.00896  0.00000  0.00448  0.01344  0.01344  0.00896  0.00896  0.00896   \n",
       "4    0.01344  0.00000  0.00896  0.01344  0.01792  0.02240  0.01344  0.01792   \n",
       "..       ...      ...      ...      ...      ...      ...      ...      ...   \n",
       "915  0.00000  0.00000  0.00000  0.00000  0.00000  0.00000  0.00000  0.00000   \n",
       "916  0.00000  0.00000  0.00000  0.00000  0.00000  0.00000  0.00000  0.00000   \n",
       "917  0.00000  0.00000  0.00000  0.00000  0.00000  0.00000  0.00000  0.00000   \n",
       "918  0.00000  0.00000  0.00000  0.00000  0.00000  0.00000  0.00000  0.00000   \n",
       "919  0.00000  0.00000  0.00000  0.00000  0.00000  0.00000  0.00000  0.00000   \n",
       "\n",
       "         8        9    ...      390      391      392      393      394  \\\n",
       "0    0.00896  0.01344  ...  0.00000  0.02240  0.01344  0.00000  0.02240   \n",
       "1    0.00896  0.01344  ...  0.00000  0.02240  0.01344  0.00000  0.02240   \n",
       "2    0.00896  0.00448  ...  0.00448  0.00448  0.01344  0.00000  0.00896   \n",
       "3    0.00896  0.00000  ...  0.00896  0.00000  0.00448  0.00448  0.00000   \n",
       "4    0.01344  0.00448  ...  0.01344  0.00448  0.01792  0.00896  0.00896   \n",
       "..       ...      ...  ...      ...      ...      ...      ...      ...   \n",
       "915  0.00000  0.00000  ...  0.00000  0.00000  0.00000  0.00000  0.00000   \n",
       "916  0.00000  0.00000  ...  0.00000  0.00000  0.00000  0.00000  0.00000   \n",
       "917  0.00000  0.00000  ...  0.00000  0.00000  0.00000  0.00000  0.00000   \n",
       "918  0.00000  0.00000  ...  0.00000  0.00000  0.00000  0.00000  0.00000   \n",
       "919  0.00000  0.00000  ...  0.00000  0.00000  0.00000  0.00000  0.00000   \n",
       "\n",
       "         395      396      397      398      399  \n",
       "0    0.02688  0.03136  0.00000  0.01344  0.02240  \n",
       "1    0.02688  0.03136  0.00000  0.01344  0.02240  \n",
       "2    0.00896  0.02688  0.00000  0.00448  0.01792  \n",
       "3    0.00896  0.00896  0.00896  0.00000  0.01344  \n",
       "4    0.00896  0.02688  0.01344  0.00448  0.01792  \n",
       "..       ...      ...      ...      ...      ...  \n",
       "915  0.00000  0.00000  0.00000  0.00000  0.00000  \n",
       "916  0.00000  0.00000  0.00000  0.00000  0.00000  \n",
       "917  0.00000  0.00000  0.00000  0.00000  0.00000  \n",
       "918  0.00000  0.00000  0.00000  0.00000  0.00000  \n",
       "919  0.00000  0.00000  0.00000  0.00000  0.00000  \n",
       "\n",
       "[920 rows x 400 columns]"
      ]
     },
     "execution_count": 147,
     "metadata": {},
     "output_type": "execute_result"
    }
   ],
   "source": [
    "x_test_df = pd.DataFrame(x_test.reshape(-1, len_curve).transpose())\n",
    "x_test_df_inverse = x_test_df*max_feat\n",
    "x_test_df_inverse"
   ]
  },
  {
   "cell_type": "code",
   "execution_count": 139,
   "id": "e1dbad81",
   "metadata": {},
   "outputs": [
    {
     "name": "stdout",
     "output_type": "stream",
     "text": [
      "<module 'library.classification_util' from 'C:\\\\Users\\\\songs\\\\OneDrive\\\\Desktop\\\\0. PA_FAPS\\\\Code\\\\library\\\\classification_util.py'>\n"
     ]
    }
   ],
   "source": [
    "from library import classification_util as cu\n",
    "print(importlib.reload(cu))"
   ]
  },
  {
   "cell_type": "code",
   "execution_count": 148,
   "id": "ed07688b",
   "metadata": {},
   "outputs": [],
   "source": [
    "wrong_predictions = cu.find_misclassification_with_duplicates(y_true, y_pred, df_list, wrong_pred_dict,\n",
    "                                                              x_test_df_inverse, rounding=4)"
   ]
  },
  {
   "cell_type": "code",
   "execution_count": 149,
   "id": "a3c1adf0",
   "metadata": {},
   "outputs": [
    {
     "data": {
      "text/plain": [
       "{'df0': {'df_col': [], 'true': [], 'misclassified_as': []},\n",
       " 'df1': {'df_col': [1], 'true': [1], 'misclassified_as': [4]},\n",
       " 'df2': {'df_col': [], 'true': [], 'misclassified_as': []},\n",
       " 'df3': {'df_col': [], 'true': [], 'misclassified_as': []},\n",
       " 'df4': {'df_col': [195, 129, 192, 96],\n",
       "  'true': [4, 4, 4, 4],\n",
       "  'misclassified_as': [2, 7, 7, 7]},\n",
       " 'df5': {'df_col': [8, 123], 'true': [5, 5], 'misclassified_as': [4, 7]},\n",
       " 'df6': {'df_col': [127], 'true': [6], 'misclassified_as': [4]},\n",
       " 'df7': {'df_col': [], 'true': [], 'misclassified_as': []}}"
      ]
     },
     "execution_count": 149,
     "metadata": {},
     "output_type": "execute_result"
    }
   ],
   "source": [
    "wrong_predictions"
   ]
  },
  {
   "cell_type": "code",
   "execution_count": 144,
   "id": "60a62de5",
   "metadata": {},
   "outputs": [],
   "source": [
    "#with open(\"results/wrong_predicted_curves_v4.1.pkl\", \"wb\") as f:\n",
    "#    pickle.dump(wrong_pred_dict, f)"
   ]
  },
  {
   "cell_type": "code",
   "execution_count": 145,
   "id": "9b18dedb",
   "metadata": {},
   "outputs": [],
   "source": [
    "#with open(\"results/wrong_predicted_curves_v4.1.pkl\", \"rb\") as f:\n",
    "#    wrong_predictions = pickle.load(f)"
   ]
  },
  {
   "cell_type": "markdown",
   "id": "7ce60620",
   "metadata": {},
   "source": [
    "### main function of the notebook -> search wrongly classified curves and visualize it\n",
    "\n",
    "- every curve is saved as a csv file in different folders with numberings -> e.g. class0_3 means curve from class 0 nr 3\n",
    "- this numbering is equal to the col number of each dataframes \n",
    "- with the function \"find_misclassification_with_duplicates\" in classification_util.py file can be identified which curve \n",
    "  in x_test is wrongly classified\n",
    "- benefit of visualizing wrongliy classified curves are:\n",
    "1. figure out with curve has to be replaced\n",
    "2. develop a strategy in model building to avoid misclassification"
   ]
  },
  {
   "cell_type": "markdown",
   "id": "77ff21cf",
   "metadata": {},
   "source": [
    "## class 0"
   ]
  },
  {
   "cell_type": "code",
   "execution_count": 150,
   "id": "633c187f",
   "metadata": {},
   "outputs": [
    {
     "data": {
      "text/html": [
       "<div>\n",
       "<style scoped>\n",
       "    .dataframe tbody tr th:only-of-type {\n",
       "        vertical-align: middle;\n",
       "    }\n",
       "\n",
       "    .dataframe tbody tr th {\n",
       "        vertical-align: top;\n",
       "    }\n",
       "\n",
       "    .dataframe thead th {\n",
       "        text-align: right;\n",
       "    }\n",
       "</style>\n",
       "<table border=\"1\" class=\"dataframe\">\n",
       "  <thead>\n",
       "    <tr style=\"text-align: right;\">\n",
       "      <th></th>\n",
       "      <th>df_col</th>\n",
       "      <th>true</th>\n",
       "      <th>misclassified_as</th>\n",
       "    </tr>\n",
       "  </thead>\n",
       "  <tbody>\n",
       "  </tbody>\n",
       "</table>\n",
       "</div>"
      ],
      "text/plain": [
       "Empty DataFrame\n",
       "Columns: [df_col, true, misclassified_as]\n",
       "Index: []"
      ]
     },
     "execution_count": 150,
     "metadata": {},
     "output_type": "execute_result"
    }
   ],
   "source": [
    "df0w = pd.DataFrame(wrong_predictions[\"df0\"]).sort_values(by=[\"df_col\"])\n",
    "df0w"
   ]
  },
  {
   "cell_type": "markdown",
   "id": "f310d163",
   "metadata": {},
   "source": [
    "## class 1"
   ]
  },
  {
   "cell_type": "code",
   "execution_count": 151,
   "id": "5df18f06",
   "metadata": {},
   "outputs": [
    {
     "data": {
      "text/html": [
       "<div>\n",
       "<style scoped>\n",
       "    .dataframe tbody tr th:only-of-type {\n",
       "        vertical-align: middle;\n",
       "    }\n",
       "\n",
       "    .dataframe tbody tr th {\n",
       "        vertical-align: top;\n",
       "    }\n",
       "\n",
       "    .dataframe thead th {\n",
       "        text-align: right;\n",
       "    }\n",
       "</style>\n",
       "<table border=\"1\" class=\"dataframe\">\n",
       "  <thead>\n",
       "    <tr style=\"text-align: right;\">\n",
       "      <th></th>\n",
       "      <th>df_col</th>\n",
       "      <th>true</th>\n",
       "      <th>misclassified_as</th>\n",
       "    </tr>\n",
       "  </thead>\n",
       "  <tbody>\n",
       "    <tr>\n",
       "      <th>0</th>\n",
       "      <td>1</td>\n",
       "      <td>1</td>\n",
       "      <td>4</td>\n",
       "    </tr>\n",
       "  </tbody>\n",
       "</table>\n",
       "</div>"
      ],
      "text/plain": [
       "   df_col  true  misclassified_as\n",
       "0       1     1                 4"
      ]
     },
     "execution_count": 151,
     "metadata": {},
     "output_type": "execute_result"
    }
   ],
   "source": [
    "df1w = pd.DataFrame(wrong_predictions[\"df1\"]).sort_values(by=[\"df_col\"])\n",
    "df1w"
   ]
  },
  {
   "cell_type": "code",
   "execution_count": 260,
   "id": "edaee585",
   "metadata": {},
   "outputs": [
    {
     "name": "stdout",
     "output_type": "stream",
     "text": [
      "<module 'library.classification_util' from 'C:\\\\Users\\\\songs\\\\OneDrive\\\\Desktop\\\\0. PA_FAPS\\\\Code\\\\library\\\\classification_util.py'>\n"
     ]
    }
   ],
   "source": [
    "from library import classification_util as cu\n",
    "print(importlib.reload(cu))"
   ]
  },
  {
   "cell_type": "code",
   "execution_count": 261,
   "id": "80f1f8bd",
   "metadata": {},
   "outputs": [
    {
     "data": {
      "image/png": "[encoded data removed]",
      "text/plain": [
       "<Figure size 800x224 with 2 Axes>"
      ]
     },
     "metadata": {
      "needs_background": "light"
     },
     "output_type": "display_data"
    }
   ],
   "source": [
    "cu.plot_wrong_preds(df1, df1w[\"df_col\"].iloc[0], fapsc.dark_green, f\"Klasse 1 falsch\\nklassifiziert als\\nKlasse 4\", \n",
    "                    df4[0], fapsc.blue, f\"Klasse 4\", figsize=(10, 2.8), dpi=80)"
   ]
  },
  {
   "cell_type": "markdown",
   "id": "b5bf1b1a",
   "metadata": {},
   "source": [
    "## class 2"
   ]
  },
  {
   "cell_type": "code",
   "execution_count": 152,
   "id": "1c4ac73e",
   "metadata": {},
   "outputs": [
    {
     "data": {
      "text/html": [
       "<div>\n",
       "<style scoped>\n",
       "    .dataframe tbody tr th:only-of-type {\n",
       "        vertical-align: middle;\n",
       "    }\n",
       "\n",
       "    .dataframe tbody tr th {\n",
       "        vertical-align: top;\n",
       "    }\n",
       "\n",
       "    .dataframe thead th {\n",
       "        text-align: right;\n",
       "    }\n",
       "</style>\n",
       "<table border=\"1\" class=\"dataframe\">\n",
       "  <thead>\n",
       "    <tr style=\"text-align: right;\">\n",
       "      <th></th>\n",
       "      <th>df_col</th>\n",
       "      <th>true</th>\n",
       "      <th>misclassified_as</th>\n",
       "    </tr>\n",
       "  </thead>\n",
       "  <tbody>\n",
       "  </tbody>\n",
       "</table>\n",
       "</div>"
      ],
      "text/plain": [
       "Empty DataFrame\n",
       "Columns: [df_col, true, misclassified_as]\n",
       "Index: []"
      ]
     },
     "execution_count": 152,
     "metadata": {},
     "output_type": "execute_result"
    }
   ],
   "source": [
    "df2w = pd.DataFrame(wrong_predictions[\"df2\"]).sort_values(by=[\"df_col\"])\n",
    "df2w"
   ]
  },
  {
   "cell_type": "markdown",
   "id": "91002ff4",
   "metadata": {},
   "source": [
    "## class 3"
   ]
  },
  {
   "cell_type": "code",
   "execution_count": 153,
   "id": "16745c93",
   "metadata": {},
   "outputs": [
    {
     "data": {
      "text/html": [
       "<div>\n",
       "<style scoped>\n",
       "    .dataframe tbody tr th:only-of-type {\n",
       "        vertical-align: middle;\n",
       "    }\n",
       "\n",
       "    .dataframe tbody tr th {\n",
       "        vertical-align: top;\n",
       "    }\n",
       "\n",
       "    .dataframe thead th {\n",
       "        text-align: right;\n",
       "    }\n",
       "</style>\n",
       "<table border=\"1\" class=\"dataframe\">\n",
       "  <thead>\n",
       "    <tr style=\"text-align: right;\">\n",
       "      <th></th>\n",
       "      <th>df_col</th>\n",
       "      <th>true</th>\n",
       "      <th>misclassified_as</th>\n",
       "    </tr>\n",
       "  </thead>\n",
       "  <tbody>\n",
       "  </tbody>\n",
       "</table>\n",
       "</div>"
      ],
      "text/plain": [
       "Empty DataFrame\n",
       "Columns: [df_col, true, misclassified_as]\n",
       "Index: []"
      ]
     },
     "execution_count": 153,
     "metadata": {},
     "output_type": "execute_result"
    }
   ],
   "source": [
    "df3w = pd.DataFrame(wrong_predictions[\"df3\"]).sort_values(by=[\"df_col\"])\n",
    "df3w"
   ]
  },
  {
   "cell_type": "markdown",
   "id": "95c9ca82",
   "metadata": {},
   "source": [
    "## class 4"
   ]
  },
  {
   "cell_type": "code",
   "execution_count": 154,
   "id": "b7dc39b1",
   "metadata": {},
   "outputs": [
    {
     "data": {
      "text/html": [
       "<div>\n",
       "<style scoped>\n",
       "    .dataframe tbody tr th:only-of-type {\n",
       "        vertical-align: middle;\n",
       "    }\n",
       "\n",
       "    .dataframe tbody tr th {\n",
       "        vertical-align: top;\n",
       "    }\n",
       "\n",
       "    .dataframe thead th {\n",
       "        text-align: right;\n",
       "    }\n",
       "</style>\n",
       "<table border=\"1\" class=\"dataframe\">\n",
       "  <thead>\n",
       "    <tr style=\"text-align: right;\">\n",
       "      <th></th>\n",
       "      <th>df_col</th>\n",
       "      <th>true</th>\n",
       "      <th>misclassified_as</th>\n",
       "    </tr>\n",
       "  </thead>\n",
       "  <tbody>\n",
       "    <tr>\n",
       "      <th>3</th>\n",
       "      <td>96</td>\n",
       "      <td>4</td>\n",
       "      <td>7</td>\n",
       "    </tr>\n",
       "    <tr>\n",
       "      <th>1</th>\n",
       "      <td>129</td>\n",
       "      <td>4</td>\n",
       "      <td>7</td>\n",
       "    </tr>\n",
       "    <tr>\n",
       "      <th>2</th>\n",
       "      <td>192</td>\n",
       "      <td>4</td>\n",
       "      <td>7</td>\n",
       "    </tr>\n",
       "    <tr>\n",
       "      <th>0</th>\n",
       "      <td>195</td>\n",
       "      <td>4</td>\n",
       "      <td>2</td>\n",
       "    </tr>\n",
       "  </tbody>\n",
       "</table>\n",
       "</div>"
      ],
      "text/plain": [
       "   df_col  true  misclassified_as\n",
       "3      96     4                 7\n",
       "1     129     4                 7\n",
       "2     192     4                 7\n",
       "0     195     4                 2"
      ]
     },
     "execution_count": 154,
     "metadata": {},
     "output_type": "execute_result"
    }
   ],
   "source": [
    "df4w = pd.DataFrame(wrong_predictions[\"df4\"]).sort_values(by=[\"df_col\"])\n",
    "df4w"
   ]
  },
  {
   "cell_type": "code",
   "execution_count": 193,
   "id": "df2301ea",
   "metadata": {},
   "outputs": [
    {
     "name": "stdout",
     "output_type": "stream",
     "text": [
      "<module 'library.classification_util' from 'C:\\\\Users\\\\songs\\\\OneDrive\\\\Desktop\\\\0. PA_FAPS\\\\Code\\\\library\\\\classification_util.py'>\n"
     ]
    }
   ],
   "source": [
    "from library import classification_util as cu\n",
    "print(importlib.reload(cu))"
   ]
  },
  {
   "cell_type": "code",
   "execution_count": 255,
   "id": "42a8fe3d",
   "metadata": {},
   "outputs": [
    {
     "data": {
      "image/png": "[encoded data removed]",
      "text/plain": [
       "<Figure size 800x224 with 2 Axes>"
      ]
     },
     "metadata": {
      "needs_background": "light"
     },
     "output_type": "display_data"
    }
   ],
   "source": [
    "cu.plot_wrong_preds(df4, df4w[\"df_col\"].iloc[-1], fapsc.blue, f\"Klasse 4 falsch\\nklassifiziert als\\nKlasse 2\", \n",
    "                    df2[2], fapsc.yellow, f\"Klasse 2\", figsize=(10, 2.8), dpi=80)"
   ]
  },
  {
   "cell_type": "code",
   "execution_count": 256,
   "id": "139ce9dc",
   "metadata": {},
   "outputs": [
    {
     "data": {
      "image/png": "[encoded data removed]",
      "text/plain": [
       "<Figure size 800x224 with 2 Axes>"
      ]
     },
     "metadata": {
      "needs_background": "light"
     },
     "output_type": "display_data"
    }
   ],
   "source": [
    "cu.plot_wrong_preds(df4, df4w[\"df_col\"].iloc[:3], fapsc.blue, f\"Klasse 4 falsch\\nklassifiziert als\\nKlasse 7\", \n",
    "                    df7[4], fapsc.black, f\"Klasse 7\", figsize=(10, 2.8), dpi=80)"
   ]
  },
  {
   "cell_type": "code",
   "execution_count": null,
   "id": "4fc89027",
   "metadata": {},
   "outputs": [],
   "source": []
  },
  {
   "cell_type": "code",
   "execution_count": null,
   "id": "6e18f667",
   "metadata": {},
   "outputs": [],
   "source": []
  },
  {
   "cell_type": "markdown",
   "id": "3e5cbca2",
   "metadata": {},
   "source": [
    "## class 5"
   ]
  },
  {
   "cell_type": "code",
   "execution_count": 212,
   "id": "abf878fd",
   "metadata": {
    "scrolled": false
   },
   "outputs": [
    {
     "data": {
      "text/html": [
       "<div>\n",
       "<style scoped>\n",
       "    .dataframe tbody tr th:only-of-type {\n",
       "        vertical-align: middle;\n",
       "    }\n",
       "\n",
       "    .dataframe tbody tr th {\n",
       "        vertical-align: top;\n",
       "    }\n",
       "\n",
       "    .dataframe thead th {\n",
       "        text-align: right;\n",
       "    }\n",
       "</style>\n",
       "<table border=\"1\" class=\"dataframe\">\n",
       "  <thead>\n",
       "    <tr style=\"text-align: right;\">\n",
       "      <th></th>\n",
       "      <th>df_col</th>\n",
       "      <th>true</th>\n",
       "      <th>misclassified_as</th>\n",
       "    </tr>\n",
       "  </thead>\n",
       "  <tbody>\n",
       "    <tr>\n",
       "      <th>0</th>\n",
       "      <td>8</td>\n",
       "      <td>5</td>\n",
       "      <td>4</td>\n",
       "    </tr>\n",
       "    <tr>\n",
       "      <th>1</th>\n",
       "      <td>123</td>\n",
       "      <td>5</td>\n",
       "      <td>7</td>\n",
       "    </tr>\n",
       "  </tbody>\n",
       "</table>\n",
       "</div>"
      ],
      "text/plain": [
       "   df_col  true  misclassified_as\n",
       "0       8     5                 4\n",
       "1     123     5                 7"
      ]
     },
     "execution_count": 212,
     "metadata": {},
     "output_type": "execute_result"
    }
   ],
   "source": [
    "df5w = pd.DataFrame(wrong_predictions[\"df5\"]).sort_values(by=[\"df_col\"])\n",
    "df5w"
   ]
  },
  {
   "cell_type": "code",
   "execution_count": 257,
   "id": "44567d31",
   "metadata": {},
   "outputs": [
    {
     "data": {
      "image/png": "[encoded data removed]",
      "text/plain": [
       "<Figure size 800x224 with 2 Axes>"
      ]
     },
     "metadata": {
      "needs_background": "light"
     },
     "output_type": "display_data"
    }
   ],
   "source": [
    "cu.plot_wrong_preds(df5, df4w[\"df_col\"].iloc[0], fapsc.grey_0, f\"Klasse 5 falsch\\nklassifiziert als\\nKlasse 4\", \n",
    "                    df4[0], fapsc.blue, f\"Klasse 4\", figsize=(10, 2.8), dpi=80)"
   ]
  },
  {
   "cell_type": "code",
   "execution_count": 258,
   "id": "beeb2e46",
   "metadata": {},
   "outputs": [
    {
     "data": {
      "image/png": "[encoded data removed]",
      "text/plain": [
       "<Figure size 800x224 with 2 Axes>"
      ]
     },
     "metadata": {
      "needs_background": "light"
     },
     "output_type": "display_data"
    }
   ],
   "source": [
    "cu.plot_wrong_preds(df5, df4w[\"df_col\"].iloc[1], fapsc.grey_0, f\"Klasse 5 falsch\\nklassifiziert als\\nKlasse 7\", \n",
    "                    df7[6], fapsc.black, f\"Klasse 7\", figsize=(10, 2.8), dpi=80)"
   ]
  },
  {
   "cell_type": "markdown",
   "id": "9ab20b3a",
   "metadata": {},
   "source": [
    "## class 6"
   ]
  },
  {
   "cell_type": "code",
   "execution_count": 237,
   "id": "05ccf6e7",
   "metadata": {},
   "outputs": [
    {
     "data": {
      "text/html": [
       "<div>\n",
       "<style scoped>\n",
       "    .dataframe tbody tr th:only-of-type {\n",
       "        vertical-align: middle;\n",
       "    }\n",
       "\n",
       "    .dataframe tbody tr th {\n",
       "        vertical-align: top;\n",
       "    }\n",
       "\n",
       "    .dataframe thead th {\n",
       "        text-align: right;\n",
       "    }\n",
       "</style>\n",
       "<table border=\"1\" class=\"dataframe\">\n",
       "  <thead>\n",
       "    <tr style=\"text-align: right;\">\n",
       "      <th></th>\n",
       "      <th>df_col</th>\n",
       "      <th>true</th>\n",
       "      <th>misclassified_as</th>\n",
       "    </tr>\n",
       "  </thead>\n",
       "  <tbody>\n",
       "    <tr>\n",
       "      <th>0</th>\n",
       "      <td>127</td>\n",
       "      <td>6</td>\n",
       "      <td>4</td>\n",
       "    </tr>\n",
       "  </tbody>\n",
       "</table>\n",
       "</div>"
      ],
      "text/plain": [
       "   df_col  true  misclassified_as\n",
       "0     127     6                 4"
      ]
     },
     "execution_count": 237,
     "metadata": {},
     "output_type": "execute_result"
    }
   ],
   "source": [
    "df6w = pd.DataFrame(wrong_predictions[\"df6\"]).sort_values(by=[\"df_col\"])\n",
    "df6w"
   ]
  },
  {
   "cell_type": "code",
   "execution_count": 259,
   "id": "ebd536cc",
   "metadata": {},
   "outputs": [
    {
     "data": {
      "image/png": "[encoded data removed]",
      "text/plain": [
       "<Figure size 800x224 with 2 Axes>"
      ]
     },
     "metadata": {
      "needs_background": "light"
     },
     "output_type": "display_data"
    }
   ],
   "source": [
    "cu.plot_wrong_preds(df6, df6w[\"df_col\"].iloc[0], fapsc.red, f\"Klasse 6 falsch\\nklassifiziert als\\nKlasse 4\", \n",
    "                    df4[105], fapsc.blue, f\"Klasse 4\", figsize=(10, 2.8), dpi=80)"
   ]
  },
  {
   "cell_type": "markdown",
   "id": "be7107fb",
   "metadata": {},
   "source": [
    "## class 7"
   ]
  },
  {
   "cell_type": "code",
   "execution_count": 250,
   "id": "d9e2c74e",
   "metadata": {},
   "outputs": [
    {
     "data": {
      "text/html": [
       "<div>\n",
       "<style scoped>\n",
       "    .dataframe tbody tr th:only-of-type {\n",
       "        vertical-align: middle;\n",
       "    }\n",
       "\n",
       "    .dataframe tbody tr th {\n",
       "        vertical-align: top;\n",
       "    }\n",
       "\n",
       "    .dataframe thead th {\n",
       "        text-align: right;\n",
       "    }\n",
       "</style>\n",
       "<table border=\"1\" class=\"dataframe\">\n",
       "  <thead>\n",
       "    <tr style=\"text-align: right;\">\n",
       "      <th></th>\n",
       "      <th>df_col</th>\n",
       "      <th>true</th>\n",
       "      <th>misclassified_as</th>\n",
       "    </tr>\n",
       "  </thead>\n",
       "  <tbody>\n",
       "  </tbody>\n",
       "</table>\n",
       "</div>"
      ],
      "text/plain": [
       "Empty DataFrame\n",
       "Columns: [df_col, true, misclassified_as]\n",
       "Index: []"
      ]
     },
     "execution_count": 250,
     "metadata": {},
     "output_type": "execute_result"
    }
   ],
   "source": [
    "df7w = pd.DataFrame(wrong_predictions[\"df7\"]).sort_values(by=[\"df_col\"])\n",
    "df7w"
   ]
  }
 ],
 "metadata": {
  "kernelspec": {
   "display_name": "Python 3 (ipykernel)",
   "language": "python",
   "name": "python3"
  },
  "language_info": {
   "codemirror_mode": {
    "name": "ipython",
    "version": 3
   },
   "file_extension": ".py",
   "mimetype": "text/x-python",
   "name": "python",
   "nbconvert_exporter": "python",
   "pygments_lexer": "ipython3",
   "version": "3.9.12"
  }
 },
 "nbformat": 4,
 "nbformat_minor": 5
}
