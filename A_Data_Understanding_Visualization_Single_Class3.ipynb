{
 "cells": [
  {
   "cell_type": "markdown",
   "id": "35f95225",
   "metadata": {},
   "source": [
    "# Overview of this jupyter notebook\n",
    "\n",
    "### Purpose: Data understanding of each classes without data modification\n",
    "1. Loading screwing data \n",
    "2. Rise point of the curves\n",
    "3. Maximum value of the curves\n",
    "4. Rename files"
   ]
  },
  {
   "cell_type": "code",
   "execution_count": 1,
   "id": "d7a9c8b1",
   "metadata": {},
   "outputs": [
    {
     "name": "stdout",
     "output_type": "stream",
     "text": [
      "<module 'library.etl_data' from 'C:\\\\Users\\\\songs\\\\OneDrive\\\\Desktop\\\\0. PA_FAPS\\\\04_Code\\\\library\\\\etl_data.py'>\n",
      "<module 'library.faps_color' from 'C:\\\\Users\\\\songs\\\\OneDrive\\\\Desktop\\\\0. PA_FAPS\\\\04_Code\\\\library\\\\faps_color.py'>\n"
     ]
    }
   ],
   "source": [
    "import os\n",
    "import pandas as pd\n",
    "import numpy as np\n",
    "import plotly.graph_objects as go\n",
    "import plotly.express as px\n",
    "import matplotlib.pyplot as plt\n",
    "from tqdm.notebook import tqdm_notebook as tq\n",
    "import importlib\n",
    "from library import etl_data as etl        # this module contains functions that load, visualize and save the data\n",
    "from library import faps_color as fapsc    # this module contains the color combination of FAPS Institute\n",
    "print(importlib.reload(etl))\n",
    "print(importlib.reload(fapsc))"
   ]
  },
  {
   "cell_type": "markdown",
   "id": "ecdf1c6e",
   "metadata": {},
   "source": [
    "## 1. Loading screwing data"
   ]
  },
  {
   "cell_type": "code",
   "execution_count": 2,
   "id": "90c46265",
   "metadata": {},
   "outputs": [],
   "source": [
    "main_path = \"..\\\\03_Schraubprozessdaten\\\\einzelne_klassen\\\\\"\n",
    "folders = os.listdir(main_path)\n",
    "fname = \"\\\\ast11-graph\"\n",
    "fname_new = \"\\\\class3_\""
   ]
  },
  {
   "cell_type": "code",
   "execution_count": 3,
   "id": "e31dfd54",
   "metadata": {},
   "outputs": [
    {
     "data": {
      "text/plain": [
       "['0_in_ordnung',\n",
       " '1_kleine_durchgangsbohrung_v2',\n",
       " '2_falsch_ausgerichtete_fuegepartner_v3',\n",
       " '3_unebene_fuegeflaeche',\n",
       " '4_verunreinigtes_gewinde',\n",
       " '5_verschmutzte_schraube',\n",
       " '6_fremdkoerper_am_gewindeende',\n",
       " '7_beschaedigte_schraube']"
      ]
     },
     "execution_count": 3,
     "metadata": {},
     "output_type": "execute_result"
    }
   ],
   "source": [
    "folders"
   ]
  },
  {
   "cell_type": "code",
   "execution_count": 5,
   "id": "6a01512f",
   "metadata": {},
   "outputs": [],
   "source": [
    "class3 = '3_unebene_fuegeflaeche'"
   ]
  },
  {
   "cell_type": "code",
   "execution_count": 6,
   "id": "5eb08911",
   "metadata": {},
   "outputs": [],
   "source": [
    "def set_time(df, len_curves):\n",
    "    \n",
    "    original_time_step = 0.000175\n",
    "    max_time = max(len_curves)*original_time_step\n",
    "    len_datapoints = len(df)\n",
    "    time_steps = round(max_time/len_datapoints, 4)\n",
    "    \n",
    "    timeline = []\n",
    "\n",
    "    for i in range(len_datapoints):\n",
    "        i = round(i*time_steps, 4)\n",
    "        timeline.append(i)\n",
    "        \n",
    "    return np.array(timeline).reshape(-1, 1)"
   ]
  },
  {
   "cell_type": "code",
   "execution_count": 7,
   "id": "dc7bdbc0",
   "metadata": {},
   "outputs": [],
   "source": [
    "def load_data(main_path, folders, fname, downsample, file_amount):\n",
    "    \n",
    "    arr = []\n",
    "    len_curves = []\n",
    "    short_curves = []\n",
    "    low_curves = []\n",
    "    high_curves = []\n",
    "    \n",
    "    #for i in tq(range(1, len(os.listdir(main_path+folders))+1)):\n",
    "    for i in tq(range(file_amount)):\n",
    "        try:\n",
    "            file_path = main_path + folders + fname + str(i) + \".csv\"\n",
    "            data = pd.read_csv(file_path, encoding = 'ISO-8859-1')[\"Drehmoment(N·m)\"]\n",
    "            arr.append(data)\n",
    "            len_curves.append(len(data))\n",
    "        except:\n",
    "            print(i)\n",
    "        \n",
    "    for index, length in enumerate(len_curves): \n",
    "        if length < np.max(len_curves)*0.8:\n",
    "            short_curves.append(index)\n",
    "        \n",
    "    df = pd.concat(arr, axis=1, ignore_index=True)\n",
    "    df = df[:][::downsample]\n",
    "    df = df.reset_index(drop=True)\n",
    "    df[df < 0] = np.nan\n",
    "    df = df.fillna(0)\n",
    "    \n",
    "    for col in df:\n",
    "        if max(df[col]) < 1.0:\n",
    "            low_curves.append(col)\n",
    "    \n",
    "    return df, len_curves, short_curves, low_curves"
   ]
  },
  {
   "cell_type": "code",
   "execution_count": 8,
   "id": "694457cd",
   "metadata": {},
   "outputs": [
    {
     "data": {
      "application/vnd.jupyter.widget-view+json": {
       "model_id": "ad6fcc50707b4b8db56260965f1fa468",
       "version_major": 2,
       "version_minor": 0
      },
      "text/plain": [
       "  0%|          | 0/200 [00:00<?, ?it/s]"
      ]
     },
     "metadata": {},
     "output_type": "display_data"
    }
   ],
   "source": [
    "df3, len_curves, short_curves, low_curves = load_data(main_path, class3, fname_new, downsample=20, file_amount=200)"
   ]
  },
  {
   "cell_type": "code",
   "execution_count": 9,
   "id": "20d7dae3",
   "metadata": {},
   "outputs": [
    {
     "data": {
      "text/html": [
       "<div>\n",
       "<style scoped>\n",
       "    .dataframe tbody tr th:only-of-type {\n",
       "        vertical-align: middle;\n",
       "    }\n",
       "\n",
       "    .dataframe tbody tr th {\n",
       "        vertical-align: top;\n",
       "    }\n",
       "\n",
       "    .dataframe thead th {\n",
       "        text-align: right;\n",
       "    }\n",
       "</style>\n",
       "<table border=\"1\" class=\"dataframe\">\n",
       "  <thead>\n",
       "    <tr style=\"text-align: right;\">\n",
       "      <th></th>\n",
       "      <th>0</th>\n",
       "      <th>1</th>\n",
       "      <th>2</th>\n",
       "      <th>3</th>\n",
       "      <th>4</th>\n",
       "      <th>5</th>\n",
       "      <th>6</th>\n",
       "      <th>7</th>\n",
       "      <th>8</th>\n",
       "      <th>9</th>\n",
       "      <th>...</th>\n",
       "      <th>190</th>\n",
       "      <th>191</th>\n",
       "      <th>192</th>\n",
       "      <th>193</th>\n",
       "      <th>194</th>\n",
       "      <th>195</th>\n",
       "      <th>196</th>\n",
       "      <th>197</th>\n",
       "      <th>198</th>\n",
       "      <th>199</th>\n",
       "    </tr>\n",
       "  </thead>\n",
       "  <tbody>\n",
       "    <tr>\n",
       "      <th>0</th>\n",
       "      <td>0.01344</td>\n",
       "      <td>0.02688</td>\n",
       "      <td>0.01344</td>\n",
       "      <td>0.03136</td>\n",
       "      <td>0.00448</td>\n",
       "      <td>0.00896</td>\n",
       "      <td>0.00000</td>\n",
       "      <td>0.00000</td>\n",
       "      <td>0.01792</td>\n",
       "      <td>0.01792</td>\n",
       "      <td>...</td>\n",
       "      <td>0.02240</td>\n",
       "      <td>0.02688</td>\n",
       "      <td>0.00896</td>\n",
       "      <td>0.03136</td>\n",
       "      <td>0.02240</td>\n",
       "      <td>0.02688</td>\n",
       "      <td>0.02688</td>\n",
       "      <td>0.00896</td>\n",
       "      <td>0.01792</td>\n",
       "      <td>0.01344</td>\n",
       "    </tr>\n",
       "    <tr>\n",
       "      <th>1</th>\n",
       "      <td>0.01344</td>\n",
       "      <td>0.02688</td>\n",
       "      <td>0.01344</td>\n",
       "      <td>0.02688</td>\n",
       "      <td>0.00448</td>\n",
       "      <td>0.00896</td>\n",
       "      <td>0.00000</td>\n",
       "      <td>0.00000</td>\n",
       "      <td>0.01792</td>\n",
       "      <td>0.01344</td>\n",
       "      <td>...</td>\n",
       "      <td>0.02240</td>\n",
       "      <td>0.02240</td>\n",
       "      <td>0.00896</td>\n",
       "      <td>0.03136</td>\n",
       "      <td>0.02240</td>\n",
       "      <td>0.02688</td>\n",
       "      <td>0.02688</td>\n",
       "      <td>0.00896</td>\n",
       "      <td>0.01792</td>\n",
       "      <td>0.01344</td>\n",
       "    </tr>\n",
       "    <tr>\n",
       "      <th>2</th>\n",
       "      <td>0.00896</td>\n",
       "      <td>0.02240</td>\n",
       "      <td>0.01344</td>\n",
       "      <td>0.01344</td>\n",
       "      <td>0.00448</td>\n",
       "      <td>0.00000</td>\n",
       "      <td>0.00448</td>\n",
       "      <td>0.00448</td>\n",
       "      <td>0.01792</td>\n",
       "      <td>0.00448</td>\n",
       "      <td>...</td>\n",
       "      <td>0.01792</td>\n",
       "      <td>0.01344</td>\n",
       "      <td>0.00000</td>\n",
       "      <td>0.02240</td>\n",
       "      <td>0.00448</td>\n",
       "      <td>0.02240</td>\n",
       "      <td>0.02240</td>\n",
       "      <td>0.01344</td>\n",
       "      <td>0.01792</td>\n",
       "      <td>0.00448</td>\n",
       "    </tr>\n",
       "    <tr>\n",
       "      <th>3</th>\n",
       "      <td>0.00448</td>\n",
       "      <td>0.00448</td>\n",
       "      <td>0.00896</td>\n",
       "      <td>0.00000</td>\n",
       "      <td>0.00896</td>\n",
       "      <td>0.00000</td>\n",
       "      <td>0.00896</td>\n",
       "      <td>0.00896</td>\n",
       "      <td>0.01344</td>\n",
       "      <td>0.00000</td>\n",
       "      <td>...</td>\n",
       "      <td>0.01344</td>\n",
       "      <td>0.00000</td>\n",
       "      <td>0.00000</td>\n",
       "      <td>0.01344</td>\n",
       "      <td>0.00000</td>\n",
       "      <td>0.01792</td>\n",
       "      <td>0.01344</td>\n",
       "      <td>0.00896</td>\n",
       "      <td>0.00896</td>\n",
       "      <td>0.00000</td>\n",
       "    </tr>\n",
       "    <tr>\n",
       "      <th>4</th>\n",
       "      <td>0.00896</td>\n",
       "      <td>0.02240</td>\n",
       "      <td>0.01344</td>\n",
       "      <td>0.01344</td>\n",
       "      <td>0.01792</td>\n",
       "      <td>0.00448</td>\n",
       "      <td>0.01344</td>\n",
       "      <td>0.01344</td>\n",
       "      <td>0.01792</td>\n",
       "      <td>0.00896</td>\n",
       "      <td>...</td>\n",
       "      <td>0.01792</td>\n",
       "      <td>0.01344</td>\n",
       "      <td>0.00000</td>\n",
       "      <td>0.02240</td>\n",
       "      <td>0.00448</td>\n",
       "      <td>0.02240</td>\n",
       "      <td>0.02688</td>\n",
       "      <td>0.01344</td>\n",
       "      <td>0.01792</td>\n",
       "      <td>0.00448</td>\n",
       "    </tr>\n",
       "    <tr>\n",
       "      <th>...</th>\n",
       "      <td>...</td>\n",
       "      <td>...</td>\n",
       "      <td>...</td>\n",
       "      <td>...</td>\n",
       "      <td>...</td>\n",
       "      <td>...</td>\n",
       "      <td>...</td>\n",
       "      <td>...</td>\n",
       "      <td>...</td>\n",
       "      <td>...</td>\n",
       "      <td>...</td>\n",
       "      <td>...</td>\n",
       "      <td>...</td>\n",
       "      <td>...</td>\n",
       "      <td>...</td>\n",
       "      <td>...</td>\n",
       "      <td>...</td>\n",
       "      <td>...</td>\n",
       "      <td>...</td>\n",
       "      <td>...</td>\n",
       "      <td>...</td>\n",
       "    </tr>\n",
       "    <tr>\n",
       "      <th>692</th>\n",
       "      <td>0.00000</td>\n",
       "      <td>0.00000</td>\n",
       "      <td>0.00000</td>\n",
       "      <td>0.00000</td>\n",
       "      <td>0.00000</td>\n",
       "      <td>0.00000</td>\n",
       "      <td>0.00000</td>\n",
       "      <td>0.00000</td>\n",
       "      <td>0.00000</td>\n",
       "      <td>0.00000</td>\n",
       "      <td>...</td>\n",
       "      <td>0.00000</td>\n",
       "      <td>0.00000</td>\n",
       "      <td>0.00000</td>\n",
       "      <td>0.00000</td>\n",
       "      <td>0.00000</td>\n",
       "      <td>0.60032</td>\n",
       "      <td>0.00000</td>\n",
       "      <td>0.46592</td>\n",
       "      <td>0.00000</td>\n",
       "      <td>0.00000</td>\n",
       "    </tr>\n",
       "    <tr>\n",
       "      <th>693</th>\n",
       "      <td>0.00000</td>\n",
       "      <td>0.00000</td>\n",
       "      <td>0.00000</td>\n",
       "      <td>0.00000</td>\n",
       "      <td>0.00000</td>\n",
       "      <td>0.00000</td>\n",
       "      <td>0.00000</td>\n",
       "      <td>0.00000</td>\n",
       "      <td>0.00000</td>\n",
       "      <td>0.00000</td>\n",
       "      <td>...</td>\n",
       "      <td>0.00000</td>\n",
       "      <td>0.00000</td>\n",
       "      <td>0.00000</td>\n",
       "      <td>0.00000</td>\n",
       "      <td>0.00000</td>\n",
       "      <td>0.48832</td>\n",
       "      <td>0.00000</td>\n",
       "      <td>0.42112</td>\n",
       "      <td>0.00000</td>\n",
       "      <td>0.00000</td>\n",
       "    </tr>\n",
       "    <tr>\n",
       "      <th>694</th>\n",
       "      <td>0.00000</td>\n",
       "      <td>0.00000</td>\n",
       "      <td>0.00000</td>\n",
       "      <td>0.00000</td>\n",
       "      <td>0.00000</td>\n",
       "      <td>0.00000</td>\n",
       "      <td>0.00000</td>\n",
       "      <td>0.00000</td>\n",
       "      <td>0.00000</td>\n",
       "      <td>0.00000</td>\n",
       "      <td>...</td>\n",
       "      <td>0.00000</td>\n",
       "      <td>0.00000</td>\n",
       "      <td>0.00000</td>\n",
       "      <td>0.00000</td>\n",
       "      <td>0.00000</td>\n",
       "      <td>0.41216</td>\n",
       "      <td>0.00000</td>\n",
       "      <td>0.27776</td>\n",
       "      <td>0.00000</td>\n",
       "      <td>0.00000</td>\n",
       "    </tr>\n",
       "    <tr>\n",
       "      <th>695</th>\n",
       "      <td>0.00000</td>\n",
       "      <td>0.00000</td>\n",
       "      <td>0.00000</td>\n",
       "      <td>0.00000</td>\n",
       "      <td>0.00000</td>\n",
       "      <td>0.00000</td>\n",
       "      <td>0.00000</td>\n",
       "      <td>0.00000</td>\n",
       "      <td>0.00000</td>\n",
       "      <td>0.00000</td>\n",
       "      <td>...</td>\n",
       "      <td>0.00000</td>\n",
       "      <td>0.00000</td>\n",
       "      <td>0.00000</td>\n",
       "      <td>0.00000</td>\n",
       "      <td>0.00000</td>\n",
       "      <td>0.21952</td>\n",
       "      <td>0.00000</td>\n",
       "      <td>0.08512</td>\n",
       "      <td>0.00000</td>\n",
       "      <td>0.00000</td>\n",
       "    </tr>\n",
       "    <tr>\n",
       "      <th>696</th>\n",
       "      <td>0.00000</td>\n",
       "      <td>0.00000</td>\n",
       "      <td>0.00000</td>\n",
       "      <td>0.00000</td>\n",
       "      <td>0.00000</td>\n",
       "      <td>0.00000</td>\n",
       "      <td>0.00000</td>\n",
       "      <td>0.00000</td>\n",
       "      <td>0.00000</td>\n",
       "      <td>0.00000</td>\n",
       "      <td>...</td>\n",
       "      <td>0.00000</td>\n",
       "      <td>0.00000</td>\n",
       "      <td>0.00000</td>\n",
       "      <td>0.00000</td>\n",
       "      <td>0.00000</td>\n",
       "      <td>0.08064</td>\n",
       "      <td>0.00000</td>\n",
       "      <td>0.00000</td>\n",
       "      <td>0.00000</td>\n",
       "      <td>0.00000</td>\n",
       "    </tr>\n",
       "  </tbody>\n",
       "</table>\n",
       "<p>697 rows × 200 columns</p>\n",
       "</div>"
      ],
      "text/plain": [
       "         0        1        2        3        4        5        6        7    \\\n",
       "0    0.01344  0.02688  0.01344  0.03136  0.00448  0.00896  0.00000  0.00000   \n",
       "1    0.01344  0.02688  0.01344  0.02688  0.00448  0.00896  0.00000  0.00000   \n",
       "2    0.00896  0.02240  0.01344  0.01344  0.00448  0.00000  0.00448  0.00448   \n",
       "3    0.00448  0.00448  0.00896  0.00000  0.00896  0.00000  0.00896  0.00896   \n",
       "4    0.00896  0.02240  0.01344  0.01344  0.01792  0.00448  0.01344  0.01344   \n",
       "..       ...      ...      ...      ...      ...      ...      ...      ...   \n",
       "692  0.00000  0.00000  0.00000  0.00000  0.00000  0.00000  0.00000  0.00000   \n",
       "693  0.00000  0.00000  0.00000  0.00000  0.00000  0.00000  0.00000  0.00000   \n",
       "694  0.00000  0.00000  0.00000  0.00000  0.00000  0.00000  0.00000  0.00000   \n",
       "695  0.00000  0.00000  0.00000  0.00000  0.00000  0.00000  0.00000  0.00000   \n",
       "696  0.00000  0.00000  0.00000  0.00000  0.00000  0.00000  0.00000  0.00000   \n",
       "\n",
       "         8        9    ...      190      191      192      193      194  \\\n",
       "0    0.01792  0.01792  ...  0.02240  0.02688  0.00896  0.03136  0.02240   \n",
       "1    0.01792  0.01344  ...  0.02240  0.02240  0.00896  0.03136  0.02240   \n",
       "2    0.01792  0.00448  ...  0.01792  0.01344  0.00000  0.02240  0.00448   \n",
       "3    0.01344  0.00000  ...  0.01344  0.00000  0.00000  0.01344  0.00000   \n",
       "4    0.01792  0.00896  ...  0.01792  0.01344  0.00000  0.02240  0.00448   \n",
       "..       ...      ...  ...      ...      ...      ...      ...      ...   \n",
       "692  0.00000  0.00000  ...  0.00000  0.00000  0.00000  0.00000  0.00000   \n",
       "693  0.00000  0.00000  ...  0.00000  0.00000  0.00000  0.00000  0.00000   \n",
       "694  0.00000  0.00000  ...  0.00000  0.00000  0.00000  0.00000  0.00000   \n",
       "695  0.00000  0.00000  ...  0.00000  0.00000  0.00000  0.00000  0.00000   \n",
       "696  0.00000  0.00000  ...  0.00000  0.00000  0.00000  0.00000  0.00000   \n",
       "\n",
       "         195      196      197      198      199  \n",
       "0    0.02688  0.02688  0.00896  0.01792  0.01344  \n",
       "1    0.02688  0.02688  0.00896  0.01792  0.01344  \n",
       "2    0.02240  0.02240  0.01344  0.01792  0.00448  \n",
       "3    0.01792  0.01344  0.00896  0.00896  0.00000  \n",
       "4    0.02240  0.02688  0.01344  0.01792  0.00448  \n",
       "..       ...      ...      ...      ...      ...  \n",
       "692  0.60032  0.00000  0.46592  0.00000  0.00000  \n",
       "693  0.48832  0.00000  0.42112  0.00000  0.00000  \n",
       "694  0.41216  0.00000  0.27776  0.00000  0.00000  \n",
       "695  0.21952  0.00000  0.08512  0.00000  0.00000  \n",
       "696  0.08064  0.00000  0.00000  0.00000  0.00000  \n",
       "\n",
       "[697 rows x 200 columns]"
      ]
     },
     "execution_count": 9,
     "metadata": {},
     "output_type": "execute_result"
    }
   ],
   "source": [
    "df3"
   ]
  },
  {
   "cell_type": "code",
   "execution_count": 10,
   "id": "09279265",
   "metadata": {},
   "outputs": [
    {
     "data": {
      "text/plain": [
       "[]"
      ]
     },
     "execution_count": 10,
     "metadata": {},
     "output_type": "execute_result"
    }
   ],
   "source": [
    "short_curves"
   ]
  },
  {
   "cell_type": "code",
   "execution_count": 11,
   "id": "cbd7f42f",
   "metadata": {},
   "outputs": [
    {
     "data": {
      "text/plain": [
       "[]"
      ]
     },
     "execution_count": 11,
     "metadata": {},
     "output_type": "execute_result"
    }
   ],
   "source": [
    "low_curves"
   ]
  },
  {
   "cell_type": "code",
   "execution_count": 12,
   "id": "b753bc73",
   "metadata": {},
   "outputs": [
    {
     "data": {
      "text/plain": [
       "[]"
      ]
     },
     "execution_count": 12,
     "metadata": {},
     "output_type": "execute_result"
    }
   ],
   "source": [
    "problem_col = sorted(set(short_curves + low_curves))\n",
    "problem_col"
   ]
  },
  {
   "cell_type": "code",
   "execution_count": 13,
   "id": "ac14cf0e",
   "metadata": {},
   "outputs": [
    {
     "data": {
      "image/png": "[encoded data removed]",
      "text/plain": [
       "<Figure size 864x360 with 1 Axes>"
      ]
     },
     "metadata": {
      "needs_background": "light"
     },
     "output_type": "display_data"
    }
   ],
   "source": [
    "plt.figure(figsize=(12,5))\n",
    "plt.plot(df3)\n",
    "plt.grid()\n",
    "plt.show()"
   ]
  },
  {
   "cell_type": "markdown",
   "id": "16065690",
   "metadata": {},
   "source": [
    "## 2. Rise point of the curves"
   ]
  },
  {
   "cell_type": "code",
   "execution_count": 29,
   "id": "846655ef",
   "metadata": {},
   "outputs": [],
   "source": [
    "raise_point = []\n",
    "\n",
    "for col in df3:\n",
    "    for i, val in enumerate(df3[col]):\n",
    "        if val > 1:\n",
    "            raise_point.append(i)\n",
    "            break"
   ]
  },
  {
   "cell_type": "code",
   "execution_count": 30,
   "id": "fa09b3ff",
   "metadata": {},
   "outputs": [
    {
     "data": {
      "text/plain": [
       "582.18"
      ]
     },
     "execution_count": 30,
     "metadata": {},
     "output_type": "execute_result"
    }
   ],
   "source": [
    "np.mean(raise_point)"
   ]
  },
  {
   "cell_type": "code",
   "execution_count": 31,
   "id": "ee462afb",
   "metadata": {},
   "outputs": [
    {
     "data": {
      "image/png": "[encoded data removed]",
      "text/plain": [
       "<Figure size 288x432 with 1 Axes>"
      ]
     },
     "metadata": {
      "needs_background": "light"
     },
     "output_type": "display_data"
    }
   ],
   "source": [
    "plt.figure(figsize=(4,6))\n",
    "plt.boxplot(raise_point)\n",
    "plt.grid()\n",
    "plt.show()"
   ]
  },
  {
   "cell_type": "markdown",
   "id": "95590ba1",
   "metadata": {},
   "source": [
    "## 3. Maximum value of the curves"
   ]
  },
  {
   "cell_type": "code",
   "execution_count": 32,
   "id": "822cfeef",
   "metadata": {},
   "outputs": [],
   "source": [
    "max_values = []\n",
    "\n",
    "for col in df3:\n",
    "    max_values.append(max(df3[col]))"
   ]
  },
  {
   "cell_type": "code",
   "execution_count": 33,
   "id": "5f6ebe0d",
   "metadata": {},
   "outputs": [
    {
     "data": {
      "text/plain": [
       "2.1717696"
      ]
     },
     "execution_count": 33,
     "metadata": {},
     "output_type": "execute_result"
    }
   ],
   "source": [
    "np.mean(max_values)"
   ]
  },
  {
   "cell_type": "code",
   "execution_count": 34,
   "id": "b0e438bd",
   "metadata": {},
   "outputs": [
    {
     "data": {
      "image/png": "[encoded data removed]",
      "text/plain": [
       "<Figure size 288x432 with 1 Axes>"
      ]
     },
     "metadata": {
      "needs_background": "light"
     },
     "output_type": "display_data"
    }
   ],
   "source": [
    "plt.figure(figsize=(4,6))\n",
    "plt.boxplot(max_values)\n",
    "plt.grid()\n",
    "plt.show()"
   ]
  },
  {
   "cell_type": "markdown",
   "id": "1c15a53c",
   "metadata": {},
   "source": [
    "## 4. Rename files"
   ]
  },
  {
   "cell_type": "code",
   "execution_count": 59,
   "id": "75e57d7c",
   "metadata": {},
   "outputs": [],
   "source": [
    "def rename_csv(main_path, folder, fname_new, file_amount):\n",
    "    \n",
    "    for i in range(file_amount):\n",
    "        old = os.path.join(main_path, folder, os.listdir(main_path + folder)[i])\n",
    "        new = os.path.join(main_path, folder, fname_new + str(i) + \".csv\")\n",
    "        #print(i)\n",
    "        os.rename(old, new)"
   ]
  },
  {
   "cell_type": "code",
   "execution_count": 60,
   "id": "dbc044b3",
   "metadata": {},
   "outputs": [
    {
     "data": {
      "text/plain": [
       "'..\\\\Daten\\\\einzelne_klassen\\\\3_unebene_fuegeflaeche\\\\rename (1).csv'"
      ]
     },
     "execution_count": 60,
     "metadata": {},
     "output_type": "execute_result"
    }
   ],
   "source": [
    "old = os.path.join(main_path, class3, os.listdir(main_path + class3)[0])\n",
    "old"
   ]
  },
  {
   "cell_type": "code",
   "execution_count": 61,
   "id": "a5d5ce9a",
   "metadata": {},
   "outputs": [
    {
     "data": {
      "text/plain": [
       "'..\\\\Daten\\\\einzelne_klassen\\\\3_unebene_fuegeflaeche\\\\class3_0.csv'"
      ]
     },
     "execution_count": 61,
     "metadata": {},
     "output_type": "execute_result"
    }
   ],
   "source": [
    "new = os.path.join(main_path, class3, \"class3_\" + str(0) + \".csv\")\n",
    "new"
   ]
  },
  {
   "cell_type": "code",
   "execution_count": 62,
   "id": "f0edacbb",
   "metadata": {},
   "outputs": [],
   "source": [
    "#rename_csv(main_path, class3, \"class3_\", file_amount=194)"
   ]
  },
  {
   "cell_type": "code",
   "execution_count": null,
   "id": "947d9a69",
   "metadata": {},
   "outputs": [],
   "source": []
  }
 ],
 "metadata": {
  "kernelspec": {
   "display_name": "Python 3 (ipykernel)",
   "language": "python",
   "name": "python3"
  },
  "language_info": {
   "codemirror_mode": {
    "name": "ipython",
    "version": 3
   },
   "file_extension": ".py",
   "mimetype": "text/x-python",
   "name": "python",
   "nbconvert_exporter": "python",
   "pygments_lexer": "ipython3",
   "version": "3.9.12"
  }
 },
 "nbformat": 4,
 "nbformat_minor": 5
}
