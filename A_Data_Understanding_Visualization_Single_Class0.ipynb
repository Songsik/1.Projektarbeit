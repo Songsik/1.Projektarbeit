{
 "cells": [
  {
   "cell_type": "markdown",
   "id": "720878af",
   "metadata": {},
   "source": [
    "# Overview of this jupyter notebook\n",
    "\n",
    "### Purpose: Data understanding of each classes without data modification\n",
    "1. Loading screwing data \n",
    "2. Average curve shape in the initial phase\n",
    "3. Rise point of the curves\n",
    "4. Maximum value of the curves\n",
    "5. High values in the initial phase\n",
    "6. Rename files"
   ]
  },
  {
   "cell_type": "code",
   "execution_count": 6,
   "id": "d7a9c8b1",
   "metadata": {},
   "outputs": [
    {
     "name": "stdout",
     "output_type": "stream",
     "text": [
      "<module 'library.etl_data' from 'C:\\\\Users\\\\songs\\\\OneDrive\\\\Desktop\\\\0. PA_FAPS\\\\04_Code\\\\library\\\\etl_data.py'>\n",
      "<module 'library.faps_color' from 'C:\\\\Users\\\\songs\\\\OneDrive\\\\Desktop\\\\0. PA_FAPS\\\\04_Code\\\\library\\\\faps_color.py'>\n"
     ]
    }
   ],
   "source": [
    "import os\n",
    "import pandas as pd\n",
    "import numpy as np\n",
    "import plotly.graph_objects as go\n",
    "import plotly.express as px\n",
    "import matplotlib.pyplot as plt\n",
    "from tqdm.notebook import tqdm_notebook as tq\n",
    "import importlib\n",
    "from library import etl_data as etl        # this module contains functions that load, visualize and save the data\n",
    "from library import faps_color as fapsc    # this module contains the color combination of FAPS Institute\n",
    "print(importlib.reload(etl))\n",
    "print(importlib.reload(fapsc))"
   ]
  },
  {
   "cell_type": "markdown",
   "id": "9589774d",
   "metadata": {},
   "source": [
    "## 1. Loading screwing data"
   ]
  },
  {
   "cell_type": "code",
   "execution_count": 7,
   "id": "90c46265",
   "metadata": {},
   "outputs": [],
   "source": [
    "main_path = \"..\\\\03_Schraubprozessdaten\\\\einzelne_klassen\\\\\"\n",
    "folders = os.listdir(main_path)\n",
    "fname = \"\\\\ast11-graph_\"\n",
    "fname_new = \"\\\\class0_\""
   ]
  },
  {
   "cell_type": "code",
   "execution_count": 8,
   "id": "e31dfd54",
   "metadata": {},
   "outputs": [
    {
     "data": {
      "text/plain": [
       "['0_in_ordnung',\n",
       " '1_kleine_durchgangsbohrung_v2',\n",
       " '2_falsch_ausgerichtete_fuegepartner_v3',\n",
       " '3_unebene_fuegeflaeche',\n",
       " '4_verunreinigtes_gewinde',\n",
       " '5_verschmutzte_schraube',\n",
       " '6_fremdkoerper_am_gewindeende',\n",
       " '7_beschaedigte_schraube']"
      ]
     },
     "execution_count": 8,
     "metadata": {},
     "output_type": "execute_result"
    }
   ],
   "source": [
    "folders"
   ]
  },
  {
   "cell_type": "code",
   "execution_count": 9,
   "id": "6a01512f",
   "metadata": {},
   "outputs": [],
   "source": [
    "class0 = '0_in_ordnung'"
   ]
  },
  {
   "cell_type": "code",
   "execution_count": 105,
   "id": "5eb08911",
   "metadata": {},
   "outputs": [],
   "source": [
    "def set_time(df, len_curves):\n",
    "    \n",
    "    original_time_step = 0.000175\n",
    "    max_time = max(len_curves)*original_time_step\n",
    "    len_datapoints = len(df)\n",
    "    time_steps = round(max_time/len_datapoints, 4)\n",
    "    \n",
    "    timeline = []\n",
    "\n",
    "    for i in range(len_datapoints):\n",
    "        i = round(i*time_steps, 4)\n",
    "        timeline.append(i)\n",
    "        \n",
    "    return np.array(timeline).reshape(-1, 1)"
   ]
  },
  {
   "cell_type": "code",
   "execution_count": 106,
   "id": "dc7bdbc0",
   "metadata": {},
   "outputs": [],
   "source": [
    "def load_data(main_path, folders, fname, downsample, file_amount):\n",
    "    \n",
    "    arr = []\n",
    "    len_curves = []\n",
    "    short_curves = []\n",
    "    low_curves = []\n",
    "\n",
    "    for i in tq(range(file_amount)):\n",
    "        try:\n",
    "            file_path = main_path + folders + fname + str(i) + \".csv\"\n",
    "            data = pd.read_csv(file_path, encoding = 'ISO-8859-1')[\"Drehmoment(N·m)\"]\n",
    "            arr.append(data)\n",
    "            len_curves.append(len(data))\n",
    "        except:\n",
    "            print(i)\n",
    "        \n",
    "    for index, length in enumerate(len_curves): \n",
    "        if length < np.max(len_curves)*0.8:\n",
    "            short_curves.append(index)\n",
    "        \n",
    "    df = pd.concat(arr, axis=1, ignore_index=True)\n",
    "    df = df[:][::downsample]\n",
    "    df = df.reset_index(drop=True)\n",
    "    df[df < 0] = np.nan\n",
    "    df = df.fillna(0)\n",
    "    \n",
    "    for col in df:\n",
    "        if max(df[col]) < 1.0:\n",
    "            low_curves.append(col)\n",
    "    \n",
    "    return df, len_curves, short_curves, low_curves"
   ]
  },
  {
   "cell_type": "code",
   "execution_count": 107,
   "id": "694457cd",
   "metadata": {},
   "outputs": [
    {
     "data": {
      "application/vnd.jupyter.widget-view+json": {
       "model_id": "641c9ca7d76f4b5bb7956dd5405c211d",
       "version_major": 2,
       "version_minor": 0
      },
      "text/plain": [
       "  0%|          | 0/800 [00:00<?, ?it/s]"
      ]
     },
     "metadata": {},
     "output_type": "display_data"
    }
   ],
   "source": [
    "df0, len_curves, short_curves, low_curves = load_data(main_path, class0, fname_new, downsample=20, file_amount=800)"
   ]
  },
  {
   "cell_type": "code",
   "execution_count": 108,
   "id": "20d7dae3",
   "metadata": {},
   "outputs": [
    {
     "data": {
      "text/html": [
       "<div>\n",
       "<style scoped>\n",
       "    .dataframe tbody tr th:only-of-type {\n",
       "        vertical-align: middle;\n",
       "    }\n",
       "\n",
       "    .dataframe tbody tr th {\n",
       "        vertical-align: top;\n",
       "    }\n",
       "\n",
       "    .dataframe thead th {\n",
       "        text-align: right;\n",
       "    }\n",
       "</style>\n",
       "<table border=\"1\" class=\"dataframe\">\n",
       "  <thead>\n",
       "    <tr style=\"text-align: right;\">\n",
       "      <th></th>\n",
       "      <th>0</th>\n",
       "      <th>1</th>\n",
       "      <th>2</th>\n",
       "      <th>3</th>\n",
       "      <th>4</th>\n",
       "      <th>5</th>\n",
       "      <th>6</th>\n",
       "      <th>7</th>\n",
       "      <th>8</th>\n",
       "      <th>9</th>\n",
       "      <th>...</th>\n",
       "      <th>790</th>\n",
       "      <th>791</th>\n",
       "      <th>792</th>\n",
       "      <th>793</th>\n",
       "      <th>794</th>\n",
       "      <th>795</th>\n",
       "      <th>796</th>\n",
       "      <th>797</th>\n",
       "      <th>798</th>\n",
       "      <th>799</th>\n",
       "    </tr>\n",
       "  </thead>\n",
       "  <tbody>\n",
       "    <tr>\n",
       "      <th>0</th>\n",
       "      <td>0.00448</td>\n",
       "      <td>0.00896</td>\n",
       "      <td>0.00448</td>\n",
       "      <td>0.01792</td>\n",
       "      <td>0.01344</td>\n",
       "      <td>0.00896</td>\n",
       "      <td>0.01792</td>\n",
       "      <td>0.02240</td>\n",
       "      <td>0.02688</td>\n",
       "      <td>0.03136</td>\n",
       "      <td>...</td>\n",
       "      <td>0.01792</td>\n",
       "      <td>0.02688</td>\n",
       "      <td>0.00896</td>\n",
       "      <td>0.00896</td>\n",
       "      <td>0.00000</td>\n",
       "      <td>0.01344</td>\n",
       "      <td>0.00448</td>\n",
       "      <td>0.00448</td>\n",
       "      <td>0.03136</td>\n",
       "      <td>0.00896</td>\n",
       "    </tr>\n",
       "    <tr>\n",
       "      <th>1</th>\n",
       "      <td>0.00448</td>\n",
       "      <td>0.00896</td>\n",
       "      <td>0.00000</td>\n",
       "      <td>0.01792</td>\n",
       "      <td>0.01344</td>\n",
       "      <td>0.00896</td>\n",
       "      <td>0.01792</td>\n",
       "      <td>0.02240</td>\n",
       "      <td>0.02688</td>\n",
       "      <td>0.03136</td>\n",
       "      <td>...</td>\n",
       "      <td>0.01792</td>\n",
       "      <td>0.02688</td>\n",
       "      <td>0.00896</td>\n",
       "      <td>0.00896</td>\n",
       "      <td>0.00000</td>\n",
       "      <td>0.01344</td>\n",
       "      <td>0.00448</td>\n",
       "      <td>0.00448</td>\n",
       "      <td>0.02688</td>\n",
       "      <td>0.00896</td>\n",
       "    </tr>\n",
       "    <tr>\n",
       "      <th>2</th>\n",
       "      <td>0.00896</td>\n",
       "      <td>0.00896</td>\n",
       "      <td>0.00000</td>\n",
       "      <td>0.01792</td>\n",
       "      <td>0.00896</td>\n",
       "      <td>0.00896</td>\n",
       "      <td>0.00896</td>\n",
       "      <td>0.00448</td>\n",
       "      <td>0.01792</td>\n",
       "      <td>0.00896</td>\n",
       "      <td>...</td>\n",
       "      <td>0.00896</td>\n",
       "      <td>0.00896</td>\n",
       "      <td>0.00000</td>\n",
       "      <td>0.00448</td>\n",
       "      <td>0.00448</td>\n",
       "      <td>0.01792</td>\n",
       "      <td>0.00896</td>\n",
       "      <td>0.01344</td>\n",
       "      <td>0.00896</td>\n",
       "      <td>0.01344</td>\n",
       "    </tr>\n",
       "    <tr>\n",
       "      <th>3</th>\n",
       "      <td>0.00896</td>\n",
       "      <td>0.01344</td>\n",
       "      <td>0.00000</td>\n",
       "      <td>0.00896</td>\n",
       "      <td>0.00000</td>\n",
       "      <td>0.00896</td>\n",
       "      <td>0.00000</td>\n",
       "      <td>0.00000</td>\n",
       "      <td>0.01344</td>\n",
       "      <td>0.00000</td>\n",
       "      <td>...</td>\n",
       "      <td>0.00000</td>\n",
       "      <td>0.00000</td>\n",
       "      <td>0.00000</td>\n",
       "      <td>0.00000</td>\n",
       "      <td>0.00448</td>\n",
       "      <td>0.01344</td>\n",
       "      <td>0.00896</td>\n",
       "      <td>0.01344</td>\n",
       "      <td>0.00448</td>\n",
       "      <td>0.01344</td>\n",
       "    </tr>\n",
       "    <tr>\n",
       "      <th>4</th>\n",
       "      <td>0.01344</td>\n",
       "      <td>0.01792</td>\n",
       "      <td>0.00000</td>\n",
       "      <td>0.01792</td>\n",
       "      <td>0.00896</td>\n",
       "      <td>0.01344</td>\n",
       "      <td>0.00896</td>\n",
       "      <td>0.00448</td>\n",
       "      <td>0.01792</td>\n",
       "      <td>0.00896</td>\n",
       "      <td>...</td>\n",
       "      <td>0.00448</td>\n",
       "      <td>0.00896</td>\n",
       "      <td>0.00000</td>\n",
       "      <td>0.00448</td>\n",
       "      <td>0.00896</td>\n",
       "      <td>0.01792</td>\n",
       "      <td>0.00896</td>\n",
       "      <td>0.01792</td>\n",
       "      <td>0.00896</td>\n",
       "      <td>0.01792</td>\n",
       "    </tr>\n",
       "    <tr>\n",
       "      <th>...</th>\n",
       "      <td>...</td>\n",
       "      <td>...</td>\n",
       "      <td>...</td>\n",
       "      <td>...</td>\n",
       "      <td>...</td>\n",
       "      <td>...</td>\n",
       "      <td>...</td>\n",
       "      <td>...</td>\n",
       "      <td>...</td>\n",
       "      <td>...</td>\n",
       "      <td>...</td>\n",
       "      <td>...</td>\n",
       "      <td>...</td>\n",
       "      <td>...</td>\n",
       "      <td>...</td>\n",
       "      <td>...</td>\n",
       "      <td>...</td>\n",
       "      <td>...</td>\n",
       "      <td>...</td>\n",
       "      <td>...</td>\n",
       "      <td>...</td>\n",
       "    </tr>\n",
       "    <tr>\n",
       "      <th>770</th>\n",
       "      <td>0.00000</td>\n",
       "      <td>0.00000</td>\n",
       "      <td>0.00000</td>\n",
       "      <td>0.00000</td>\n",
       "      <td>0.00000</td>\n",
       "      <td>0.00000</td>\n",
       "      <td>0.00000</td>\n",
       "      <td>0.00000</td>\n",
       "      <td>0.00000</td>\n",
       "      <td>0.00000</td>\n",
       "      <td>...</td>\n",
       "      <td>0.00000</td>\n",
       "      <td>0.00000</td>\n",
       "      <td>0.38080</td>\n",
       "      <td>0.00000</td>\n",
       "      <td>0.00000</td>\n",
       "      <td>0.00000</td>\n",
       "      <td>0.00000</td>\n",
       "      <td>0.00000</td>\n",
       "      <td>0.00000</td>\n",
       "      <td>0.00000</td>\n",
       "    </tr>\n",
       "    <tr>\n",
       "      <th>771</th>\n",
       "      <td>0.00000</td>\n",
       "      <td>0.00000</td>\n",
       "      <td>0.00000</td>\n",
       "      <td>0.00000</td>\n",
       "      <td>0.00000</td>\n",
       "      <td>0.00000</td>\n",
       "      <td>0.00000</td>\n",
       "      <td>0.00000</td>\n",
       "      <td>0.00000</td>\n",
       "      <td>0.00000</td>\n",
       "      <td>...</td>\n",
       "      <td>0.00000</td>\n",
       "      <td>0.00000</td>\n",
       "      <td>0.20160</td>\n",
       "      <td>0.00000</td>\n",
       "      <td>0.00000</td>\n",
       "      <td>0.00000</td>\n",
       "      <td>0.00000</td>\n",
       "      <td>0.00000</td>\n",
       "      <td>0.00000</td>\n",
       "      <td>0.00000</td>\n",
       "    </tr>\n",
       "    <tr>\n",
       "      <th>772</th>\n",
       "      <td>0.00000</td>\n",
       "      <td>0.00000</td>\n",
       "      <td>0.00000</td>\n",
       "      <td>0.00000</td>\n",
       "      <td>0.00000</td>\n",
       "      <td>0.00000</td>\n",
       "      <td>0.00000</td>\n",
       "      <td>0.00000</td>\n",
       "      <td>0.00000</td>\n",
       "      <td>0.00000</td>\n",
       "      <td>...</td>\n",
       "      <td>0.00000</td>\n",
       "      <td>0.00000</td>\n",
       "      <td>0.00000</td>\n",
       "      <td>0.00000</td>\n",
       "      <td>0.00000</td>\n",
       "      <td>0.00000</td>\n",
       "      <td>0.00000</td>\n",
       "      <td>0.00000</td>\n",
       "      <td>0.00000</td>\n",
       "      <td>0.00000</td>\n",
       "    </tr>\n",
       "    <tr>\n",
       "      <th>773</th>\n",
       "      <td>0.00000</td>\n",
       "      <td>0.00000</td>\n",
       "      <td>0.00000</td>\n",
       "      <td>0.00000</td>\n",
       "      <td>0.00000</td>\n",
       "      <td>0.00000</td>\n",
       "      <td>0.00000</td>\n",
       "      <td>0.00000</td>\n",
       "      <td>0.00000</td>\n",
       "      <td>0.00000</td>\n",
       "      <td>...</td>\n",
       "      <td>0.00000</td>\n",
       "      <td>0.00000</td>\n",
       "      <td>0.00000</td>\n",
       "      <td>0.00000</td>\n",
       "      <td>0.00000</td>\n",
       "      <td>0.00000</td>\n",
       "      <td>0.00000</td>\n",
       "      <td>0.00000</td>\n",
       "      <td>0.00000</td>\n",
       "      <td>0.00000</td>\n",
       "    </tr>\n",
       "    <tr>\n",
       "      <th>774</th>\n",
       "      <td>0.00000</td>\n",
       "      <td>0.00000</td>\n",
       "      <td>0.00000</td>\n",
       "      <td>0.00000</td>\n",
       "      <td>0.00000</td>\n",
       "      <td>0.00000</td>\n",
       "      <td>0.00000</td>\n",
       "      <td>0.00000</td>\n",
       "      <td>0.00000</td>\n",
       "      <td>0.00000</td>\n",
       "      <td>...</td>\n",
       "      <td>0.00000</td>\n",
       "      <td>0.00000</td>\n",
       "      <td>0.00000</td>\n",
       "      <td>0.00000</td>\n",
       "      <td>0.00000</td>\n",
       "      <td>0.00000</td>\n",
       "      <td>0.00000</td>\n",
       "      <td>0.00000</td>\n",
       "      <td>0.00000</td>\n",
       "      <td>0.00000</td>\n",
       "    </tr>\n",
       "  </tbody>\n",
       "</table>\n",
       "<p>775 rows × 800 columns</p>\n",
       "</div>"
      ],
      "text/plain": [
       "         0        1        2        3        4        5        6        7    \\\n",
       "0    0.00448  0.00896  0.00448  0.01792  0.01344  0.00896  0.01792  0.02240   \n",
       "1    0.00448  0.00896  0.00000  0.01792  0.01344  0.00896  0.01792  0.02240   \n",
       "2    0.00896  0.00896  0.00000  0.01792  0.00896  0.00896  0.00896  0.00448   \n",
       "3    0.00896  0.01344  0.00000  0.00896  0.00000  0.00896  0.00000  0.00000   \n",
       "4    0.01344  0.01792  0.00000  0.01792  0.00896  0.01344  0.00896  0.00448   \n",
       "..       ...      ...      ...      ...      ...      ...      ...      ...   \n",
       "770  0.00000  0.00000  0.00000  0.00000  0.00000  0.00000  0.00000  0.00000   \n",
       "771  0.00000  0.00000  0.00000  0.00000  0.00000  0.00000  0.00000  0.00000   \n",
       "772  0.00000  0.00000  0.00000  0.00000  0.00000  0.00000  0.00000  0.00000   \n",
       "773  0.00000  0.00000  0.00000  0.00000  0.00000  0.00000  0.00000  0.00000   \n",
       "774  0.00000  0.00000  0.00000  0.00000  0.00000  0.00000  0.00000  0.00000   \n",
       "\n",
       "         8        9    ...      790      791      792      793      794  \\\n",
       "0    0.02688  0.03136  ...  0.01792  0.02688  0.00896  0.00896  0.00000   \n",
       "1    0.02688  0.03136  ...  0.01792  0.02688  0.00896  0.00896  0.00000   \n",
       "2    0.01792  0.00896  ...  0.00896  0.00896  0.00000  0.00448  0.00448   \n",
       "3    0.01344  0.00000  ...  0.00000  0.00000  0.00000  0.00000  0.00448   \n",
       "4    0.01792  0.00896  ...  0.00448  0.00896  0.00000  0.00448  0.00896   \n",
       "..       ...      ...  ...      ...      ...      ...      ...      ...   \n",
       "770  0.00000  0.00000  ...  0.00000  0.00000  0.38080  0.00000  0.00000   \n",
       "771  0.00000  0.00000  ...  0.00000  0.00000  0.20160  0.00000  0.00000   \n",
       "772  0.00000  0.00000  ...  0.00000  0.00000  0.00000  0.00000  0.00000   \n",
       "773  0.00000  0.00000  ...  0.00000  0.00000  0.00000  0.00000  0.00000   \n",
       "774  0.00000  0.00000  ...  0.00000  0.00000  0.00000  0.00000  0.00000   \n",
       "\n",
       "         795      796      797      798      799  \n",
       "0    0.01344  0.00448  0.00448  0.03136  0.00896  \n",
       "1    0.01344  0.00448  0.00448  0.02688  0.00896  \n",
       "2    0.01792  0.00896  0.01344  0.00896  0.01344  \n",
       "3    0.01344  0.00896  0.01344  0.00448  0.01344  \n",
       "4    0.01792  0.00896  0.01792  0.00896  0.01792  \n",
       "..       ...      ...      ...      ...      ...  \n",
       "770  0.00000  0.00000  0.00000  0.00000  0.00000  \n",
       "771  0.00000  0.00000  0.00000  0.00000  0.00000  \n",
       "772  0.00000  0.00000  0.00000  0.00000  0.00000  \n",
       "773  0.00000  0.00000  0.00000  0.00000  0.00000  \n",
       "774  0.00000  0.00000  0.00000  0.00000  0.00000  \n",
       "\n",
       "[775 rows x 800 columns]"
      ]
     },
     "execution_count": 108,
     "metadata": {},
     "output_type": "execute_result"
    }
   ],
   "source": [
    "df0"
   ]
  },
  {
   "cell_type": "code",
   "execution_count": 109,
   "id": "09279265",
   "metadata": {},
   "outputs": [
    {
     "data": {
      "text/plain": [
       "[]"
      ]
     },
     "execution_count": 109,
     "metadata": {},
     "output_type": "execute_result"
    }
   ],
   "source": [
    "short_curves"
   ]
  },
  {
   "cell_type": "code",
   "execution_count": 110,
   "id": "cbd7f42f",
   "metadata": {},
   "outputs": [
    {
     "data": {
      "text/plain": [
       "[]"
      ]
     },
     "execution_count": 110,
     "metadata": {},
     "output_type": "execute_result"
    }
   ],
   "source": [
    "low_curves"
   ]
  },
  {
   "cell_type": "code",
   "execution_count": 112,
   "id": "a95db972",
   "metadata": {},
   "outputs": [
    {
     "data": {
      "image/png": "[encoded data removed]",
      "text/plain": [
       "<Figure size 864x432 with 1 Axes>"
      ]
     },
     "metadata": {
      "needs_background": "light"
     },
     "output_type": "display_data"
    }
   ],
   "source": [
    "plt.figure(figsize=(12,6))\n",
    "plt.plot(df0)\n",
    "plt.grid()\n",
    "plt.show()"
   ]
  },
  {
   "cell_type": "markdown",
   "id": "9055ebbe",
   "metadata": {},
   "source": [
    "## 2. Average curve shape in the initial phase "
   ]
  },
  {
   "cell_type": "code",
   "execution_count": 113,
   "id": "846655ef",
   "metadata": {},
   "outputs": [
    {
     "data": {
      "text/html": [
       "<div>\n",
       "<style scoped>\n",
       "    .dataframe tbody tr th:only-of-type {\n",
       "        vertical-align: middle;\n",
       "    }\n",
       "\n",
       "    .dataframe tbody tr th {\n",
       "        vertical-align: top;\n",
       "    }\n",
       "\n",
       "    .dataframe thead th {\n",
       "        text-align: right;\n",
       "    }\n",
       "</style>\n",
       "<table border=\"1\" class=\"dataframe\">\n",
       "  <thead>\n",
       "    <tr style=\"text-align: right;\">\n",
       "      <th></th>\n",
       "      <th>0</th>\n",
       "      <th>1</th>\n",
       "      <th>2</th>\n",
       "      <th>3</th>\n",
       "      <th>4</th>\n",
       "      <th>5</th>\n",
       "      <th>6</th>\n",
       "      <th>7</th>\n",
       "      <th>8</th>\n",
       "      <th>9</th>\n",
       "      <th>...</th>\n",
       "      <th>790</th>\n",
       "      <th>791</th>\n",
       "      <th>792</th>\n",
       "      <th>793</th>\n",
       "      <th>794</th>\n",
       "      <th>795</th>\n",
       "      <th>796</th>\n",
       "      <th>797</th>\n",
       "      <th>798</th>\n",
       "      <th>799</th>\n",
       "    </tr>\n",
       "  </thead>\n",
       "  <tbody>\n",
       "    <tr>\n",
       "      <th>0</th>\n",
       "      <td>0.00448</td>\n",
       "      <td>0.00896</td>\n",
       "      <td>0.00448</td>\n",
       "      <td>0.01792</td>\n",
       "      <td>0.01344</td>\n",
       "      <td>0.00896</td>\n",
       "      <td>0.01792</td>\n",
       "      <td>0.02240</td>\n",
       "      <td>0.02688</td>\n",
       "      <td>0.03136</td>\n",
       "      <td>...</td>\n",
       "      <td>0.01792</td>\n",
       "      <td>0.02688</td>\n",
       "      <td>0.00896</td>\n",
       "      <td>0.00896</td>\n",
       "      <td>0.00000</td>\n",
       "      <td>0.01344</td>\n",
       "      <td>0.00448</td>\n",
       "      <td>0.00448</td>\n",
       "      <td>0.03136</td>\n",
       "      <td>0.00896</td>\n",
       "    </tr>\n",
       "    <tr>\n",
       "      <th>1</th>\n",
       "      <td>0.00448</td>\n",
       "      <td>0.00896</td>\n",
       "      <td>0.00000</td>\n",
       "      <td>0.01792</td>\n",
       "      <td>0.01344</td>\n",
       "      <td>0.00896</td>\n",
       "      <td>0.01792</td>\n",
       "      <td>0.02240</td>\n",
       "      <td>0.02688</td>\n",
       "      <td>0.03136</td>\n",
       "      <td>...</td>\n",
       "      <td>0.01792</td>\n",
       "      <td>0.02688</td>\n",
       "      <td>0.00896</td>\n",
       "      <td>0.00896</td>\n",
       "      <td>0.00000</td>\n",
       "      <td>0.01344</td>\n",
       "      <td>0.00448</td>\n",
       "      <td>0.00448</td>\n",
       "      <td>0.02688</td>\n",
       "      <td>0.00896</td>\n",
       "    </tr>\n",
       "    <tr>\n",
       "      <th>2</th>\n",
       "      <td>0.00896</td>\n",
       "      <td>0.00896</td>\n",
       "      <td>0.00000</td>\n",
       "      <td>0.01792</td>\n",
       "      <td>0.00896</td>\n",
       "      <td>0.00896</td>\n",
       "      <td>0.00896</td>\n",
       "      <td>0.00448</td>\n",
       "      <td>0.01792</td>\n",
       "      <td>0.00896</td>\n",
       "      <td>...</td>\n",
       "      <td>0.00896</td>\n",
       "      <td>0.00896</td>\n",
       "      <td>0.00000</td>\n",
       "      <td>0.00448</td>\n",
       "      <td>0.00448</td>\n",
       "      <td>0.01792</td>\n",
       "      <td>0.00896</td>\n",
       "      <td>0.01344</td>\n",
       "      <td>0.00896</td>\n",
       "      <td>0.01344</td>\n",
       "    </tr>\n",
       "    <tr>\n",
       "      <th>3</th>\n",
       "      <td>0.00896</td>\n",
       "      <td>0.01344</td>\n",
       "      <td>0.00000</td>\n",
       "      <td>0.00896</td>\n",
       "      <td>0.00000</td>\n",
       "      <td>0.00896</td>\n",
       "      <td>0.00000</td>\n",
       "      <td>0.00000</td>\n",
       "      <td>0.01344</td>\n",
       "      <td>0.00000</td>\n",
       "      <td>...</td>\n",
       "      <td>0.00000</td>\n",
       "      <td>0.00000</td>\n",
       "      <td>0.00000</td>\n",
       "      <td>0.00000</td>\n",
       "      <td>0.00448</td>\n",
       "      <td>0.01344</td>\n",
       "      <td>0.00896</td>\n",
       "      <td>0.01344</td>\n",
       "      <td>0.00448</td>\n",
       "      <td>0.01344</td>\n",
       "    </tr>\n",
       "    <tr>\n",
       "      <th>4</th>\n",
       "      <td>0.01344</td>\n",
       "      <td>0.01792</td>\n",
       "      <td>0.00000</td>\n",
       "      <td>0.01792</td>\n",
       "      <td>0.00896</td>\n",
       "      <td>0.01344</td>\n",
       "      <td>0.00896</td>\n",
       "      <td>0.00448</td>\n",
       "      <td>0.01792</td>\n",
       "      <td>0.00896</td>\n",
       "      <td>...</td>\n",
       "      <td>0.00448</td>\n",
       "      <td>0.00896</td>\n",
       "      <td>0.00000</td>\n",
       "      <td>0.00448</td>\n",
       "      <td>0.00896</td>\n",
       "      <td>0.01792</td>\n",
       "      <td>0.00896</td>\n",
       "      <td>0.01792</td>\n",
       "      <td>0.00896</td>\n",
       "      <td>0.01792</td>\n",
       "    </tr>\n",
       "    <tr>\n",
       "      <th>...</th>\n",
       "      <td>...</td>\n",
       "      <td>...</td>\n",
       "      <td>...</td>\n",
       "      <td>...</td>\n",
       "      <td>...</td>\n",
       "      <td>...</td>\n",
       "      <td>...</td>\n",
       "      <td>...</td>\n",
       "      <td>...</td>\n",
       "      <td>...</td>\n",
       "      <td>...</td>\n",
       "      <td>...</td>\n",
       "      <td>...</td>\n",
       "      <td>...</td>\n",
       "      <td>...</td>\n",
       "      <td>...</td>\n",
       "      <td>...</td>\n",
       "      <td>...</td>\n",
       "      <td>...</td>\n",
       "      <td>...</td>\n",
       "      <td>...</td>\n",
       "    </tr>\n",
       "    <tr>\n",
       "      <th>595</th>\n",
       "      <td>0.00896</td>\n",
       "      <td>0.00448</td>\n",
       "      <td>0.01792</td>\n",
       "      <td>0.02240</td>\n",
       "      <td>0.00896</td>\n",
       "      <td>0.01792</td>\n",
       "      <td>0.00448</td>\n",
       "      <td>0.00000</td>\n",
       "      <td>0.01792</td>\n",
       "      <td>0.00000</td>\n",
       "      <td>...</td>\n",
       "      <td>0.01792</td>\n",
       "      <td>0.01344</td>\n",
       "      <td>0.02688</td>\n",
       "      <td>0.02240</td>\n",
       "      <td>0.01344</td>\n",
       "      <td>0.01344</td>\n",
       "      <td>0.00448</td>\n",
       "      <td>0.01344</td>\n",
       "      <td>0.00896</td>\n",
       "      <td>0.02240</td>\n",
       "    </tr>\n",
       "    <tr>\n",
       "      <th>596</th>\n",
       "      <td>0.00448</td>\n",
       "      <td>0.01344</td>\n",
       "      <td>0.00000</td>\n",
       "      <td>0.02240</td>\n",
       "      <td>0.00000</td>\n",
       "      <td>0.02688</td>\n",
       "      <td>0.00448</td>\n",
       "      <td>0.00448</td>\n",
       "      <td>0.00448</td>\n",
       "      <td>0.00000</td>\n",
       "      <td>...</td>\n",
       "      <td>0.00896</td>\n",
       "      <td>0.01344</td>\n",
       "      <td>0.01344</td>\n",
       "      <td>0.00896</td>\n",
       "      <td>0.01344</td>\n",
       "      <td>0.01344</td>\n",
       "      <td>0.00896</td>\n",
       "      <td>0.00896</td>\n",
       "      <td>0.00448</td>\n",
       "      <td>0.01792</td>\n",
       "    </tr>\n",
       "    <tr>\n",
       "      <th>597</th>\n",
       "      <td>0.00000</td>\n",
       "      <td>0.00448</td>\n",
       "      <td>0.00000</td>\n",
       "      <td>0.02240</td>\n",
       "      <td>0.00000</td>\n",
       "      <td>0.01792</td>\n",
       "      <td>0.00000</td>\n",
       "      <td>0.00000</td>\n",
       "      <td>0.00000</td>\n",
       "      <td>0.00000</td>\n",
       "      <td>...</td>\n",
       "      <td>0.00448</td>\n",
       "      <td>0.00896</td>\n",
       "      <td>0.01792</td>\n",
       "      <td>0.00896</td>\n",
       "      <td>0.00896</td>\n",
       "      <td>0.00896</td>\n",
       "      <td>0.00448</td>\n",
       "      <td>0.00000</td>\n",
       "      <td>0.00896</td>\n",
       "      <td>0.01792</td>\n",
       "    </tr>\n",
       "    <tr>\n",
       "      <th>598</th>\n",
       "      <td>0.00896</td>\n",
       "      <td>0.00448</td>\n",
       "      <td>0.00896</td>\n",
       "      <td>0.03136</td>\n",
       "      <td>0.01344</td>\n",
       "      <td>0.01792</td>\n",
       "      <td>0.00000</td>\n",
       "      <td>0.00896</td>\n",
       "      <td>0.00448</td>\n",
       "      <td>0.01344</td>\n",
       "      <td>...</td>\n",
       "      <td>0.01792</td>\n",
       "      <td>0.02240</td>\n",
       "      <td>0.01792</td>\n",
       "      <td>0.00448</td>\n",
       "      <td>0.01792</td>\n",
       "      <td>0.00896</td>\n",
       "      <td>0.00448</td>\n",
       "      <td>0.00896</td>\n",
       "      <td>0.00896</td>\n",
       "      <td>0.02240</td>\n",
       "    </tr>\n",
       "    <tr>\n",
       "      <th>599</th>\n",
       "      <td>0.00448</td>\n",
       "      <td>0.00448</td>\n",
       "      <td>0.00896</td>\n",
       "      <td>0.02688</td>\n",
       "      <td>0.00896</td>\n",
       "      <td>0.01792</td>\n",
       "      <td>0.00896</td>\n",
       "      <td>0.00896</td>\n",
       "      <td>0.00448</td>\n",
       "      <td>0.00896</td>\n",
       "      <td>...</td>\n",
       "      <td>0.00448</td>\n",
       "      <td>0.01792</td>\n",
       "      <td>0.01344</td>\n",
       "      <td>0.00448</td>\n",
       "      <td>0.01344</td>\n",
       "      <td>0.00896</td>\n",
       "      <td>0.00448</td>\n",
       "      <td>0.00000</td>\n",
       "      <td>0.00000</td>\n",
       "      <td>0.01792</td>\n",
       "    </tr>\n",
       "  </tbody>\n",
       "</table>\n",
       "<p>600 rows × 800 columns</p>\n",
       "</div>"
      ],
      "text/plain": [
       "         0        1        2        3        4        5        6        7    \\\n",
       "0    0.00448  0.00896  0.00448  0.01792  0.01344  0.00896  0.01792  0.02240   \n",
       "1    0.00448  0.00896  0.00000  0.01792  0.01344  0.00896  0.01792  0.02240   \n",
       "2    0.00896  0.00896  0.00000  0.01792  0.00896  0.00896  0.00896  0.00448   \n",
       "3    0.00896  0.01344  0.00000  0.00896  0.00000  0.00896  0.00000  0.00000   \n",
       "4    0.01344  0.01792  0.00000  0.01792  0.00896  0.01344  0.00896  0.00448   \n",
       "..       ...      ...      ...      ...      ...      ...      ...      ...   \n",
       "595  0.00896  0.00448  0.01792  0.02240  0.00896  0.01792  0.00448  0.00000   \n",
       "596  0.00448  0.01344  0.00000  0.02240  0.00000  0.02688  0.00448  0.00448   \n",
       "597  0.00000  0.00448  0.00000  0.02240  0.00000  0.01792  0.00000  0.00000   \n",
       "598  0.00896  0.00448  0.00896  0.03136  0.01344  0.01792  0.00000  0.00896   \n",
       "599  0.00448  0.00448  0.00896  0.02688  0.00896  0.01792  0.00896  0.00896   \n",
       "\n",
       "         8        9    ...      790      791      792      793      794  \\\n",
       "0    0.02688  0.03136  ...  0.01792  0.02688  0.00896  0.00896  0.00000   \n",
       "1    0.02688  0.03136  ...  0.01792  0.02688  0.00896  0.00896  0.00000   \n",
       "2    0.01792  0.00896  ...  0.00896  0.00896  0.00000  0.00448  0.00448   \n",
       "3    0.01344  0.00000  ...  0.00000  0.00000  0.00000  0.00000  0.00448   \n",
       "4    0.01792  0.00896  ...  0.00448  0.00896  0.00000  0.00448  0.00896   \n",
       "..       ...      ...  ...      ...      ...      ...      ...      ...   \n",
       "595  0.01792  0.00000  ...  0.01792  0.01344  0.02688  0.02240  0.01344   \n",
       "596  0.00448  0.00000  ...  0.00896  0.01344  0.01344  0.00896  0.01344   \n",
       "597  0.00000  0.00000  ...  0.00448  0.00896  0.01792  0.00896  0.00896   \n",
       "598  0.00448  0.01344  ...  0.01792  0.02240  0.01792  0.00448  0.01792   \n",
       "599  0.00448  0.00896  ...  0.00448  0.01792  0.01344  0.00448  0.01344   \n",
       "\n",
       "         795      796      797      798      799  \n",
       "0    0.01344  0.00448  0.00448  0.03136  0.00896  \n",
       "1    0.01344  0.00448  0.00448  0.02688  0.00896  \n",
       "2    0.01792  0.00896  0.01344  0.00896  0.01344  \n",
       "3    0.01344  0.00896  0.01344  0.00448  0.01344  \n",
       "4    0.01792  0.00896  0.01792  0.00896  0.01792  \n",
       "..       ...      ...      ...      ...      ...  \n",
       "595  0.01344  0.00448  0.01344  0.00896  0.02240  \n",
       "596  0.01344  0.00896  0.00896  0.00448  0.01792  \n",
       "597  0.00896  0.00448  0.00000  0.00896  0.01792  \n",
       "598  0.00896  0.00448  0.00896  0.00896  0.02240  \n",
       "599  0.00896  0.00448  0.00000  0.00000  0.01792  \n",
       "\n",
       "[600 rows x 800 columns]"
      ]
     },
     "execution_count": 113,
     "metadata": {},
     "output_type": "execute_result"
    }
   ],
   "source": [
    "df0p1 = df0.iloc[:600]\n",
    "df0p1"
   ]
  },
  {
   "cell_type": "code",
   "execution_count": 114,
   "id": "fa09b3ff",
   "metadata": {},
   "outputs": [
    {
     "data": {
      "text/plain": [
       "0      0.015075\n",
       "1      0.014370\n",
       "2      0.010265\n",
       "3      0.005606\n",
       "4      0.011967\n",
       "         ...   \n",
       "595    0.006412\n",
       "596    0.006345\n",
       "597    0.004710\n",
       "598    0.006821\n",
       "599    0.006306\n",
       "Length: 600, dtype: float64"
      ]
     },
     "execution_count": 114,
     "metadata": {},
     "output_type": "execute_result"
    }
   ],
   "source": [
    "np.mean(df0p1, axis=1)"
   ]
  },
  {
   "cell_type": "code",
   "execution_count": 115,
   "id": "e0441c11",
   "metadata": {},
   "outputs": [
    {
     "data": {
      "image/png": "[encoded data removed]",
      "text/plain": [
       "<Figure size 864x432 with 1 Axes>"
      ]
     },
     "metadata": {
      "needs_background": "light"
     },
     "output_type": "display_data"
    }
   ],
   "source": [
    "plt.figure(figsize=(12,6))\n",
    "plt.plot(np.mean(df0p1, axis=1))\n",
    "plt.grid()\n",
    "plt.show()"
   ]
  },
  {
   "cell_type": "code",
   "execution_count": null,
   "id": "a5ea7976",
   "metadata": {},
   "outputs": [],
   "source": []
  },
  {
   "cell_type": "markdown",
   "id": "529c167c",
   "metadata": {},
   "source": [
    "## 3. Rise point of the curves"
   ]
  },
  {
   "cell_type": "code",
   "execution_count": 116,
   "id": "ff930a17",
   "metadata": {},
   "outputs": [],
   "source": [
    "raise_point = []\n",
    "\n",
    "for col in df0:\n",
    "    for i, val in enumerate(df0[col]):\n",
    "        if val > 1:\n",
    "            raise_point.append(i)\n",
    "            break"
   ]
  },
  {
   "cell_type": "code",
   "execution_count": 117,
   "id": "b1c290e1",
   "metadata": {},
   "outputs": [
    {
     "data": {
      "text/plain": [
       "667.26125"
      ]
     },
     "execution_count": 117,
     "metadata": {},
     "output_type": "execute_result"
    }
   ],
   "source": [
    "np.mean(raise_point)"
   ]
  },
  {
   "cell_type": "code",
   "execution_count": 118,
   "id": "f59b9afc",
   "metadata": {},
   "outputs": [
    {
     "data": {
      "image/png": "[encoded data removed]",
      "text/plain": [
       "<Figure size 288x432 with 1 Axes>"
      ]
     },
     "metadata": {
      "needs_background": "light"
     },
     "output_type": "display_data"
    }
   ],
   "source": [
    "plt.figure(figsize=(4,6))\n",
    "plt.boxplot(raise_point)\n",
    "plt.grid()\n",
    "plt.show()"
   ]
  },
  {
   "cell_type": "code",
   "execution_count": null,
   "id": "c56a783f",
   "metadata": {},
   "outputs": [],
   "source": []
  },
  {
   "cell_type": "markdown",
   "id": "6ddf485a",
   "metadata": {},
   "source": [
    "## 4. Maximum value of the curves"
   ]
  },
  {
   "cell_type": "code",
   "execution_count": 119,
   "id": "c37a516d",
   "metadata": {},
   "outputs": [],
   "source": [
    "max_values = []\n",
    "max_low = []\n",
    "\n",
    "for col in df0:\n",
    "    max_values.append(max(df0[col]))\n",
    "    \n",
    "    if max(df0[col]) < 2.1:\n",
    "        max_low.append(col)"
   ]
  },
  {
   "cell_type": "code",
   "execution_count": 120,
   "id": "969d04f8",
   "metadata": {},
   "outputs": [
    {
     "data": {
      "text/plain": [
       "[]"
      ]
     },
     "execution_count": 120,
     "metadata": {},
     "output_type": "execute_result"
    }
   ],
   "source": [
    "max_low"
   ]
  },
  {
   "cell_type": "code",
   "execution_count": 121,
   "id": "d68254fa",
   "metadata": {},
   "outputs": [
    {
     "data": {
      "text/plain": [
       "2.3796976"
      ]
     },
     "execution_count": 121,
     "metadata": {},
     "output_type": "execute_result"
    }
   ],
   "source": [
    "np.mean(max_values)"
   ]
  },
  {
   "cell_type": "code",
   "execution_count": 122,
   "id": "33aea6b2",
   "metadata": {},
   "outputs": [
    {
     "data": {
      "image/png": "[encoded data removed]",
      "text/plain": [
       "<Figure size 288x432 with 1 Axes>"
      ]
     },
     "metadata": {
      "needs_background": "light"
     },
     "output_type": "display_data"
    }
   ],
   "source": [
    "plt.figure(figsize=(4,6))\n",
    "plt.boxplot(max_values)\n",
    "plt.grid()\n",
    "plt.show()"
   ]
  },
  {
   "cell_type": "markdown",
   "id": "9437809c",
   "metadata": {},
   "source": [
    "## 5. High values in the initial phase"
   ]
  },
  {
   "cell_type": "code",
   "execution_count": 90,
   "id": "27b67299",
   "metadata": {},
   "outputs": [],
   "source": [
    "p1high = []\n",
    "\n",
    "for col in df0p1:\n",
    "    if (df0p1[df0p1>0.05][col].count() > 14) | (max(df0p1[col]) > 0.1):\n",
    "        p1high.append(col)"
   ]
  },
  {
   "cell_type": "code",
   "execution_count": 91,
   "id": "bb6167c0",
   "metadata": {},
   "outputs": [
    {
     "data": {
      "text/plain": [
       "15"
      ]
     },
     "execution_count": 91,
     "metadata": {},
     "output_type": "execute_result"
    }
   ],
   "source": [
    "len(p1high)"
   ]
  },
  {
   "cell_type": "code",
   "execution_count": 124,
   "id": "4d3c95ce",
   "metadata": {},
   "outputs": [
    {
     "data": {
      "image/png": "[encoded data removed]",
      "text/plain": [
       "<Figure size 432x288 with 1 Axes>"
      ]
     },
     "metadata": {
      "needs_background": "light"
     },
     "output_type": "display_data"
    }
   ],
   "source": [
    "plt.plot(df0p1[p1high])\n",
    "plt.grid()\n",
    "plt.show()"
   ]
  },
  {
   "cell_type": "code",
   "execution_count": 93,
   "id": "b4941a9d",
   "metadata": {},
   "outputs": [
    {
     "data": {
      "text/plain": [
       "18"
      ]
     },
     "execution_count": 93,
     "metadata": {},
     "output_type": "execute_result"
    }
   ],
   "source": [
    "problem_col = max_low + p1high\n",
    "len(problem_col)"
   ]
  },
  {
   "cell_type": "code",
   "execution_count": 97,
   "id": "df9fd898",
   "metadata": {},
   "outputs": [
    {
     "data": {
      "text/plain": [
       "[45,\n",
       " 81,\n",
       " 133,\n",
       " 135,\n",
       " 136,\n",
       " 187,\n",
       " 195,\n",
       " 260,\n",
       " 266,\n",
       " 275,\n",
       " 293,\n",
       " 415,\n",
       " 443,\n",
       " 520,\n",
       " 648,\n",
       " 695,\n",
       " 776,\n",
       " 796]"
      ]
     },
     "execution_count": 97,
     "metadata": {},
     "output_type": "execute_result"
    }
   ],
   "source": [
    "sorted(problem_col)"
   ]
  },
  {
   "cell_type": "code",
   "execution_count": 95,
   "id": "1108ccfe",
   "metadata": {},
   "outputs": [
    {
     "data": {
      "text/plain": [
       "800"
      ]
     },
     "execution_count": 95,
     "metadata": {},
     "output_type": "execute_result"
    }
   ],
   "source": [
    "good_col = [x for x in df0.columns if x not in problem_col]\n",
    "len(good_col)"
   ]
  },
  {
   "cell_type": "markdown",
   "id": "1c15a53c",
   "metadata": {},
   "source": [
    "## 6. Rename files"
   ]
  },
  {
   "cell_type": "code",
   "execution_count": 98,
   "id": "75e57d7c",
   "metadata": {},
   "outputs": [],
   "source": [
    "def rename_csv(main_path, folder, fname_new, file_amount):\n",
    "    \n",
    "    for i in range(file_amount):\n",
    "        old = os.path.join(main_path, folder, os.listdir(main_path + folder)[i])\n",
    "        new = os.path.join(main_path, folder, fname_new + str(i) + \".csv\")\n",
    "        #print(i)\n",
    "        os.rename(old, new)"
   ]
  },
  {
   "cell_type": "code",
   "execution_count": 99,
   "id": "dbc044b3",
   "metadata": {},
   "outputs": [
    {
     "data": {
      "text/plain": [
       "'..\\\\Daten\\\\einzelne_klassen\\\\0_in_ordnung\\\\rename (1).csv'"
      ]
     },
     "execution_count": 99,
     "metadata": {},
     "output_type": "execute_result"
    }
   ],
   "source": [
    "old = os.path.join(main_path, class0, os.listdir(main_path + class0)[0])\n",
    "old"
   ]
  },
  {
   "cell_type": "code",
   "execution_count": 100,
   "id": "a5d5ce9a",
   "metadata": {},
   "outputs": [
    {
     "data": {
      "text/plain": [
       "'..\\\\Daten\\\\einzelne_klassen\\\\0_in_ordnung\\\\class0_0.csv'"
      ]
     },
     "execution_count": 100,
     "metadata": {},
     "output_type": "execute_result"
    }
   ],
   "source": [
    "new = os.path.join(main_path, class0, \"class0_\" + str(0) + \".csv\")\n",
    "new"
   ]
  },
  {
   "cell_type": "code",
   "execution_count": 101,
   "id": "f0edacbb",
   "metadata": {},
   "outputs": [],
   "source": [
    "#rename_csv(main_path, class0, \"class0_\", file_amount=800)"
   ]
  },
  {
   "cell_type": "code",
   "execution_count": null,
   "id": "947d9a69",
   "metadata": {},
   "outputs": [],
   "source": []
  }
 ],
 "metadata": {
  "kernelspec": {
   "display_name": "Python 3 (ipykernel)",
   "language": "python",
   "name": "python3"
  },
  "language_info": {
   "codemirror_mode": {
    "name": "ipython",
    "version": 3
   },
   "file_extension": ".py",
   "mimetype": "text/x-python",
   "name": "python",
   "nbconvert_exporter": "python",
   "pygments_lexer": "ipython3",
   "version": "3.9.12"
  }
 },
 "nbformat": 4,
 "nbformat_minor": 5
}
