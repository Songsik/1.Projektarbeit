{
 "cells": [
  {
   "cell_type": "markdown",
   "id": "16cae900",
   "metadata": {},
   "source": [
    "# Overview of this jupyter notebook\n",
    "\n",
    "### Purpose: Data understanding of each classes without data modification\n",
    "1. Loading screwing data \n",
    "2. detect too low curves in initial phase\n",
    "3. Average curve shape in the initial phase\n",
    "4. Rise point of the curves\n",
    "5. Maximum value of the curves\n",
    "6. Rename files"
   ]
  },
  {
   "cell_type": "code",
   "execution_count": 1,
   "id": "d7a9c8b1",
   "metadata": {},
   "outputs": [
    {
     "name": "stdout",
     "output_type": "stream",
     "text": [
      "<module 'library.etl_data' from 'C:\\\\Users\\\\songs\\\\OneDrive\\\\Desktop\\\\0. PA_FAPS\\\\04_Code\\\\library\\\\etl_data.py'>\n",
      "<module 'library.faps_color' from 'C:\\\\Users\\\\songs\\\\OneDrive\\\\Desktop\\\\0. PA_FAPS\\\\04_Code\\\\library\\\\faps_color.py'>\n"
     ]
    }
   ],
   "source": [
    "import os\n",
    "import pandas as pd\n",
    "import numpy as np\n",
    "import plotly.graph_objects as go\n",
    "import plotly.express as px\n",
    "import matplotlib.pyplot as plt\n",
    "from tqdm.notebook import tqdm_notebook as tq\n",
    "import importlib\n",
    "from library import etl_data as etl        # this module contains functions that load, visualize and save the data\n",
    "from library import faps_color as fapsc    # this module contains the color combination of FAPS Institute\n",
    "print(importlib.reload(etl))\n",
    "print(importlib.reload(fapsc))"
   ]
  },
  {
   "cell_type": "markdown",
   "id": "ff3d9b2d",
   "metadata": {},
   "source": [
    "## 1. Loading screwing data"
   ]
  },
  {
   "cell_type": "code",
   "execution_count": 2,
   "id": "90c46265",
   "metadata": {},
   "outputs": [],
   "source": [
    "main_path = \"..\\\\03_Schraubprozessdaten\\\\einzelne_klassen\\\\\"\n",
    "folders = os.listdir(main_path)\n",
    "fname = \"\\\\ast11-graph\"\n",
    "fname_new = \"\\\\class1_\""
   ]
  },
  {
   "cell_type": "code",
   "execution_count": 3,
   "id": "6cbd8a17",
   "metadata": {},
   "outputs": [
    {
     "data": {
      "text/plain": [
       "['0_in_ordnung',\n",
       " '1_kleine_durchgangsbohrung_v2',\n",
       " '2_falsch_ausgerichtete_fuegepartner_v3',\n",
       " '3_unebene_fuegeflaeche',\n",
       " '4_verunreinigtes_gewinde',\n",
       " '5_verschmutzte_schraube',\n",
       " '6_fremdkoerper_am_gewindeende',\n",
       " '7_beschaedigte_schraube']"
      ]
     },
     "execution_count": 3,
     "metadata": {},
     "output_type": "execute_result"
    }
   ],
   "source": [
    "folders"
   ]
  },
  {
   "cell_type": "code",
   "execution_count": 4,
   "id": "e31dfd54",
   "metadata": {},
   "outputs": [],
   "source": [
    "classes = ['0_in_ordnung',\n",
    "           '1_kleine_durchgangsbohrung',\n",
    "           '2_versetzte_fuegepartner',\n",
    "           '3_unebene_fuegeflaeche',\n",
    "           '4_span_im_gewinde',\n",
    "           '5_verschmutzte_schraube',\n",
    "           '6_fremdkoerper_am_gewindeende',\n",
    "           '7_beschaedigte_schraube']"
   ]
  },
  {
   "cell_type": "code",
   "execution_count": 5,
   "id": "08dd1d67",
   "metadata": {},
   "outputs": [],
   "source": [
    "class1 = '1_kleine_durchgangsbohrung_v2'"
   ]
  },
  {
   "cell_type": "code",
   "execution_count": 6,
   "id": "5eb08911",
   "metadata": {},
   "outputs": [],
   "source": [
    "def set_time(df, len_curves):\n",
    "    \n",
    "    original_time_step = 0.000175\n",
    "    max_time = max(len_curves)*original_time_step\n",
    "    len_datapoints = len(df)\n",
    "    time_steps = round(max_time/len_datapoints, 4)\n",
    "    \n",
    "    timeline = []\n",
    "\n",
    "    for i in range(len_datapoints):\n",
    "        i = round(i*time_steps, 4)\n",
    "        timeline.append(i)\n",
    "        \n",
    "    return np.array(timeline).reshape(-1, 1)"
   ]
  },
  {
   "cell_type": "code",
   "execution_count": 7,
   "id": "dc7bdbc0",
   "metadata": {},
   "outputs": [],
   "source": [
    "def load_data(main_path, folders, fname, downsample, file_amount):\n",
    "    \n",
    "    arr = []\n",
    "    len_curves = []\n",
    "    short_curves = []\n",
    "    low_curves = []\n",
    "    \n",
    "    for i in tq(range(file_amount)):\n",
    "        try:\n",
    "            file_path = main_path + folders + fname + str(i) + \".csv\"\n",
    "            data = pd.read_csv(file_path, encoding = 'ISO-8859-1')[\"Drehmoment(N·m)\"]\n",
    "            arr.append(data)\n",
    "            len_curves.append(len(data))\n",
    "        except:\n",
    "            print(i)\n",
    "        \n",
    "    for index, length in enumerate(len_curves): \n",
    "        if length < np.max(len_curves)*0.7:\n",
    "            short_curves.append(index)\n",
    "        \n",
    "    df = pd.concat(arr, axis=1, ignore_index=True)\n",
    "    df = df[:][::downsample]\n",
    "    df = df.reset_index(drop=True)\n",
    "    df[df < 0] = np.nan\n",
    "    df = df.fillna(0)\n",
    "    \n",
    "    for col in df:\n",
    "        if max(df[col]) < 1.0:\n",
    "            low_curves.append(col)\n",
    "    \n",
    "    return df, len_curves, short_curves, low_curves"
   ]
  },
  {
   "cell_type": "code",
   "execution_count": 8,
   "id": "694457cd",
   "metadata": {},
   "outputs": [
    {
     "data": {
      "application/vnd.jupyter.widget-view+json": {
       "model_id": "7bfa7d0ceb964947b229ff0199ba8e5c",
       "version_major": 2,
       "version_minor": 0
      },
      "text/plain": [
       "  0%|          | 0/200 [00:00<?, ?it/s]"
      ]
     },
     "metadata": {},
     "output_type": "display_data"
    }
   ],
   "source": [
    "df1, len_curves, short_curves, low_curves = load_data(main_path, class1, fname_new, downsample=20, file_amount=200)"
   ]
  },
  {
   "cell_type": "code",
   "execution_count": 9,
   "id": "ec5683f6",
   "metadata": {},
   "outputs": [
    {
     "data": {
      "text/html": [
       "<div>\n",
       "<style scoped>\n",
       "    .dataframe tbody tr th:only-of-type {\n",
       "        vertical-align: middle;\n",
       "    }\n",
       "\n",
       "    .dataframe tbody tr th {\n",
       "        vertical-align: top;\n",
       "    }\n",
       "\n",
       "    .dataframe thead th {\n",
       "        text-align: right;\n",
       "    }\n",
       "</style>\n",
       "<table border=\"1\" class=\"dataframe\">\n",
       "  <thead>\n",
       "    <tr style=\"text-align: right;\">\n",
       "      <th></th>\n",
       "      <th>0</th>\n",
       "      <th>1</th>\n",
       "      <th>2</th>\n",
       "      <th>3</th>\n",
       "      <th>4</th>\n",
       "      <th>5</th>\n",
       "      <th>6</th>\n",
       "      <th>7</th>\n",
       "      <th>8</th>\n",
       "      <th>9</th>\n",
       "      <th>...</th>\n",
       "      <th>190</th>\n",
       "      <th>191</th>\n",
       "      <th>192</th>\n",
       "      <th>193</th>\n",
       "      <th>194</th>\n",
       "      <th>195</th>\n",
       "      <th>196</th>\n",
       "      <th>197</th>\n",
       "      <th>198</th>\n",
       "      <th>199</th>\n",
       "    </tr>\n",
       "  </thead>\n",
       "  <tbody>\n",
       "    <tr>\n",
       "      <th>0</th>\n",
       "      <td>0.04928</td>\n",
       "      <td>0.04480</td>\n",
       "      <td>0.03136</td>\n",
       "      <td>0.00448</td>\n",
       "      <td>0.04480</td>\n",
       "      <td>0.02240</td>\n",
       "      <td>0.01792</td>\n",
       "      <td>0.04032</td>\n",
       "      <td>0.00000</td>\n",
       "      <td>0.04928</td>\n",
       "      <td>...</td>\n",
       "      <td>0.01792</td>\n",
       "      <td>0.00000</td>\n",
       "      <td>0.02240</td>\n",
       "      <td>0.01792</td>\n",
       "      <td>0.02240</td>\n",
       "      <td>0.00000</td>\n",
       "      <td>0.02240</td>\n",
       "      <td>0.01792</td>\n",
       "      <td>0.01792</td>\n",
       "      <td>0.02240</td>\n",
       "    </tr>\n",
       "    <tr>\n",
       "      <th>1</th>\n",
       "      <td>0.04928</td>\n",
       "      <td>0.03584</td>\n",
       "      <td>0.03136</td>\n",
       "      <td>0.00448</td>\n",
       "      <td>0.04032</td>\n",
       "      <td>0.02240</td>\n",
       "      <td>0.01792</td>\n",
       "      <td>0.03136</td>\n",
       "      <td>0.00000</td>\n",
       "      <td>0.04928</td>\n",
       "      <td>...</td>\n",
       "      <td>0.01792</td>\n",
       "      <td>0.00000</td>\n",
       "      <td>0.02240</td>\n",
       "      <td>0.01792</td>\n",
       "      <td>0.01792</td>\n",
       "      <td>0.00000</td>\n",
       "      <td>0.02240</td>\n",
       "      <td>0.01792</td>\n",
       "      <td>0.01792</td>\n",
       "      <td>0.02240</td>\n",
       "    </tr>\n",
       "    <tr>\n",
       "      <th>2</th>\n",
       "      <td>0.01792</td>\n",
       "      <td>0.00896</td>\n",
       "      <td>0.00896</td>\n",
       "      <td>0.00000</td>\n",
       "      <td>0.01792</td>\n",
       "      <td>0.00896</td>\n",
       "      <td>0.00896</td>\n",
       "      <td>0.01792</td>\n",
       "      <td>0.00448</td>\n",
       "      <td>0.02688</td>\n",
       "      <td>...</td>\n",
       "      <td>0.00896</td>\n",
       "      <td>0.00896</td>\n",
       "      <td>0.02240</td>\n",
       "      <td>0.01344</td>\n",
       "      <td>0.00448</td>\n",
       "      <td>0.00448</td>\n",
       "      <td>0.02240</td>\n",
       "      <td>0.00448</td>\n",
       "      <td>0.00896</td>\n",
       "      <td>0.02240</td>\n",
       "    </tr>\n",
       "    <tr>\n",
       "      <th>3</th>\n",
       "      <td>0.00448</td>\n",
       "      <td>0.00448</td>\n",
       "      <td>0.00000</td>\n",
       "      <td>0.00000</td>\n",
       "      <td>0.01344</td>\n",
       "      <td>0.00000</td>\n",
       "      <td>0.00000</td>\n",
       "      <td>0.00896</td>\n",
       "      <td>0.00896</td>\n",
       "      <td>0.01344</td>\n",
       "      <td>...</td>\n",
       "      <td>0.00000</td>\n",
       "      <td>0.00896</td>\n",
       "      <td>0.00896</td>\n",
       "      <td>0.00448</td>\n",
       "      <td>0.00000</td>\n",
       "      <td>0.00000</td>\n",
       "      <td>0.00448</td>\n",
       "      <td>0.00000</td>\n",
       "      <td>0.00448</td>\n",
       "      <td>0.00448</td>\n",
       "    </tr>\n",
       "    <tr>\n",
       "      <th>4</th>\n",
       "      <td>0.01344</td>\n",
       "      <td>0.00896</td>\n",
       "      <td>0.00896</td>\n",
       "      <td>0.00448</td>\n",
       "      <td>0.01792</td>\n",
       "      <td>0.01344</td>\n",
       "      <td>0.00896</td>\n",
       "      <td>0.01792</td>\n",
       "      <td>0.01792</td>\n",
       "      <td>0.02688</td>\n",
       "      <td>...</td>\n",
       "      <td>0.00896</td>\n",
       "      <td>0.01344</td>\n",
       "      <td>0.02240</td>\n",
       "      <td>0.01344</td>\n",
       "      <td>0.00000</td>\n",
       "      <td>0.00448</td>\n",
       "      <td>0.01792</td>\n",
       "      <td>0.00448</td>\n",
       "      <td>0.01344</td>\n",
       "      <td>0.01792</td>\n",
       "    </tr>\n",
       "    <tr>\n",
       "      <th>...</th>\n",
       "      <td>...</td>\n",
       "      <td>...</td>\n",
       "      <td>...</td>\n",
       "      <td>...</td>\n",
       "      <td>...</td>\n",
       "      <td>...</td>\n",
       "      <td>...</td>\n",
       "      <td>...</td>\n",
       "      <td>...</td>\n",
       "      <td>...</td>\n",
       "      <td>...</td>\n",
       "      <td>...</td>\n",
       "      <td>...</td>\n",
       "      <td>...</td>\n",
       "      <td>...</td>\n",
       "      <td>...</td>\n",
       "      <td>...</td>\n",
       "      <td>...</td>\n",
       "      <td>...</td>\n",
       "      <td>...</td>\n",
       "      <td>...</td>\n",
       "    </tr>\n",
       "    <tr>\n",
       "      <th>926</th>\n",
       "      <td>0.00000</td>\n",
       "      <td>0.00000</td>\n",
       "      <td>0.00000</td>\n",
       "      <td>0.00000</td>\n",
       "      <td>0.00000</td>\n",
       "      <td>0.00000</td>\n",
       "      <td>0.00000</td>\n",
       "      <td>0.00000</td>\n",
       "      <td>0.00000</td>\n",
       "      <td>0.00000</td>\n",
       "      <td>...</td>\n",
       "      <td>0.00000</td>\n",
       "      <td>0.00000</td>\n",
       "      <td>0.00000</td>\n",
       "      <td>0.00000</td>\n",
       "      <td>0.00000</td>\n",
       "      <td>0.00000</td>\n",
       "      <td>0.00000</td>\n",
       "      <td>0.00000</td>\n",
       "      <td>0.00000</td>\n",
       "      <td>0.00000</td>\n",
       "    </tr>\n",
       "    <tr>\n",
       "      <th>927</th>\n",
       "      <td>0.00000</td>\n",
       "      <td>0.00000</td>\n",
       "      <td>0.00000</td>\n",
       "      <td>0.00000</td>\n",
       "      <td>0.00000</td>\n",
       "      <td>0.00000</td>\n",
       "      <td>0.00000</td>\n",
       "      <td>0.00000</td>\n",
       "      <td>0.00000</td>\n",
       "      <td>0.00000</td>\n",
       "      <td>...</td>\n",
       "      <td>0.00000</td>\n",
       "      <td>0.00000</td>\n",
       "      <td>0.00000</td>\n",
       "      <td>0.00000</td>\n",
       "      <td>0.00000</td>\n",
       "      <td>0.00000</td>\n",
       "      <td>0.00000</td>\n",
       "      <td>0.00000</td>\n",
       "      <td>0.00000</td>\n",
       "      <td>0.00000</td>\n",
       "    </tr>\n",
       "    <tr>\n",
       "      <th>928</th>\n",
       "      <td>0.00000</td>\n",
       "      <td>0.00000</td>\n",
       "      <td>0.00000</td>\n",
       "      <td>0.00000</td>\n",
       "      <td>0.00000</td>\n",
       "      <td>0.00000</td>\n",
       "      <td>0.00000</td>\n",
       "      <td>0.00000</td>\n",
       "      <td>0.00000</td>\n",
       "      <td>0.00000</td>\n",
       "      <td>...</td>\n",
       "      <td>0.00000</td>\n",
       "      <td>0.00000</td>\n",
       "      <td>0.00000</td>\n",
       "      <td>0.00000</td>\n",
       "      <td>0.00000</td>\n",
       "      <td>0.00000</td>\n",
       "      <td>0.00000</td>\n",
       "      <td>0.00000</td>\n",
       "      <td>0.00000</td>\n",
       "      <td>0.00000</td>\n",
       "    </tr>\n",
       "    <tr>\n",
       "      <th>929</th>\n",
       "      <td>0.00000</td>\n",
       "      <td>0.00000</td>\n",
       "      <td>0.00000</td>\n",
       "      <td>0.00000</td>\n",
       "      <td>0.00000</td>\n",
       "      <td>0.00000</td>\n",
       "      <td>0.00000</td>\n",
       "      <td>0.00000</td>\n",
       "      <td>0.00000</td>\n",
       "      <td>0.00000</td>\n",
       "      <td>...</td>\n",
       "      <td>0.00000</td>\n",
       "      <td>0.00000</td>\n",
       "      <td>0.00000</td>\n",
       "      <td>0.00000</td>\n",
       "      <td>0.00000</td>\n",
       "      <td>0.00000</td>\n",
       "      <td>0.00000</td>\n",
       "      <td>0.00000</td>\n",
       "      <td>0.00000</td>\n",
       "      <td>0.00000</td>\n",
       "    </tr>\n",
       "    <tr>\n",
       "      <th>930</th>\n",
       "      <td>0.00000</td>\n",
       "      <td>0.00000</td>\n",
       "      <td>0.00000</td>\n",
       "      <td>0.00000</td>\n",
       "      <td>0.00000</td>\n",
       "      <td>0.00000</td>\n",
       "      <td>0.00000</td>\n",
       "      <td>0.00000</td>\n",
       "      <td>0.00000</td>\n",
       "      <td>0.00000</td>\n",
       "      <td>...</td>\n",
       "      <td>0.00000</td>\n",
       "      <td>0.00000</td>\n",
       "      <td>0.00000</td>\n",
       "      <td>0.00000</td>\n",
       "      <td>0.00000</td>\n",
       "      <td>0.00000</td>\n",
       "      <td>0.00000</td>\n",
       "      <td>0.00000</td>\n",
       "      <td>0.00000</td>\n",
       "      <td>0.00000</td>\n",
       "    </tr>\n",
       "  </tbody>\n",
       "</table>\n",
       "<p>931 rows × 200 columns</p>\n",
       "</div>"
      ],
      "text/plain": [
       "         0        1        2        3        4        5        6        7    \\\n",
       "0    0.04928  0.04480  0.03136  0.00448  0.04480  0.02240  0.01792  0.04032   \n",
       "1    0.04928  0.03584  0.03136  0.00448  0.04032  0.02240  0.01792  0.03136   \n",
       "2    0.01792  0.00896  0.00896  0.00000  0.01792  0.00896  0.00896  0.01792   \n",
       "3    0.00448  0.00448  0.00000  0.00000  0.01344  0.00000  0.00000  0.00896   \n",
       "4    0.01344  0.00896  0.00896  0.00448  0.01792  0.01344  0.00896  0.01792   \n",
       "..       ...      ...      ...      ...      ...      ...      ...      ...   \n",
       "926  0.00000  0.00000  0.00000  0.00000  0.00000  0.00000  0.00000  0.00000   \n",
       "927  0.00000  0.00000  0.00000  0.00000  0.00000  0.00000  0.00000  0.00000   \n",
       "928  0.00000  0.00000  0.00000  0.00000  0.00000  0.00000  0.00000  0.00000   \n",
       "929  0.00000  0.00000  0.00000  0.00000  0.00000  0.00000  0.00000  0.00000   \n",
       "930  0.00000  0.00000  0.00000  0.00000  0.00000  0.00000  0.00000  0.00000   \n",
       "\n",
       "         8        9    ...      190      191      192      193      194  \\\n",
       "0    0.00000  0.04928  ...  0.01792  0.00000  0.02240  0.01792  0.02240   \n",
       "1    0.00000  0.04928  ...  0.01792  0.00000  0.02240  0.01792  0.01792   \n",
       "2    0.00448  0.02688  ...  0.00896  0.00896  0.02240  0.01344  0.00448   \n",
       "3    0.00896  0.01344  ...  0.00000  0.00896  0.00896  0.00448  0.00000   \n",
       "4    0.01792  0.02688  ...  0.00896  0.01344  0.02240  0.01344  0.00000   \n",
       "..       ...      ...  ...      ...      ...      ...      ...      ...   \n",
       "926  0.00000  0.00000  ...  0.00000  0.00000  0.00000  0.00000  0.00000   \n",
       "927  0.00000  0.00000  ...  0.00000  0.00000  0.00000  0.00000  0.00000   \n",
       "928  0.00000  0.00000  ...  0.00000  0.00000  0.00000  0.00000  0.00000   \n",
       "929  0.00000  0.00000  ...  0.00000  0.00000  0.00000  0.00000  0.00000   \n",
       "930  0.00000  0.00000  ...  0.00000  0.00000  0.00000  0.00000  0.00000   \n",
       "\n",
       "         195      196      197      198      199  \n",
       "0    0.00000  0.02240  0.01792  0.01792  0.02240  \n",
       "1    0.00000  0.02240  0.01792  0.01792  0.02240  \n",
       "2    0.00448  0.02240  0.00448  0.00896  0.02240  \n",
       "3    0.00000  0.00448  0.00000  0.00448  0.00448  \n",
       "4    0.00448  0.01792  0.00448  0.01344  0.01792  \n",
       "..       ...      ...      ...      ...      ...  \n",
       "926  0.00000  0.00000  0.00000  0.00000  0.00000  \n",
       "927  0.00000  0.00000  0.00000  0.00000  0.00000  \n",
       "928  0.00000  0.00000  0.00000  0.00000  0.00000  \n",
       "929  0.00000  0.00000  0.00000  0.00000  0.00000  \n",
       "930  0.00000  0.00000  0.00000  0.00000  0.00000  \n",
       "\n",
       "[931 rows x 200 columns]"
      ]
     },
     "execution_count": 9,
     "metadata": {},
     "output_type": "execute_result"
    }
   ],
   "source": [
    "df1"
   ]
  },
  {
   "cell_type": "code",
   "execution_count": 98,
   "id": "09279265",
   "metadata": {},
   "outputs": [
    {
     "data": {
      "text/plain": [
       "[]"
      ]
     },
     "execution_count": 98,
     "metadata": {},
     "output_type": "execute_result"
    }
   ],
   "source": [
    "short_curves"
   ]
  },
  {
   "cell_type": "code",
   "execution_count": 99,
   "id": "cbd7f42f",
   "metadata": {},
   "outputs": [
    {
     "data": {
      "text/plain": [
       "[]"
      ]
     },
     "execution_count": 99,
     "metadata": {},
     "output_type": "execute_result"
    }
   ],
   "source": [
    "low_curves"
   ]
  },
  {
   "cell_type": "code",
   "execution_count": 100,
   "id": "33f58807",
   "metadata": {},
   "outputs": [
    {
     "data": {
      "text/plain": [
       "[]"
      ]
     },
     "execution_count": 100,
     "metadata": {},
     "output_type": "execute_result"
    }
   ],
   "source": [
    "problem_col = sorted(set(short_curves + low_curves))\n",
    "problem_col"
   ]
  },
  {
   "cell_type": "code",
   "execution_count": 10,
   "id": "edbb3aac",
   "metadata": {},
   "outputs": [
    {
     "data": {
      "image/png": "[encoded data removed]",
      "text/plain": [
       "<Figure size 864x432 with 1 Axes>"
      ]
     },
     "metadata": {
      "needs_background": "light"
     },
     "output_type": "display_data"
    }
   ],
   "source": [
    "plt.figure(figsize=(12,6))\n",
    "plt.plot(df1)\n",
    "plt.grid()\n",
    "plt.show()"
   ]
  },
  {
   "cell_type": "code",
   "execution_count": null,
   "id": "dcde660f",
   "metadata": {},
   "outputs": [],
   "source": []
  },
  {
   "cell_type": "markdown",
   "id": "68eeb062",
   "metadata": {},
   "source": [
    "## 2. Detect too low curves in initial phase"
   ]
  },
  {
   "cell_type": "code",
   "execution_count": 18,
   "id": "268aa61c",
   "metadata": {},
   "outputs": [
    {
     "data": {
      "text/html": [
       "<div>\n",
       "<style scoped>\n",
       "    .dataframe tbody tr th:only-of-type {\n",
       "        vertical-align: middle;\n",
       "    }\n",
       "\n",
       "    .dataframe tbody tr th {\n",
       "        vertical-align: top;\n",
       "    }\n",
       "\n",
       "    .dataframe thead th {\n",
       "        text-align: right;\n",
       "    }\n",
       "</style>\n",
       "<table border=\"1\" class=\"dataframe\">\n",
       "  <thead>\n",
       "    <tr style=\"text-align: right;\">\n",
       "      <th></th>\n",
       "      <th>0</th>\n",
       "      <th>1</th>\n",
       "      <th>2</th>\n",
       "      <th>3</th>\n",
       "      <th>4</th>\n",
       "      <th>5</th>\n",
       "      <th>6</th>\n",
       "      <th>7</th>\n",
       "      <th>8</th>\n",
       "      <th>9</th>\n",
       "      <th>...</th>\n",
       "      <th>95</th>\n",
       "      <th>96</th>\n",
       "      <th>97</th>\n",
       "      <th>98</th>\n",
       "      <th>99</th>\n",
       "      <th>100</th>\n",
       "      <th>101</th>\n",
       "      <th>102</th>\n",
       "      <th>103</th>\n",
       "      <th>104</th>\n",
       "    </tr>\n",
       "  </thead>\n",
       "  <tbody>\n",
       "    <tr>\n",
       "      <th>0</th>\n",
       "      <td>0.00896</td>\n",
       "      <td>0.00448</td>\n",
       "      <td>0.02688</td>\n",
       "      <td>0.01792</td>\n",
       "      <td>0.00896</td>\n",
       "      <td>0.03136</td>\n",
       "      <td>0.02688</td>\n",
       "      <td>0.04032</td>\n",
       "      <td>0.00896</td>\n",
       "      <td>0.00896</td>\n",
       "      <td>...</td>\n",
       "      <td>0.01792</td>\n",
       "      <td>0.00896</td>\n",
       "      <td>0.01792</td>\n",
       "      <td>0.00000</td>\n",
       "      <td>0.03136</td>\n",
       "      <td>0.00448</td>\n",
       "      <td>0.02240</td>\n",
       "      <td>0.01792</td>\n",
       "      <td>0.02240</td>\n",
       "      <td>0.00000</td>\n",
       "    </tr>\n",
       "    <tr>\n",
       "      <th>1</th>\n",
       "      <td>0.00896</td>\n",
       "      <td>0.00000</td>\n",
       "      <td>0.02688</td>\n",
       "      <td>0.01792</td>\n",
       "      <td>0.00896</td>\n",
       "      <td>0.03136</td>\n",
       "      <td>0.02688</td>\n",
       "      <td>0.03136</td>\n",
       "      <td>0.00896</td>\n",
       "      <td>0.00896</td>\n",
       "      <td>...</td>\n",
       "      <td>0.01792</td>\n",
       "      <td>0.00896</td>\n",
       "      <td>0.01792</td>\n",
       "      <td>0.00000</td>\n",
       "      <td>0.03136</td>\n",
       "      <td>0.00448</td>\n",
       "      <td>0.02240</td>\n",
       "      <td>0.01792</td>\n",
       "      <td>0.01792</td>\n",
       "      <td>0.00000</td>\n",
       "    </tr>\n",
       "    <tr>\n",
       "      <th>2</th>\n",
       "      <td>0.01344</td>\n",
       "      <td>0.00896</td>\n",
       "      <td>0.01792</td>\n",
       "      <td>0.00896</td>\n",
       "      <td>0.00000</td>\n",
       "      <td>0.01344</td>\n",
       "      <td>0.00896</td>\n",
       "      <td>0.00896</td>\n",
       "      <td>0.00448</td>\n",
       "      <td>0.00000</td>\n",
       "      <td>...</td>\n",
       "      <td>0.00448</td>\n",
       "      <td>0.00896</td>\n",
       "      <td>0.00896</td>\n",
       "      <td>0.00896</td>\n",
       "      <td>0.01792</td>\n",
       "      <td>0.00448</td>\n",
       "      <td>0.02240</td>\n",
       "      <td>0.01344</td>\n",
       "      <td>0.00448</td>\n",
       "      <td>0.00448</td>\n",
       "    </tr>\n",
       "    <tr>\n",
       "      <th>3</th>\n",
       "      <td>0.00896</td>\n",
       "      <td>0.00448</td>\n",
       "      <td>0.00448</td>\n",
       "      <td>0.00448</td>\n",
       "      <td>0.00000</td>\n",
       "      <td>0.00896</td>\n",
       "      <td>0.00448</td>\n",
       "      <td>0.00448</td>\n",
       "      <td>0.00000</td>\n",
       "      <td>0.00000</td>\n",
       "      <td>...</td>\n",
       "      <td>0.00000</td>\n",
       "      <td>0.00448</td>\n",
       "      <td>0.00000</td>\n",
       "      <td>0.00896</td>\n",
       "      <td>0.00896</td>\n",
       "      <td>0.00000</td>\n",
       "      <td>0.00896</td>\n",
       "      <td>0.00448</td>\n",
       "      <td>0.00000</td>\n",
       "      <td>0.00000</td>\n",
       "    </tr>\n",
       "    <tr>\n",
       "      <th>4</th>\n",
       "      <td>0.01792</td>\n",
       "      <td>0.01344</td>\n",
       "      <td>0.01792</td>\n",
       "      <td>0.01344</td>\n",
       "      <td>0.00448</td>\n",
       "      <td>0.01344</td>\n",
       "      <td>0.00896</td>\n",
       "      <td>0.00896</td>\n",
       "      <td>0.00448</td>\n",
       "      <td>0.00000</td>\n",
       "      <td>...</td>\n",
       "      <td>0.00448</td>\n",
       "      <td>0.01344</td>\n",
       "      <td>0.00896</td>\n",
       "      <td>0.01344</td>\n",
       "      <td>0.01792</td>\n",
       "      <td>0.00448</td>\n",
       "      <td>0.02240</td>\n",
       "      <td>0.01344</td>\n",
       "      <td>0.00000</td>\n",
       "      <td>0.00448</td>\n",
       "    </tr>\n",
       "    <tr>\n",
       "      <th>...</th>\n",
       "      <td>...</td>\n",
       "      <td>...</td>\n",
       "      <td>...</td>\n",
       "      <td>...</td>\n",
       "      <td>...</td>\n",
       "      <td>...</td>\n",
       "      <td>...</td>\n",
       "      <td>...</td>\n",
       "      <td>...</td>\n",
       "      <td>...</td>\n",
       "      <td>...</td>\n",
       "      <td>...</td>\n",
       "      <td>...</td>\n",
       "      <td>...</td>\n",
       "      <td>...</td>\n",
       "      <td>...</td>\n",
       "      <td>...</td>\n",
       "      <td>...</td>\n",
       "      <td>...</td>\n",
       "      <td>...</td>\n",
       "      <td>...</td>\n",
       "    </tr>\n",
       "    <tr>\n",
       "      <th>645</th>\n",
       "      <td>0.04032</td>\n",
       "      <td>0.25088</td>\n",
       "      <td>0.14336</td>\n",
       "      <td>0.13440</td>\n",
       "      <td>0.03136</td>\n",
       "      <td>0.13440</td>\n",
       "      <td>0.16576</td>\n",
       "      <td>0.12544</td>\n",
       "      <td>0.27776</td>\n",
       "      <td>0.09856</td>\n",
       "      <td>...</td>\n",
       "      <td>0.13888</td>\n",
       "      <td>0.06272</td>\n",
       "      <td>0.02688</td>\n",
       "      <td>0.03136</td>\n",
       "      <td>0.04032</td>\n",
       "      <td>0.04032</td>\n",
       "      <td>0.03136</td>\n",
       "      <td>0.10752</td>\n",
       "      <td>0.03584</td>\n",
       "      <td>0.01792</td>\n",
       "    </tr>\n",
       "    <tr>\n",
       "      <th>646</th>\n",
       "      <td>0.04032</td>\n",
       "      <td>0.25536</td>\n",
       "      <td>0.12544</td>\n",
       "      <td>0.12096</td>\n",
       "      <td>0.04480</td>\n",
       "      <td>0.14336</td>\n",
       "      <td>0.16128</td>\n",
       "      <td>0.13888</td>\n",
       "      <td>0.28224</td>\n",
       "      <td>0.10752</td>\n",
       "      <td>...</td>\n",
       "      <td>0.15232</td>\n",
       "      <td>0.06272</td>\n",
       "      <td>0.03136</td>\n",
       "      <td>0.04480</td>\n",
       "      <td>0.05824</td>\n",
       "      <td>0.04032</td>\n",
       "      <td>0.03136</td>\n",
       "      <td>0.10304</td>\n",
       "      <td>0.03584</td>\n",
       "      <td>0.03584</td>\n",
       "    </tr>\n",
       "    <tr>\n",
       "      <th>647</th>\n",
       "      <td>0.03136</td>\n",
       "      <td>0.25536</td>\n",
       "      <td>0.12544</td>\n",
       "      <td>0.11200</td>\n",
       "      <td>0.04480</td>\n",
       "      <td>0.14336</td>\n",
       "      <td>0.17472</td>\n",
       "      <td>0.13888</td>\n",
       "      <td>0.30016</td>\n",
       "      <td>0.12992</td>\n",
       "      <td>...</td>\n",
       "      <td>0.15680</td>\n",
       "      <td>0.05824</td>\n",
       "      <td>0.03584</td>\n",
       "      <td>0.04480</td>\n",
       "      <td>0.06272</td>\n",
       "      <td>0.03584</td>\n",
       "      <td>0.04032</td>\n",
       "      <td>0.10304</td>\n",
       "      <td>0.03584</td>\n",
       "      <td>0.03584</td>\n",
       "    </tr>\n",
       "    <tr>\n",
       "      <th>648</th>\n",
       "      <td>0.04032</td>\n",
       "      <td>0.24192</td>\n",
       "      <td>0.12096</td>\n",
       "      <td>0.10304</td>\n",
       "      <td>0.03136</td>\n",
       "      <td>0.16576</td>\n",
       "      <td>0.17920</td>\n",
       "      <td>0.12992</td>\n",
       "      <td>0.27776</td>\n",
       "      <td>0.14784</td>\n",
       "      <td>...</td>\n",
       "      <td>0.13440</td>\n",
       "      <td>0.06720</td>\n",
       "      <td>0.04480</td>\n",
       "      <td>0.03584</td>\n",
       "      <td>0.06272</td>\n",
       "      <td>0.04032</td>\n",
       "      <td>0.04928</td>\n",
       "      <td>0.12096</td>\n",
       "      <td>0.03584</td>\n",
       "      <td>0.03584</td>\n",
       "    </tr>\n",
       "    <tr>\n",
       "      <th>649</th>\n",
       "      <td>0.04480</td>\n",
       "      <td>0.23744</td>\n",
       "      <td>0.12096</td>\n",
       "      <td>0.06720</td>\n",
       "      <td>0.03584</td>\n",
       "      <td>0.17472</td>\n",
       "      <td>0.18368</td>\n",
       "      <td>0.13440</td>\n",
       "      <td>0.28672</td>\n",
       "      <td>0.18368</td>\n",
       "      <td>...</td>\n",
       "      <td>0.12096</td>\n",
       "      <td>0.07168</td>\n",
       "      <td>0.04480</td>\n",
       "      <td>0.04928</td>\n",
       "      <td>0.06272</td>\n",
       "      <td>0.03584</td>\n",
       "      <td>0.05824</td>\n",
       "      <td>0.12096</td>\n",
       "      <td>0.04032</td>\n",
       "      <td>0.03584</td>\n",
       "    </tr>\n",
       "  </tbody>\n",
       "</table>\n",
       "<p>650 rows × 105 columns</p>\n",
       "</div>"
      ],
      "text/plain": [
       "         0        1        2        3        4        5        6        7    \\\n",
       "0    0.00896  0.00448  0.02688  0.01792  0.00896  0.03136  0.02688  0.04032   \n",
       "1    0.00896  0.00000  0.02688  0.01792  0.00896  0.03136  0.02688  0.03136   \n",
       "2    0.01344  0.00896  0.01792  0.00896  0.00000  0.01344  0.00896  0.00896   \n",
       "3    0.00896  0.00448  0.00448  0.00448  0.00000  0.00896  0.00448  0.00448   \n",
       "4    0.01792  0.01344  0.01792  0.01344  0.00448  0.01344  0.00896  0.00896   \n",
       "..       ...      ...      ...      ...      ...      ...      ...      ...   \n",
       "645  0.04032  0.25088  0.14336  0.13440  0.03136  0.13440  0.16576  0.12544   \n",
       "646  0.04032  0.25536  0.12544  0.12096  0.04480  0.14336  0.16128  0.13888   \n",
       "647  0.03136  0.25536  0.12544  0.11200  0.04480  0.14336  0.17472  0.13888   \n",
       "648  0.04032  0.24192  0.12096  0.10304  0.03136  0.16576  0.17920  0.12992   \n",
       "649  0.04480  0.23744  0.12096  0.06720  0.03584  0.17472  0.18368  0.13440   \n",
       "\n",
       "         8        9    ...      95       96       97       98       99   \\\n",
       "0    0.00896  0.00896  ...  0.01792  0.00896  0.01792  0.00000  0.03136   \n",
       "1    0.00896  0.00896  ...  0.01792  0.00896  0.01792  0.00000  0.03136   \n",
       "2    0.00448  0.00000  ...  0.00448  0.00896  0.00896  0.00896  0.01792   \n",
       "3    0.00000  0.00000  ...  0.00000  0.00448  0.00000  0.00896  0.00896   \n",
       "4    0.00448  0.00000  ...  0.00448  0.01344  0.00896  0.01344  0.01792   \n",
       "..       ...      ...  ...      ...      ...      ...      ...      ...   \n",
       "645  0.27776  0.09856  ...  0.13888  0.06272  0.02688  0.03136  0.04032   \n",
       "646  0.28224  0.10752  ...  0.15232  0.06272  0.03136  0.04480  0.05824   \n",
       "647  0.30016  0.12992  ...  0.15680  0.05824  0.03584  0.04480  0.06272   \n",
       "648  0.27776  0.14784  ...  0.13440  0.06720  0.04480  0.03584  0.06272   \n",
       "649  0.28672  0.18368  ...  0.12096  0.07168  0.04480  0.04928  0.06272   \n",
       "\n",
       "         100      101      102      103      104  \n",
       "0    0.00448  0.02240  0.01792  0.02240  0.00000  \n",
       "1    0.00448  0.02240  0.01792  0.01792  0.00000  \n",
       "2    0.00448  0.02240  0.01344  0.00448  0.00448  \n",
       "3    0.00000  0.00896  0.00448  0.00000  0.00000  \n",
       "4    0.00448  0.02240  0.01344  0.00000  0.00448  \n",
       "..       ...      ...      ...      ...      ...  \n",
       "645  0.04032  0.03136  0.10752  0.03584  0.01792  \n",
       "646  0.04032  0.03136  0.10304  0.03584  0.03584  \n",
       "647  0.03584  0.04032  0.10304  0.03584  0.03584  \n",
       "648  0.04032  0.04928  0.12096  0.03584  0.03584  \n",
       "649  0.03584  0.05824  0.12096  0.04032  0.03584  \n",
       "\n",
       "[650 rows x 105 columns]"
      ]
     },
     "execution_count": 18,
     "metadata": {},
     "output_type": "execute_result"
    }
   ],
   "source": [
    "df1p1 = df1.iloc[:650]\n",
    "df1p1"
   ]
  },
  {
   "cell_type": "code",
   "execution_count": 37,
   "id": "72ad7e72",
   "metadata": {},
   "outputs": [],
   "source": [
    "p1low = []\n",
    "\n",
    "for col in df1p1:\n",
    "    if max(df1p1[col]) < 0.2:\n",
    "        p1low.append(col)"
   ]
  },
  {
   "cell_type": "code",
   "execution_count": 38,
   "id": "396696dc",
   "metadata": {},
   "outputs": [
    {
     "data": {
      "text/plain": [
       "[0, 2, 5, 26, 38, 41, 45, 52, 66, 68, 75, 84, 88, 99, 100]"
      ]
     },
     "execution_count": 38,
     "metadata": {},
     "output_type": "execute_result"
    }
   ],
   "source": [
    "p1low"
   ]
  },
  {
   "cell_type": "markdown",
   "id": "be954eae",
   "metadata": {},
   "source": [
    "## 3. Average curve shape in the initial phase"
   ]
  },
  {
   "cell_type": "code",
   "execution_count": 8,
   "id": "e830e63e",
   "metadata": {},
   "outputs": [],
   "source": [
    "df1p1 = df1.iloc[:600]"
   ]
  },
  {
   "cell_type": "code",
   "execution_count": 9,
   "id": "a8bf8cec",
   "metadata": {},
   "outputs": [
    {
     "data": {
      "image/png": "[encoded data removed]",
      "text/plain": [
       "<Figure size 864x432 with 1 Axes>"
      ]
     },
     "metadata": {
      "needs_background": "light"
     },
     "output_type": "display_data"
    }
   ],
   "source": [
    "plt.figure(figsize=(12,6))\n",
    "plt.plot(np.mean(df1p1, axis=1))\n",
    "plt.grid()\n",
    "plt.show()"
   ]
  },
  {
   "cell_type": "markdown",
   "id": "2d3988a0",
   "metadata": {},
   "source": [
    "## 4. Rise point of the curves"
   ]
  },
  {
   "cell_type": "code",
   "execution_count": 10,
   "id": "9bd3451d",
   "metadata": {},
   "outputs": [],
   "source": [
    "raise_point = []\n",
    "\n",
    "for col in df1:\n",
    "    for i, val in enumerate(df1[col]):\n",
    "        if val > 1:\n",
    "            raise_point.append(i)\n",
    "            break"
   ]
  },
  {
   "cell_type": "code",
   "execution_count": 11,
   "id": "0a771578",
   "metadata": {},
   "outputs": [
    {
     "data": {
      "text/plain": [
       "732.025"
      ]
     },
     "execution_count": 11,
     "metadata": {},
     "output_type": "execute_result"
    }
   ],
   "source": [
    "np.mean(raise_point)"
   ]
  },
  {
   "cell_type": "code",
   "execution_count": 12,
   "id": "72d23cd1",
   "metadata": {},
   "outputs": [
    {
     "data": {
      "image/png": "[encoded data removed]",
      "text/plain": [
       "<Figure size 288x432 with 1 Axes>"
      ]
     },
     "metadata": {
      "needs_background": "light"
     },
     "output_type": "display_data"
    }
   ],
   "source": [
    "plt.figure(figsize=(4,6))\n",
    "plt.boxplot(raise_point)\n",
    "plt.grid()\n",
    "plt.show()"
   ]
  },
  {
   "cell_type": "markdown",
   "id": "dbbf9298",
   "metadata": {},
   "source": [
    "## 5. Maximum value of the curves"
   ]
  },
  {
   "cell_type": "code",
   "execution_count": 13,
   "id": "0ab9e014",
   "metadata": {},
   "outputs": [],
   "source": [
    "max_values = []\n",
    "\n",
    "for col in df1:\n",
    "    max_values.append(max(df1[col]))"
   ]
  },
  {
   "cell_type": "code",
   "execution_count": 14,
   "id": "ce4f1d11",
   "metadata": {},
   "outputs": [
    {
     "data": {
      "text/plain": [
       "2.0923616000000003"
      ]
     },
     "execution_count": 14,
     "metadata": {},
     "output_type": "execute_result"
    }
   ],
   "source": [
    "np.mean(max_values)"
   ]
  },
  {
   "cell_type": "code",
   "execution_count": 16,
   "id": "b86ae056",
   "metadata": {},
   "outputs": [
    {
     "data": {
      "image/png": "[encoded data removed]",
      "text/plain": [
       "<Figure size 288x432 with 1 Axes>"
      ]
     },
     "metadata": {
      "needs_background": "light"
     },
     "output_type": "display_data"
    }
   ],
   "source": [
    "plt.figure(figsize=(4,6))\n",
    "plt.boxplot(max_values)\n",
    "plt.grid()\n",
    "plt.show()"
   ]
  },
  {
   "cell_type": "code",
   "execution_count": null,
   "id": "dcfed0b6",
   "metadata": {},
   "outputs": [],
   "source": []
  },
  {
   "cell_type": "markdown",
   "id": "ac8158c3",
   "metadata": {},
   "source": [
    "## 6. Rename files"
   ]
  },
  {
   "cell_type": "code",
   "execution_count": 83,
   "id": "c994cc72",
   "metadata": {},
   "outputs": [],
   "source": [
    "def rename_csv(main_path, folder, fname_new, file_amount):\n",
    "    \n",
    "    for i in range(file_amount):\n",
    "        old = os.path.join(main_path, folder, os.listdir(main_path + folder)[i])\n",
    "        new = os.path.join(main_path, folder, fname_new + str(i) + \".csv\")\n",
    "        #print(i)\n",
    "        os.rename(old, new)"
   ]
  },
  {
   "cell_type": "code",
   "execution_count": 80,
   "id": "57fa4cf3",
   "metadata": {},
   "outputs": [
    {
     "data": {
      "text/plain": [
       "'..\\\\Daten\\\\einzelne_klassen\\\\klasse1song\\\\rename (1).csv'"
      ]
     },
     "execution_count": 80,
     "metadata": {},
     "output_type": "execute_result"
    }
   ],
   "source": [
    "old = os.path.join(main_path, \"klasse1song\", os.listdir(main_path + \"klasse1song\")[0])\n",
    "old"
   ]
  },
  {
   "cell_type": "code",
   "execution_count": 81,
   "id": "8d330414",
   "metadata": {},
   "outputs": [
    {
     "data": {
      "text/plain": [
       "'..\\\\Daten\\\\einzelne_klassen\\\\klasse1song\\\\class1_119.csv'"
      ]
     },
     "execution_count": 81,
     "metadata": {},
     "output_type": "execute_result"
    }
   ],
   "source": [
    "new = os.path.join(main_path, \"klasse1song\", \"class1_\" + str(119) + \".csv\")\n",
    "new"
   ]
  },
  {
   "cell_type": "code",
   "execution_count": 82,
   "id": "c800d9d1",
   "metadata": {},
   "outputs": [],
   "source": [
    "#rename_csv(main_path, \"klasse1song\", \"class1_\", file_amount=81)"
   ]
  },
  {
   "cell_type": "code",
   "execution_count": null,
   "id": "16ff211e",
   "metadata": {},
   "outputs": [],
   "source": []
  }
 ],
 "metadata": {
  "kernelspec": {
   "display_name": "Python 3 (ipykernel)",
   "language": "python",
   "name": "python3"
  },
  "language_info": {
   "codemirror_mode": {
    "name": "ipython",
    "version": 3
   },
   "file_extension": ".py",
   "mimetype": "text/x-python",
   "name": "python",
   "nbconvert_exporter": "python",
   "pygments_lexer": "ipython3",
   "version": "3.9.12"
  }
 },
 "nbformat": 4,
 "nbformat_minor": 5
}
