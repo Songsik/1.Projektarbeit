{
 "cells": [
  {
   "cell_type": "markdown",
   "id": "096593e9",
   "metadata": {},
   "source": [
    "# Overview of this jupyter notebook\n",
    "\n",
    "### Purpose: Data understanding of each classes without data modification\n",
    "1. Loading screwing data \n",
    "2. Average curve shape in the initial phase\n",
    "3. Rise point of the curves\n",
    "4. Maximum value of the curves\n",
    "5. Detect too low curves in initial phase\n",
    "6. Rename files"
   ]
  },
  {
   "cell_type": "code",
   "execution_count": 1,
   "id": "d7a9c8b1",
   "metadata": {},
   "outputs": [
    {
     "name": "stdout",
     "output_type": "stream",
     "text": [
      "<module 'library.etl_data' from 'C:\\\\Users\\\\songs\\\\OneDrive\\\\Desktop\\\\0. PA_FAPS\\\\04_Code\\\\library\\\\etl_data.py'>\n",
      "<module 'library.faps_color' from 'C:\\\\Users\\\\songs\\\\OneDrive\\\\Desktop\\\\0. PA_FAPS\\\\04_Code\\\\library\\\\faps_color.py'>\n"
     ]
    }
   ],
   "source": [
    "import os\n",
    "import pandas as pd\n",
    "import numpy as np\n",
    "import plotly.graph_objects as go\n",
    "import plotly.express as px\n",
    "import matplotlib.pyplot as plt\n",
    "from tqdm.notebook import tqdm_notebook as tq\n",
    "import importlib\n",
    "from library import etl_data as etl        # this module contains functions that load, visualize and save the data\n",
    "from library import faps_color as fapsc    # this module contains the color combination of FAPS Institute\n",
    "print(importlib.reload(etl))\n",
    "print(importlib.reload(fapsc))"
   ]
  },
  {
   "cell_type": "markdown",
   "id": "2bfd57cf",
   "metadata": {},
   "source": [
    "## 1. Loading screwing data"
   ]
  },
  {
   "cell_type": "code",
   "execution_count": 2,
   "id": "90c46265",
   "metadata": {},
   "outputs": [],
   "source": [
    "main_path = \"..\\\\03_Schraubprozessdaten\\\\einzelne_klassen\\\\\"\n",
    "folders = os.listdir(main_path)\n",
    "fname = \"\\\\ast11-graph\"\n",
    "fname_new = \"\\\\class5_\""
   ]
  },
  {
   "cell_type": "code",
   "execution_count": 3,
   "id": "e31dfd54",
   "metadata": {},
   "outputs": [
    {
     "data": {
      "text/plain": [
       "['0_in_ordnung',\n",
       " '1_kleine_durchgangsbohrung_v2',\n",
       " '2_falsch_ausgerichtete_fuegepartner_v3',\n",
       " '3_unebene_fuegeflaeche',\n",
       " '4_verunreinigtes_gewinde',\n",
       " '5_verschmutzte_schraube',\n",
       " '6_fremdkoerper_am_gewindeende',\n",
       " '7_beschaedigte_schraube']"
      ]
     },
     "execution_count": 3,
     "metadata": {},
     "output_type": "execute_result"
    }
   ],
   "source": [
    "folders"
   ]
  },
  {
   "cell_type": "code",
   "execution_count": 4,
   "id": "6a01512f",
   "metadata": {},
   "outputs": [],
   "source": [
    "class5 = '5_verschmutzte_schraube'"
   ]
  },
  {
   "cell_type": "code",
   "execution_count": 5,
   "id": "5eb08911",
   "metadata": {},
   "outputs": [],
   "source": [
    "def set_time(df, len_curves):\n",
    "    \n",
    "    original_time_step = 0.000175\n",
    "    max_time = max(len_curves)*original_time_step\n",
    "    len_datapoints = len(df)\n",
    "    time_steps = round(max_time/len_datapoints, 4)\n",
    "    \n",
    "    timeline = []\n",
    "\n",
    "    for i in range(len_datapoints):\n",
    "        i = round(i*time_steps, 4)\n",
    "        timeline.append(i)\n",
    "        \n",
    "    return np.array(timeline).reshape(-1, 1)"
   ]
  },
  {
   "cell_type": "code",
   "execution_count": 6,
   "id": "dc7bdbc0",
   "metadata": {},
   "outputs": [],
   "source": [
    "def load_data(main_path, folders, fname, downsample, file_amount):\n",
    "    \n",
    "    arr = []\n",
    "    len_curves = []\n",
    "    short_curves = []\n",
    "    low_curves = []\n",
    "    \n",
    "    for i in tq(range(file_amount)):\n",
    "        try:\n",
    "            file_path = main_path + folders + fname + str(i) + \".csv\"\n",
    "            data = pd.read_csv(file_path, encoding = 'ISO-8859-1')[\"Drehmoment(N·m)\"]\n",
    "            arr.append(data)\n",
    "            len_curves.append(len(data))\n",
    "        except:\n",
    "            print(i)\n",
    "        \n",
    "    for index, length in enumerate(len_curves): \n",
    "        if length < np.max(len_curves)*0.8:\n",
    "            short_curves.append(index)\n",
    "        \n",
    "    df = pd.concat(arr, axis=1, ignore_index=True)\n",
    "    df = df[:][::downsample]\n",
    "    df = df.reset_index(drop=True)\n",
    "    df[df < 0] = np.nan\n",
    "    df = df.fillna(0)\n",
    "    \n",
    "    for col in df:\n",
    "        if max(df[col]) < 1.0:\n",
    "            low_curves.append(col)\n",
    "    \n",
    "    return df, len_curves, short_curves, low_curves"
   ]
  },
  {
   "cell_type": "code",
   "execution_count": 7,
   "id": "694457cd",
   "metadata": {
    "scrolled": true
   },
   "outputs": [
    {
     "data": {
      "application/vnd.jupyter.widget-view+json": {
       "model_id": "5e67639ef5254fd4ae6ffc4fe58c637f",
       "version_major": 2,
       "version_minor": 0
      },
      "text/plain": [
       "  0%|          | 0/200 [00:00<?, ?it/s]"
      ]
     },
     "metadata": {},
     "output_type": "display_data"
    }
   ],
   "source": [
    "df5, len_curves, short_curves, low_curves = load_data(main_path, class5, fname_new, downsample=20, file_amount=200)"
   ]
  },
  {
   "cell_type": "code",
   "execution_count": 8,
   "id": "20d7dae3",
   "metadata": {},
   "outputs": [
    {
     "data": {
      "text/html": [
       "<div>\n",
       "<style scoped>\n",
       "    .dataframe tbody tr th:only-of-type {\n",
       "        vertical-align: middle;\n",
       "    }\n",
       "\n",
       "    .dataframe tbody tr th {\n",
       "        vertical-align: top;\n",
       "    }\n",
       "\n",
       "    .dataframe thead th {\n",
       "        text-align: right;\n",
       "    }\n",
       "</style>\n",
       "<table border=\"1\" class=\"dataframe\">\n",
       "  <thead>\n",
       "    <tr style=\"text-align: right;\">\n",
       "      <th></th>\n",
       "      <th>0</th>\n",
       "      <th>1</th>\n",
       "      <th>2</th>\n",
       "      <th>3</th>\n",
       "      <th>4</th>\n",
       "      <th>5</th>\n",
       "      <th>6</th>\n",
       "      <th>7</th>\n",
       "      <th>8</th>\n",
       "      <th>9</th>\n",
       "      <th>...</th>\n",
       "      <th>190</th>\n",
       "      <th>191</th>\n",
       "      <th>192</th>\n",
       "      <th>193</th>\n",
       "      <th>194</th>\n",
       "      <th>195</th>\n",
       "      <th>196</th>\n",
       "      <th>197</th>\n",
       "      <th>198</th>\n",
       "      <th>199</th>\n",
       "    </tr>\n",
       "  </thead>\n",
       "  <tbody>\n",
       "    <tr>\n",
       "      <th>0</th>\n",
       "      <td>0.00448</td>\n",
       "      <td>0.01792</td>\n",
       "      <td>0.00000</td>\n",
       "      <td>0.02240</td>\n",
       "      <td>0.02240</td>\n",
       "      <td>0.00448</td>\n",
       "      <td>0.03584</td>\n",
       "      <td>0.00000</td>\n",
       "      <td>0.01792</td>\n",
       "      <td>0.03136</td>\n",
       "      <td>...</td>\n",
       "      <td>0.00000</td>\n",
       "      <td>0.04032</td>\n",
       "      <td>0.00000</td>\n",
       "      <td>0.00448</td>\n",
       "      <td>0.01344</td>\n",
       "      <td>0.01344</td>\n",
       "      <td>0.01344</td>\n",
       "      <td>0.00448</td>\n",
       "      <td>0.03584</td>\n",
       "      <td>0.00000</td>\n",
       "    </tr>\n",
       "    <tr>\n",
       "      <th>1</th>\n",
       "      <td>0.00448</td>\n",
       "      <td>0.01792</td>\n",
       "      <td>0.00000</td>\n",
       "      <td>0.01792</td>\n",
       "      <td>0.01792</td>\n",
       "      <td>0.00448</td>\n",
       "      <td>0.03584</td>\n",
       "      <td>0.00000</td>\n",
       "      <td>0.01792</td>\n",
       "      <td>0.03136</td>\n",
       "      <td>...</td>\n",
       "      <td>0.00000</td>\n",
       "      <td>0.03584</td>\n",
       "      <td>0.00448</td>\n",
       "      <td>0.00448</td>\n",
       "      <td>0.01344</td>\n",
       "      <td>0.01344</td>\n",
       "      <td>0.01344</td>\n",
       "      <td>0.00000</td>\n",
       "      <td>0.03136</td>\n",
       "      <td>0.00000</td>\n",
       "    </tr>\n",
       "    <tr>\n",
       "      <th>2</th>\n",
       "      <td>0.01344</td>\n",
       "      <td>0.02240</td>\n",
       "      <td>0.00448</td>\n",
       "      <td>0.00448</td>\n",
       "      <td>0.00448</td>\n",
       "      <td>0.00000</td>\n",
       "      <td>0.01344</td>\n",
       "      <td>0.00448</td>\n",
       "      <td>0.00896</td>\n",
       "      <td>0.01344</td>\n",
       "      <td>...</td>\n",
       "      <td>0.00448</td>\n",
       "      <td>0.01344</td>\n",
       "      <td>0.00448</td>\n",
       "      <td>0.00896</td>\n",
       "      <td>0.01344</td>\n",
       "      <td>0.01792</td>\n",
       "      <td>0.01344</td>\n",
       "      <td>0.00448</td>\n",
       "      <td>0.01344</td>\n",
       "      <td>0.00448</td>\n",
       "    </tr>\n",
       "    <tr>\n",
       "      <th>3</th>\n",
       "      <td>0.00448</td>\n",
       "      <td>0.01344</td>\n",
       "      <td>0.00896</td>\n",
       "      <td>0.00448</td>\n",
       "      <td>0.00000</td>\n",
       "      <td>0.00000</td>\n",
       "      <td>0.00000</td>\n",
       "      <td>0.00448</td>\n",
       "      <td>0.00448</td>\n",
       "      <td>0.00448</td>\n",
       "      <td>...</td>\n",
       "      <td>0.00000</td>\n",
       "      <td>0.00896</td>\n",
       "      <td>0.00448</td>\n",
       "      <td>0.00896</td>\n",
       "      <td>0.00448</td>\n",
       "      <td>0.00896</td>\n",
       "      <td>0.00896</td>\n",
       "      <td>0.00000</td>\n",
       "      <td>0.00896</td>\n",
       "      <td>0.00448</td>\n",
       "    </tr>\n",
       "    <tr>\n",
       "      <th>4</th>\n",
       "      <td>0.01344</td>\n",
       "      <td>0.02240</td>\n",
       "      <td>0.01344</td>\n",
       "      <td>0.00448</td>\n",
       "      <td>0.00896</td>\n",
       "      <td>0.00448</td>\n",
       "      <td>0.00896</td>\n",
       "      <td>0.00448</td>\n",
       "      <td>0.00896</td>\n",
       "      <td>0.01344</td>\n",
       "      <td>...</td>\n",
       "      <td>0.00896</td>\n",
       "      <td>0.01344</td>\n",
       "      <td>0.01344</td>\n",
       "      <td>0.01344</td>\n",
       "      <td>0.01344</td>\n",
       "      <td>0.01792</td>\n",
       "      <td>0.01344</td>\n",
       "      <td>0.00448</td>\n",
       "      <td>0.01344</td>\n",
       "      <td>0.00896</td>\n",
       "    </tr>\n",
       "    <tr>\n",
       "      <th>...</th>\n",
       "      <td>...</td>\n",
       "      <td>...</td>\n",
       "      <td>...</td>\n",
       "      <td>...</td>\n",
       "      <td>...</td>\n",
       "      <td>...</td>\n",
       "      <td>...</td>\n",
       "      <td>...</td>\n",
       "      <td>...</td>\n",
       "      <td>...</td>\n",
       "      <td>...</td>\n",
       "      <td>...</td>\n",
       "      <td>...</td>\n",
       "      <td>...</td>\n",
       "      <td>...</td>\n",
       "      <td>...</td>\n",
       "      <td>...</td>\n",
       "      <td>...</td>\n",
       "      <td>...</td>\n",
       "      <td>...</td>\n",
       "      <td>...</td>\n",
       "    </tr>\n",
       "    <tr>\n",
       "      <th>761</th>\n",
       "      <td>0.00000</td>\n",
       "      <td>0.00000</td>\n",
       "      <td>0.00000</td>\n",
       "      <td>0.00000</td>\n",
       "      <td>0.00000</td>\n",
       "      <td>0.00000</td>\n",
       "      <td>0.00000</td>\n",
       "      <td>0.00000</td>\n",
       "      <td>0.56000</td>\n",
       "      <td>0.00000</td>\n",
       "      <td>...</td>\n",
       "      <td>0.00000</td>\n",
       "      <td>0.00000</td>\n",
       "      <td>0.00000</td>\n",
       "      <td>0.00000</td>\n",
       "      <td>0.00000</td>\n",
       "      <td>0.00000</td>\n",
       "      <td>0.17024</td>\n",
       "      <td>0.00000</td>\n",
       "      <td>0.00000</td>\n",
       "      <td>0.00000</td>\n",
       "    </tr>\n",
       "    <tr>\n",
       "      <th>762</th>\n",
       "      <td>0.00000</td>\n",
       "      <td>0.00000</td>\n",
       "      <td>0.00000</td>\n",
       "      <td>0.00000</td>\n",
       "      <td>0.00000</td>\n",
       "      <td>0.00000</td>\n",
       "      <td>0.00000</td>\n",
       "      <td>0.00000</td>\n",
       "      <td>0.49728</td>\n",
       "      <td>0.00000</td>\n",
       "      <td>...</td>\n",
       "      <td>0.00000</td>\n",
       "      <td>0.00000</td>\n",
       "      <td>0.00000</td>\n",
       "      <td>0.00000</td>\n",
       "      <td>0.00000</td>\n",
       "      <td>0.00000</td>\n",
       "      <td>0.00000</td>\n",
       "      <td>0.00000</td>\n",
       "      <td>0.00000</td>\n",
       "      <td>0.00000</td>\n",
       "    </tr>\n",
       "    <tr>\n",
       "      <th>763</th>\n",
       "      <td>0.00000</td>\n",
       "      <td>0.00000</td>\n",
       "      <td>0.00000</td>\n",
       "      <td>0.00000</td>\n",
       "      <td>0.00000</td>\n",
       "      <td>0.00000</td>\n",
       "      <td>0.00000</td>\n",
       "      <td>0.00000</td>\n",
       "      <td>0.40768</td>\n",
       "      <td>0.00000</td>\n",
       "      <td>...</td>\n",
       "      <td>0.00000</td>\n",
       "      <td>0.00000</td>\n",
       "      <td>0.00000</td>\n",
       "      <td>0.00000</td>\n",
       "      <td>0.00000</td>\n",
       "      <td>0.00000</td>\n",
       "      <td>0.00000</td>\n",
       "      <td>0.00000</td>\n",
       "      <td>0.00000</td>\n",
       "      <td>0.00000</td>\n",
       "    </tr>\n",
       "    <tr>\n",
       "      <th>764</th>\n",
       "      <td>0.00000</td>\n",
       "      <td>0.00000</td>\n",
       "      <td>0.00000</td>\n",
       "      <td>0.00000</td>\n",
       "      <td>0.00000</td>\n",
       "      <td>0.00000</td>\n",
       "      <td>0.00000</td>\n",
       "      <td>0.00000</td>\n",
       "      <td>0.23296</td>\n",
       "      <td>0.00000</td>\n",
       "      <td>...</td>\n",
       "      <td>0.00000</td>\n",
       "      <td>0.00000</td>\n",
       "      <td>0.00000</td>\n",
       "      <td>0.00000</td>\n",
       "      <td>0.00000</td>\n",
       "      <td>0.00000</td>\n",
       "      <td>0.00000</td>\n",
       "      <td>0.00000</td>\n",
       "      <td>0.00000</td>\n",
       "      <td>0.00000</td>\n",
       "    </tr>\n",
       "    <tr>\n",
       "      <th>765</th>\n",
       "      <td>0.00000</td>\n",
       "      <td>0.00000</td>\n",
       "      <td>0.00000</td>\n",
       "      <td>0.00000</td>\n",
       "      <td>0.00000</td>\n",
       "      <td>0.00000</td>\n",
       "      <td>0.00000</td>\n",
       "      <td>0.00000</td>\n",
       "      <td>0.05824</td>\n",
       "      <td>0.00000</td>\n",
       "      <td>...</td>\n",
       "      <td>0.00000</td>\n",
       "      <td>0.00000</td>\n",
       "      <td>0.00000</td>\n",
       "      <td>0.00000</td>\n",
       "      <td>0.00000</td>\n",
       "      <td>0.00000</td>\n",
       "      <td>0.00000</td>\n",
       "      <td>0.00000</td>\n",
       "      <td>0.00000</td>\n",
       "      <td>0.00000</td>\n",
       "    </tr>\n",
       "  </tbody>\n",
       "</table>\n",
       "<p>766 rows × 200 columns</p>\n",
       "</div>"
      ],
      "text/plain": [
       "         0        1        2        3        4        5        6        7    \\\n",
       "0    0.00448  0.01792  0.00000  0.02240  0.02240  0.00448  0.03584  0.00000   \n",
       "1    0.00448  0.01792  0.00000  0.01792  0.01792  0.00448  0.03584  0.00000   \n",
       "2    0.01344  0.02240  0.00448  0.00448  0.00448  0.00000  0.01344  0.00448   \n",
       "3    0.00448  0.01344  0.00896  0.00448  0.00000  0.00000  0.00000  0.00448   \n",
       "4    0.01344  0.02240  0.01344  0.00448  0.00896  0.00448  0.00896  0.00448   \n",
       "..       ...      ...      ...      ...      ...      ...      ...      ...   \n",
       "761  0.00000  0.00000  0.00000  0.00000  0.00000  0.00000  0.00000  0.00000   \n",
       "762  0.00000  0.00000  0.00000  0.00000  0.00000  0.00000  0.00000  0.00000   \n",
       "763  0.00000  0.00000  0.00000  0.00000  0.00000  0.00000  0.00000  0.00000   \n",
       "764  0.00000  0.00000  0.00000  0.00000  0.00000  0.00000  0.00000  0.00000   \n",
       "765  0.00000  0.00000  0.00000  0.00000  0.00000  0.00000  0.00000  0.00000   \n",
       "\n",
       "         8        9    ...      190      191      192      193      194  \\\n",
       "0    0.01792  0.03136  ...  0.00000  0.04032  0.00000  0.00448  0.01344   \n",
       "1    0.01792  0.03136  ...  0.00000  0.03584  0.00448  0.00448  0.01344   \n",
       "2    0.00896  0.01344  ...  0.00448  0.01344  0.00448  0.00896  0.01344   \n",
       "3    0.00448  0.00448  ...  0.00000  0.00896  0.00448  0.00896  0.00448   \n",
       "4    0.00896  0.01344  ...  0.00896  0.01344  0.01344  0.01344  0.01344   \n",
       "..       ...      ...  ...      ...      ...      ...      ...      ...   \n",
       "761  0.56000  0.00000  ...  0.00000  0.00000  0.00000  0.00000  0.00000   \n",
       "762  0.49728  0.00000  ...  0.00000  0.00000  0.00000  0.00000  0.00000   \n",
       "763  0.40768  0.00000  ...  0.00000  0.00000  0.00000  0.00000  0.00000   \n",
       "764  0.23296  0.00000  ...  0.00000  0.00000  0.00000  0.00000  0.00000   \n",
       "765  0.05824  0.00000  ...  0.00000  0.00000  0.00000  0.00000  0.00000   \n",
       "\n",
       "         195      196      197      198      199  \n",
       "0    0.01344  0.01344  0.00448  0.03584  0.00000  \n",
       "1    0.01344  0.01344  0.00000  0.03136  0.00000  \n",
       "2    0.01792  0.01344  0.00448  0.01344  0.00448  \n",
       "3    0.00896  0.00896  0.00000  0.00896  0.00448  \n",
       "4    0.01792  0.01344  0.00448  0.01344  0.00896  \n",
       "..       ...      ...      ...      ...      ...  \n",
       "761  0.00000  0.17024  0.00000  0.00000  0.00000  \n",
       "762  0.00000  0.00000  0.00000  0.00000  0.00000  \n",
       "763  0.00000  0.00000  0.00000  0.00000  0.00000  \n",
       "764  0.00000  0.00000  0.00000  0.00000  0.00000  \n",
       "765  0.00000  0.00000  0.00000  0.00000  0.00000  \n",
       "\n",
       "[766 rows x 200 columns]"
      ]
     },
     "execution_count": 8,
     "metadata": {},
     "output_type": "execute_result"
    }
   ],
   "source": [
    "df5"
   ]
  },
  {
   "cell_type": "code",
   "execution_count": 9,
   "id": "09279265",
   "metadata": {},
   "outputs": [
    {
     "data": {
      "text/plain": [
       "[]"
      ]
     },
     "execution_count": 9,
     "metadata": {},
     "output_type": "execute_result"
    }
   ],
   "source": [
    "short_curves"
   ]
  },
  {
   "cell_type": "code",
   "execution_count": 10,
   "id": "cbd7f42f",
   "metadata": {},
   "outputs": [
    {
     "data": {
      "text/plain": [
       "[]"
      ]
     },
     "execution_count": 10,
     "metadata": {},
     "output_type": "execute_result"
    }
   ],
   "source": [
    "low_curves"
   ]
  },
  {
   "cell_type": "code",
   "execution_count": 11,
   "id": "958bed98",
   "metadata": {},
   "outputs": [
    {
     "data": {
      "image/png": "[encoded data removed]",
      "text/plain": [
       "<Figure size 864x432 with 1 Axes>"
      ]
     },
     "metadata": {
      "needs_background": "light"
     },
     "output_type": "display_data"
    }
   ],
   "source": [
    "plt.figure(figsize=(12,6))\n",
    "plt.plot(df5)\n",
    "plt.grid()\n",
    "plt.show()"
   ]
  },
  {
   "cell_type": "markdown",
   "id": "9055ebbe",
   "metadata": {},
   "source": [
    "## 2. Average curve shape in the initial phase"
   ]
  },
  {
   "cell_type": "code",
   "execution_count": 117,
   "id": "846655ef",
   "metadata": {},
   "outputs": [
    {
     "data": {
      "text/html": [
       "<div>\n",
       "<style scoped>\n",
       "    .dataframe tbody tr th:only-of-type {\n",
       "        vertical-align: middle;\n",
       "    }\n",
       "\n",
       "    .dataframe tbody tr th {\n",
       "        vertical-align: top;\n",
       "    }\n",
       "\n",
       "    .dataframe thead th {\n",
       "        text-align: right;\n",
       "    }\n",
       "</style>\n",
       "<table border=\"1\" class=\"dataframe\">\n",
       "  <thead>\n",
       "    <tr style=\"text-align: right;\">\n",
       "      <th></th>\n",
       "      <th>0</th>\n",
       "      <th>1</th>\n",
       "      <th>2</th>\n",
       "      <th>3</th>\n",
       "      <th>4</th>\n",
       "      <th>5</th>\n",
       "      <th>6</th>\n",
       "      <th>7</th>\n",
       "      <th>8</th>\n",
       "      <th>9</th>\n",
       "      <th>...</th>\n",
       "      <th>190</th>\n",
       "      <th>191</th>\n",
       "      <th>192</th>\n",
       "      <th>193</th>\n",
       "      <th>194</th>\n",
       "      <th>195</th>\n",
       "      <th>196</th>\n",
       "      <th>197</th>\n",
       "      <th>198</th>\n",
       "      <th>199</th>\n",
       "    </tr>\n",
       "  </thead>\n",
       "  <tbody>\n",
       "    <tr>\n",
       "      <th>0</th>\n",
       "      <td>0.00448</td>\n",
       "      <td>0.01792</td>\n",
       "      <td>0.00000</td>\n",
       "      <td>0.02240</td>\n",
       "      <td>0.02240</td>\n",
       "      <td>0.00448</td>\n",
       "      <td>0.03584</td>\n",
       "      <td>0.00000</td>\n",
       "      <td>0.01792</td>\n",
       "      <td>0.03136</td>\n",
       "      <td>...</td>\n",
       "      <td>0.00000</td>\n",
       "      <td>0.04032</td>\n",
       "      <td>0.00000</td>\n",
       "      <td>0.00448</td>\n",
       "      <td>0.01344</td>\n",
       "      <td>0.01344</td>\n",
       "      <td>0.01344</td>\n",
       "      <td>0.00448</td>\n",
       "      <td>0.03584</td>\n",
       "      <td>0.00000</td>\n",
       "    </tr>\n",
       "    <tr>\n",
       "      <th>1</th>\n",
       "      <td>0.00448</td>\n",
       "      <td>0.01792</td>\n",
       "      <td>0.00000</td>\n",
       "      <td>0.01792</td>\n",
       "      <td>0.01792</td>\n",
       "      <td>0.00448</td>\n",
       "      <td>0.03584</td>\n",
       "      <td>0.00000</td>\n",
       "      <td>0.01792</td>\n",
       "      <td>0.03136</td>\n",
       "      <td>...</td>\n",
       "      <td>0.00000</td>\n",
       "      <td>0.03584</td>\n",
       "      <td>0.00448</td>\n",
       "      <td>0.00448</td>\n",
       "      <td>0.01344</td>\n",
       "      <td>0.01344</td>\n",
       "      <td>0.01344</td>\n",
       "      <td>0.00000</td>\n",
       "      <td>0.03136</td>\n",
       "      <td>0.00000</td>\n",
       "    </tr>\n",
       "    <tr>\n",
       "      <th>2</th>\n",
       "      <td>0.01344</td>\n",
       "      <td>0.02240</td>\n",
       "      <td>0.00448</td>\n",
       "      <td>0.00448</td>\n",
       "      <td>0.00448</td>\n",
       "      <td>0.00000</td>\n",
       "      <td>0.01344</td>\n",
       "      <td>0.00448</td>\n",
       "      <td>0.00896</td>\n",
       "      <td>0.01344</td>\n",
       "      <td>...</td>\n",
       "      <td>0.00448</td>\n",
       "      <td>0.01344</td>\n",
       "      <td>0.00448</td>\n",
       "      <td>0.00896</td>\n",
       "      <td>0.01344</td>\n",
       "      <td>0.01792</td>\n",
       "      <td>0.01344</td>\n",
       "      <td>0.00448</td>\n",
       "      <td>0.01344</td>\n",
       "      <td>0.00448</td>\n",
       "    </tr>\n",
       "    <tr>\n",
       "      <th>3</th>\n",
       "      <td>0.00448</td>\n",
       "      <td>0.01344</td>\n",
       "      <td>0.00896</td>\n",
       "      <td>0.00448</td>\n",
       "      <td>0.00000</td>\n",
       "      <td>0.00000</td>\n",
       "      <td>0.00000</td>\n",
       "      <td>0.00448</td>\n",
       "      <td>0.00448</td>\n",
       "      <td>0.00448</td>\n",
       "      <td>...</td>\n",
       "      <td>0.00000</td>\n",
       "      <td>0.00896</td>\n",
       "      <td>0.00448</td>\n",
       "      <td>0.00896</td>\n",
       "      <td>0.00448</td>\n",
       "      <td>0.00896</td>\n",
       "      <td>0.00896</td>\n",
       "      <td>0.00000</td>\n",
       "      <td>0.00896</td>\n",
       "      <td>0.00448</td>\n",
       "    </tr>\n",
       "    <tr>\n",
       "      <th>4</th>\n",
       "      <td>0.01344</td>\n",
       "      <td>0.02240</td>\n",
       "      <td>0.01344</td>\n",
       "      <td>0.00448</td>\n",
       "      <td>0.00896</td>\n",
       "      <td>0.00448</td>\n",
       "      <td>0.00896</td>\n",
       "      <td>0.00448</td>\n",
       "      <td>0.00896</td>\n",
       "      <td>0.01344</td>\n",
       "      <td>...</td>\n",
       "      <td>0.00896</td>\n",
       "      <td>0.01344</td>\n",
       "      <td>0.01344</td>\n",
       "      <td>0.01344</td>\n",
       "      <td>0.01344</td>\n",
       "      <td>0.01792</td>\n",
       "      <td>0.01344</td>\n",
       "      <td>0.00448</td>\n",
       "      <td>0.01344</td>\n",
       "      <td>0.00896</td>\n",
       "    </tr>\n",
       "    <tr>\n",
       "      <th>...</th>\n",
       "      <td>...</td>\n",
       "      <td>...</td>\n",
       "      <td>...</td>\n",
       "      <td>...</td>\n",
       "      <td>...</td>\n",
       "      <td>...</td>\n",
       "      <td>...</td>\n",
       "      <td>...</td>\n",
       "      <td>...</td>\n",
       "      <td>...</td>\n",
       "      <td>...</td>\n",
       "      <td>...</td>\n",
       "      <td>...</td>\n",
       "      <td>...</td>\n",
       "      <td>...</td>\n",
       "      <td>...</td>\n",
       "      <td>...</td>\n",
       "      <td>...</td>\n",
       "      <td>...</td>\n",
       "      <td>...</td>\n",
       "      <td>...</td>\n",
       "    </tr>\n",
       "    <tr>\n",
       "      <th>595</th>\n",
       "      <td>0.03584</td>\n",
       "      <td>0.12096</td>\n",
       "      <td>0.06272</td>\n",
       "      <td>0.04032</td>\n",
       "      <td>0.14784</td>\n",
       "      <td>0.07168</td>\n",
       "      <td>0.12544</td>\n",
       "      <td>0.10752</td>\n",
       "      <td>0.11648</td>\n",
       "      <td>0.14336</td>\n",
       "      <td>...</td>\n",
       "      <td>0.08960</td>\n",
       "      <td>0.06720</td>\n",
       "      <td>0.05824</td>\n",
       "      <td>0.07168</td>\n",
       "      <td>0.06272</td>\n",
       "      <td>0.08512</td>\n",
       "      <td>0.09856</td>\n",
       "      <td>0.08512</td>\n",
       "      <td>0.11200</td>\n",
       "      <td>0.08512</td>\n",
       "    </tr>\n",
       "    <tr>\n",
       "      <th>596</th>\n",
       "      <td>0.04480</td>\n",
       "      <td>0.12992</td>\n",
       "      <td>0.06272</td>\n",
       "      <td>0.04032</td>\n",
       "      <td>0.17024</td>\n",
       "      <td>0.08064</td>\n",
       "      <td>0.12544</td>\n",
       "      <td>0.09856</td>\n",
       "      <td>0.12992</td>\n",
       "      <td>0.13440</td>\n",
       "      <td>...</td>\n",
       "      <td>0.08960</td>\n",
       "      <td>0.07616</td>\n",
       "      <td>0.04928</td>\n",
       "      <td>0.07168</td>\n",
       "      <td>0.05376</td>\n",
       "      <td>0.08064</td>\n",
       "      <td>0.10304</td>\n",
       "      <td>0.07616</td>\n",
       "      <td>0.10752</td>\n",
       "      <td>0.07616</td>\n",
       "    </tr>\n",
       "    <tr>\n",
       "      <th>597</th>\n",
       "      <td>0.03584</td>\n",
       "      <td>0.12544</td>\n",
       "      <td>0.07168</td>\n",
       "      <td>0.04928</td>\n",
       "      <td>0.17472</td>\n",
       "      <td>0.07168</td>\n",
       "      <td>0.12096</td>\n",
       "      <td>0.10304</td>\n",
       "      <td>0.12096</td>\n",
       "      <td>0.10752</td>\n",
       "      <td>...</td>\n",
       "      <td>0.09408</td>\n",
       "      <td>0.06720</td>\n",
       "      <td>0.05824</td>\n",
       "      <td>0.05824</td>\n",
       "      <td>0.05376</td>\n",
       "      <td>0.07616</td>\n",
       "      <td>0.11200</td>\n",
       "      <td>0.08960</td>\n",
       "      <td>0.10752</td>\n",
       "      <td>0.07616</td>\n",
       "    </tr>\n",
       "    <tr>\n",
       "      <th>598</th>\n",
       "      <td>0.05376</td>\n",
       "      <td>0.09856</td>\n",
       "      <td>0.06720</td>\n",
       "      <td>0.04480</td>\n",
       "      <td>0.15680</td>\n",
       "      <td>0.05824</td>\n",
       "      <td>0.11200</td>\n",
       "      <td>0.10304</td>\n",
       "      <td>0.11200</td>\n",
       "      <td>0.09408</td>\n",
       "      <td>...</td>\n",
       "      <td>0.08960</td>\n",
       "      <td>0.04928</td>\n",
       "      <td>0.05824</td>\n",
       "      <td>0.05824</td>\n",
       "      <td>0.04928</td>\n",
       "      <td>0.08064</td>\n",
       "      <td>0.11200</td>\n",
       "      <td>0.08512</td>\n",
       "      <td>0.10304</td>\n",
       "      <td>0.08064</td>\n",
       "    </tr>\n",
       "    <tr>\n",
       "      <th>599</th>\n",
       "      <td>0.05376</td>\n",
       "      <td>0.09856</td>\n",
       "      <td>0.06272</td>\n",
       "      <td>0.04928</td>\n",
       "      <td>0.17472</td>\n",
       "      <td>0.07168</td>\n",
       "      <td>0.10752</td>\n",
       "      <td>0.10304</td>\n",
       "      <td>0.12096</td>\n",
       "      <td>0.10304</td>\n",
       "      <td>...</td>\n",
       "      <td>0.09408</td>\n",
       "      <td>0.06720</td>\n",
       "      <td>0.06272</td>\n",
       "      <td>0.05824</td>\n",
       "      <td>0.06272</td>\n",
       "      <td>0.07616</td>\n",
       "      <td>0.12544</td>\n",
       "      <td>0.08960</td>\n",
       "      <td>0.10304</td>\n",
       "      <td>0.08512</td>\n",
       "    </tr>\n",
       "  </tbody>\n",
       "</table>\n",
       "<p>600 rows × 200 columns</p>\n",
       "</div>"
      ],
      "text/plain": [
       "         0        1        2        3        4        5        6        7    \\\n",
       "0    0.00448  0.01792  0.00000  0.02240  0.02240  0.00448  0.03584  0.00000   \n",
       "1    0.00448  0.01792  0.00000  0.01792  0.01792  0.00448  0.03584  0.00000   \n",
       "2    0.01344  0.02240  0.00448  0.00448  0.00448  0.00000  0.01344  0.00448   \n",
       "3    0.00448  0.01344  0.00896  0.00448  0.00000  0.00000  0.00000  0.00448   \n",
       "4    0.01344  0.02240  0.01344  0.00448  0.00896  0.00448  0.00896  0.00448   \n",
       "..       ...      ...      ...      ...      ...      ...      ...      ...   \n",
       "595  0.03584  0.12096  0.06272  0.04032  0.14784  0.07168  0.12544  0.10752   \n",
       "596  0.04480  0.12992  0.06272  0.04032  0.17024  0.08064  0.12544  0.09856   \n",
       "597  0.03584  0.12544  0.07168  0.04928  0.17472  0.07168  0.12096  0.10304   \n",
       "598  0.05376  0.09856  0.06720  0.04480  0.15680  0.05824  0.11200  0.10304   \n",
       "599  0.05376  0.09856  0.06272  0.04928  0.17472  0.07168  0.10752  0.10304   \n",
       "\n",
       "         8        9    ...      190      191      192      193      194  \\\n",
       "0    0.01792  0.03136  ...  0.00000  0.04032  0.00000  0.00448  0.01344   \n",
       "1    0.01792  0.03136  ...  0.00000  0.03584  0.00448  0.00448  0.01344   \n",
       "2    0.00896  0.01344  ...  0.00448  0.01344  0.00448  0.00896  0.01344   \n",
       "3    0.00448  0.00448  ...  0.00000  0.00896  0.00448  0.00896  0.00448   \n",
       "4    0.00896  0.01344  ...  0.00896  0.01344  0.01344  0.01344  0.01344   \n",
       "..       ...      ...  ...      ...      ...      ...      ...      ...   \n",
       "595  0.11648  0.14336  ...  0.08960  0.06720  0.05824  0.07168  0.06272   \n",
       "596  0.12992  0.13440  ...  0.08960  0.07616  0.04928  0.07168  0.05376   \n",
       "597  0.12096  0.10752  ...  0.09408  0.06720  0.05824  0.05824  0.05376   \n",
       "598  0.11200  0.09408  ...  0.08960  0.04928  0.05824  0.05824  0.04928   \n",
       "599  0.12096  0.10304  ...  0.09408  0.06720  0.06272  0.05824  0.06272   \n",
       "\n",
       "         195      196      197      198      199  \n",
       "0    0.01344  0.01344  0.00448  0.03584  0.00000  \n",
       "1    0.01344  0.01344  0.00000  0.03136  0.00000  \n",
       "2    0.01792  0.01344  0.00448  0.01344  0.00448  \n",
       "3    0.00896  0.00896  0.00000  0.00896  0.00448  \n",
       "4    0.01792  0.01344  0.00448  0.01344  0.00896  \n",
       "..       ...      ...      ...      ...      ...  \n",
       "595  0.08512  0.09856  0.08512  0.11200  0.08512  \n",
       "596  0.08064  0.10304  0.07616  0.10752  0.07616  \n",
       "597  0.07616  0.11200  0.08960  0.10752  0.07616  \n",
       "598  0.08064  0.11200  0.08512  0.10304  0.08064  \n",
       "599  0.07616  0.12544  0.08960  0.10304  0.08512  \n",
       "\n",
       "[600 rows x 200 columns]"
      ]
     },
     "execution_count": 117,
     "metadata": {},
     "output_type": "execute_result"
    }
   ],
   "source": [
    "df5p1 = df5.iloc[:600]\n",
    "df5p1"
   ]
  },
  {
   "cell_type": "code",
   "execution_count": 118,
   "id": "fa09b3ff",
   "metadata": {},
   "outputs": [
    {
     "data": {
      "text/plain": [
       "0      0.016554\n",
       "1      0.015635\n",
       "2      0.010506\n",
       "3      0.005174\n",
       "4      0.011670\n",
       "         ...   \n",
       "595    0.078288\n",
       "596    0.076832\n",
       "597    0.077661\n",
       "598    0.076832\n",
       "599    0.076182\n",
       "Length: 600, dtype: float64"
      ]
     },
     "execution_count": 118,
     "metadata": {},
     "output_type": "execute_result"
    }
   ],
   "source": [
    "np.mean(df5p1, axis=1)"
   ]
  },
  {
   "cell_type": "code",
   "execution_count": 119,
   "id": "e0441c11",
   "metadata": {},
   "outputs": [
    {
     "data": {
      "image/png": "[encoded data removed]",
      "text/plain": [
       "<Figure size 864x432 with 1 Axes>"
      ]
     },
     "metadata": {
      "needs_background": "light"
     },
     "output_type": "display_data"
    }
   ],
   "source": [
    "plt.figure(figsize=(12,6))\n",
    "plt.plot(np.mean(df5p1, axis=1))\n",
    "plt.grid()\n",
    "plt.show()"
   ]
  },
  {
   "cell_type": "code",
   "execution_count": null,
   "id": "a5ea7976",
   "metadata": {},
   "outputs": [],
   "source": []
  },
  {
   "cell_type": "markdown",
   "id": "529c167c",
   "metadata": {},
   "source": [
    "## 3. Rise point of the curves"
   ]
  },
  {
   "cell_type": "code",
   "execution_count": 120,
   "id": "ff930a17",
   "metadata": {},
   "outputs": [],
   "source": [
    "raise_point = []\n",
    "\n",
    "for col in df5:\n",
    "    for i, val in enumerate(df5[col]):\n",
    "        if val > 1:\n",
    "            raise_point.append(i)\n",
    "            break"
   ]
  },
  {
   "cell_type": "code",
   "execution_count": 121,
   "id": "b1c290e1",
   "metadata": {},
   "outputs": [
    {
     "data": {
      "text/plain": [
       "672.875"
      ]
     },
     "execution_count": 121,
     "metadata": {},
     "output_type": "execute_result"
    }
   ],
   "source": [
    "np.mean(raise_point)"
   ]
  },
  {
   "cell_type": "code",
   "execution_count": 122,
   "id": "f59b9afc",
   "metadata": {},
   "outputs": [
    {
     "data": {
      "image/png": "[encoded data removed]",
      "text/plain": [
       "<Figure size 288x432 with 1 Axes>"
      ]
     },
     "metadata": {
      "needs_background": "light"
     },
     "output_type": "display_data"
    }
   ],
   "source": [
    "plt.figure(figsize=(4,6))\n",
    "plt.boxplot(raise_point)\n",
    "plt.grid()\n",
    "plt.show()"
   ]
  },
  {
   "cell_type": "markdown",
   "id": "e932eaaa",
   "metadata": {},
   "source": [
    "## 4. Maximum value of the curves"
   ]
  },
  {
   "cell_type": "code",
   "execution_count": 123,
   "id": "2ad51352",
   "metadata": {},
   "outputs": [],
   "source": [
    "max_values = []\n",
    "\n",
    "for col in df5:\n",
    "    max_values.append(max(df5[col]))"
   ]
  },
  {
   "cell_type": "code",
   "execution_count": 124,
   "id": "655febeb",
   "metadata": {
    "scrolled": false
   },
   "outputs": [
    {
     "data": {
      "text/plain": [
       "2.2490496"
      ]
     },
     "execution_count": 124,
     "metadata": {},
     "output_type": "execute_result"
    }
   ],
   "source": [
    "np.mean(max_values)"
   ]
  },
  {
   "cell_type": "code",
   "execution_count": 125,
   "id": "847ff654",
   "metadata": {},
   "outputs": [
    {
     "data": {
      "image/png": "[encoded data removed]",
      "text/plain": [
       "<Figure size 288x432 with 1 Axes>"
      ]
     },
     "metadata": {
      "needs_background": "light"
     },
     "output_type": "display_data"
    }
   ],
   "source": [
    "plt.figure(figsize=(4,6))\n",
    "plt.boxplot(max_values)\n",
    "plt.grid()\n",
    "plt.show()"
   ]
  },
  {
   "cell_type": "markdown",
   "id": "03892330",
   "metadata": {},
   "source": [
    "## 5. Detect too low curves in initial phase"
   ]
  },
  {
   "cell_type": "code",
   "execution_count": 97,
   "id": "baea4bb4",
   "metadata": {},
   "outputs": [],
   "source": [
    "p1low = []\n",
    "\n",
    "for col in df5[good_col]:\n",
    "    if (df5p1[df5p1<0.04][col].count() > 200) & (max(df5p1[col]) < 0.09):\n",
    "        p1low.append(col)"
   ]
  },
  {
   "cell_type": "code",
   "execution_count": 98,
   "id": "e8a81700",
   "metadata": {},
   "outputs": [
    {
     "data": {
      "text/plain": [
       "[182, 191, 225, 254, 258, 266, 268]"
      ]
     },
     "execution_count": 98,
     "metadata": {},
     "output_type": "execute_result"
    }
   ],
   "source": [
    "p1low"
   ]
  },
  {
   "cell_type": "code",
   "execution_count": 103,
   "id": "a0ecba4c",
   "metadata": {
    "scrolled": true
   },
   "outputs": [
    {
     "data": {
      "text/plain": [
       "[5,\n",
       " 9,\n",
       " 10,\n",
       " 13,\n",
       " 15,\n",
       " 16,\n",
       " 17,\n",
       " 18,\n",
       " 19,\n",
       " 20,\n",
       " 21,\n",
       " 22,\n",
       " 25,\n",
       " 28,\n",
       " 29,\n",
       " 30,\n",
       " 46,\n",
       " 106,\n",
       " 115,\n",
       " 117,\n",
       " 119,\n",
       " 120,\n",
       " 121,\n",
       " 125,\n",
       " 128,\n",
       " 130,\n",
       " 133,\n",
       " 136,\n",
       " 139,\n",
       " 141,\n",
       " 159,\n",
       " 160,\n",
       " 162,\n",
       " 165,\n",
       " 170,\n",
       " 171,\n",
       " 183,\n",
       " 184,\n",
       " 187,\n",
       " 190,\n",
       " 195,\n",
       " 197,\n",
       " 198,\n",
       " 205,\n",
       " 211,\n",
       " 213,\n",
       " 215,\n",
       " 216,\n",
       " 217,\n",
       " 218,\n",
       " 219,\n",
       " 221,\n",
       " 227,\n",
       " 228,\n",
       " 229,\n",
       " 230,\n",
       " 234,\n",
       " 236,\n",
       " 237,\n",
       " 242,\n",
       " 249,\n",
       " 260,\n",
       " 262,\n",
       " 182,\n",
       " 191,\n",
       " 225,\n",
       " 254,\n",
       " 258,\n",
       " 266,\n",
       " 268]"
      ]
     },
     "execution_count": 103,
     "metadata": {},
     "output_type": "execute_result"
    }
   ],
   "source": [
    "problem_col"
   ]
  },
  {
   "cell_type": "code",
   "execution_count": null,
   "id": "c5226ff9",
   "metadata": {},
   "outputs": [],
   "source": []
  },
  {
   "cell_type": "code",
   "execution_count": null,
   "id": "4d3c95ce",
   "metadata": {},
   "outputs": [],
   "source": []
  },
  {
   "cell_type": "markdown",
   "id": "1c15a53c",
   "metadata": {},
   "source": [
    "## 6. Rename files"
   ]
  },
  {
   "cell_type": "code",
   "execution_count": 104,
   "id": "75e57d7c",
   "metadata": {},
   "outputs": [],
   "source": [
    "def rename_csv(main_path, folder, fname_new, file_amount):\n",
    "    \n",
    "    for i in range(file_amount):\n",
    "        old = os.path.join(main_path, folder, os.listdir(main_path + folder)[i])\n",
    "        new = os.path.join(main_path, folder, fname_new + str(i) + \".csv\")\n",
    "        #print(i)\n",
    "        os.rename(old, new)"
   ]
  },
  {
   "cell_type": "code",
   "execution_count": 108,
   "id": "dbc044b3",
   "metadata": {},
   "outputs": [
    {
     "data": {
      "text/plain": [
       "'..\\\\Daten\\\\einzelne_klassen\\\\5_verschmutzte_schraube\\\\rename (1).csv'"
      ]
     },
     "execution_count": 108,
     "metadata": {},
     "output_type": "execute_result"
    }
   ],
   "source": [
    "old = os.path.join(main_path, class5, os.listdir(main_path + class5)[0])\n",
    "old"
   ]
  },
  {
   "cell_type": "code",
   "execution_count": 109,
   "id": "a5d5ce9a",
   "metadata": {},
   "outputs": [
    {
     "data": {
      "text/plain": [
       "'..\\\\Daten\\\\einzelne_klassen\\\\5_verschmutzte_schraube\\\\class5_0.csv'"
      ]
     },
     "execution_count": 109,
     "metadata": {},
     "output_type": "execute_result"
    }
   ],
   "source": [
    "new = os.path.join(main_path, class5, \"class5_\" + str(0) + \".csv\")\n",
    "new"
   ]
  },
  {
   "cell_type": "code",
   "execution_count": 110,
   "id": "f0edacbb",
   "metadata": {},
   "outputs": [],
   "source": [
    "#rename_csv(main_path, class5, \"class5_\", file_amount=200)"
   ]
  },
  {
   "cell_type": "code",
   "execution_count": null,
   "id": "947d9a69",
   "metadata": {},
   "outputs": [],
   "source": []
  }
 ],
 "metadata": {
  "kernelspec": {
   "display_name": "Python 3 (ipykernel)",
   "language": "python",
   "name": "python3"
  },
  "language_info": {
   "codemirror_mode": {
    "name": "ipython",
    "version": 3
   },
   "file_extension": ".py",
   "mimetype": "text/x-python",
   "name": "python",
   "nbconvert_exporter": "python",
   "pygments_lexer": "ipython3",
   "version": "3.9.12"
  }
 },
 "nbformat": 4,
 "nbformat_minor": 5
}
